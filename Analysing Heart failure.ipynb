{
 "cells": [
  {
   "cell_type": "markdown",
   "metadata": {},
   "source": [
    "# Introduction\n",
    "## About - Dataset:\n",
    "Cardiovascular diseases kill approximately 17 million people globally every year and they mainly exhibit as myocardial infarctions and heart failures. Heart failure (HF) occurs when the heart cannot pump enough blood to meet the needs of the body. In this project, we analyze a dataset containing the medical records of 299 heart failure patients collected at the Faisalabad Institute of Cardiology and at the Allied Hospital in Faisalabad (Punjab - Pakistan) during the months of April - December in 2015. It consists of 105 women and 194 men with their ages range between 40 and 95 years old. All 299 patients had left ventricular systolic dysfunction and had previous heart failures. This dataset contains 13 features, which reports clinical, body and lifestyle information of a patient namely Age, Anaemia, High Blood Pressure, Creatinine Phosphokinase (CPK), Diabetes, Ejection Fraction, Sex, Platelets, Serum Creatinine, Serum Sodium, Smoking Habit etc.\n",
    "\n",
    "## About - Project:\n",
    "In this project, we'll analyse the relationship between the different features of the heart failure patient included in this dataset namely the distribution of age among the patients, death rate, percentage of male and female patients, variation in the platelets amount, creatinine and sodium level in the blood. The graphical representation and visualisation of data using matplotlib and seaborn library in python helps us to easily understand a lot better about the dataset.\n",
    "\n",
    "## Dataset - Source:\n",
    "The dataset is obtained from Kaggle.\n",
    "\n",
    "https://www.kaggle.com/datasets/andrewmvd/heart-failure-clinical-data\n",
    "\n",
    "The dataset consist of column names (attributes) which doesn't provide complete information regarding the data recorded, so we have to refer to the another table / websites to see the complete information regarding the attributes (column names) including measurement units and normal level, if required.\n",
    "\n",
    "## Downloading the Dataset:\n",
    "There are several options for getting the dataset into Jupyter:\n",
    "\n",
    "1. Download the CSV manually and upload it via Jupyter's GUI\n",
    "\n",
    "2. Use the urlretrieve function from the urllib.request to download CSV files from a raw URL\n",
    "\n",
    "3. Use a helper library, e.g., opendatasets, which contains a collection of curated datasets and provides a helper function for direct download.\n",
    "\n",
    "I used the opendatasets helper library to download the files from Kaggle using my username and API key. "
   ]
  },
  {
   "cell_type": "code",
   "execution_count": 1,
   "metadata": {},
   "outputs": [
    {
     "name": "stdout",
     "output_type": "stream",
     "text": [
      "Note: you may need to restart the kernel to use updated packages.\n"
     ]
    }
   ],
   "source": [
    "pip install opendatasets --upgrade --quiet  # --quiet removes the output from pip command"
   ]
  },
  {
   "cell_type": "code",
   "execution_count": 1,
   "metadata": {},
   "outputs": [
    {
     "name": "stdout",
     "output_type": "stream",
     "text": [
      "Please provide your Kaggle credentials to download this dataset. Learn more: http://bit.ly/kaggle-creds\n",
      "Your Kaggle username: rishavrishav\n",
      "Your Kaggle Key: ········\n"
     ]
    },
    {
     "name": "stderr",
     "output_type": "stream",
     "text": [
      "100%|██████████| 3.97k/3.97k [00:00<00:00, 1.29MB/s]"
     ]
    },
    {
     "name": "stdout",
     "output_type": "stream",
     "text": [
      "Downloading heart-failure-clinical-data.zip to ./heart-failure-clinical-data\n",
      "\n"
     ]
    },
    {
     "name": "stderr",
     "output_type": "stream",
     "text": [
      "\n"
     ]
    }
   ],
   "source": [
    "import opendatasets as od\n",
    "\n",
    "download_url = 'https://www.kaggle.com/datasets/andrewmvd/heart-failure-clinical-data'\n",
    "\n",
    "od.download(download_url)"
   ]
  },
  {
   "cell_type": "code",
   "execution_count": 2,
   "metadata": {},
   "outputs": [],
   "source": [
    "data_filename = './heart-failure-clinical-data/heart_failure_clinical_records_dataset.csv'"
   ]
  },
  {
   "cell_type": "code",
   "execution_count": 5,
   "metadata": {},
   "outputs": [],
   "source": [
    "import pandas as pd\n",
    "import numpy as np"
   ]
  },
  {
   "cell_type": "code",
   "execution_count": 6,
   "metadata": {
    "scrolled": true
   },
   "outputs": [
    {
     "data": {
      "text/html": [
       "<div>\n",
       "<style scoped>\n",
       "    .dataframe tbody tr th:only-of-type {\n",
       "        vertical-align: middle;\n",
       "    }\n",
       "\n",
       "    .dataframe tbody tr th {\n",
       "        vertical-align: top;\n",
       "    }\n",
       "\n",
       "    .dataframe thead th {\n",
       "        text-align: right;\n",
       "    }\n",
       "</style>\n",
       "<table border=\"1\" class=\"dataframe\">\n",
       "  <thead>\n",
       "    <tr style=\"text-align: right;\">\n",
       "      <th></th>\n",
       "      <th>age</th>\n",
       "      <th>anaemia</th>\n",
       "      <th>creatinine_phosphokinase</th>\n",
       "      <th>diabetes</th>\n",
       "      <th>ejection_fraction</th>\n",
       "      <th>high_blood_pressure</th>\n",
       "      <th>platelets</th>\n",
       "      <th>serum_creatinine</th>\n",
       "      <th>serum_sodium</th>\n",
       "      <th>sex</th>\n",
       "      <th>smoking</th>\n",
       "      <th>time</th>\n",
       "      <th>DEATH_EVENT</th>\n",
       "    </tr>\n",
       "  </thead>\n",
       "  <tbody>\n",
       "    <tr>\n",
       "      <th>0</th>\n",
       "      <td>75.0</td>\n",
       "      <td>0</td>\n",
       "      <td>582</td>\n",
       "      <td>0</td>\n",
       "      <td>20</td>\n",
       "      <td>1</td>\n",
       "      <td>265000.00</td>\n",
       "      <td>1.9</td>\n",
       "      <td>130</td>\n",
       "      <td>1</td>\n",
       "      <td>0</td>\n",
       "      <td>4</td>\n",
       "      <td>1</td>\n",
       "    </tr>\n",
       "    <tr>\n",
       "      <th>1</th>\n",
       "      <td>55.0</td>\n",
       "      <td>0</td>\n",
       "      <td>7861</td>\n",
       "      <td>0</td>\n",
       "      <td>38</td>\n",
       "      <td>0</td>\n",
       "      <td>263358.03</td>\n",
       "      <td>1.1</td>\n",
       "      <td>136</td>\n",
       "      <td>1</td>\n",
       "      <td>0</td>\n",
       "      <td>6</td>\n",
       "      <td>1</td>\n",
       "    </tr>\n",
       "    <tr>\n",
       "      <th>2</th>\n",
       "      <td>65.0</td>\n",
       "      <td>0</td>\n",
       "      <td>146</td>\n",
       "      <td>0</td>\n",
       "      <td>20</td>\n",
       "      <td>0</td>\n",
       "      <td>162000.00</td>\n",
       "      <td>1.3</td>\n",
       "      <td>129</td>\n",
       "      <td>1</td>\n",
       "      <td>1</td>\n",
       "      <td>7</td>\n",
       "      <td>1</td>\n",
       "    </tr>\n",
       "    <tr>\n",
       "      <th>3</th>\n",
       "      <td>50.0</td>\n",
       "      <td>1</td>\n",
       "      <td>111</td>\n",
       "      <td>0</td>\n",
       "      <td>20</td>\n",
       "      <td>0</td>\n",
       "      <td>210000.00</td>\n",
       "      <td>1.9</td>\n",
       "      <td>137</td>\n",
       "      <td>1</td>\n",
       "      <td>0</td>\n",
       "      <td>7</td>\n",
       "      <td>1</td>\n",
       "    </tr>\n",
       "    <tr>\n",
       "      <th>4</th>\n",
       "      <td>65.0</td>\n",
       "      <td>1</td>\n",
       "      <td>160</td>\n",
       "      <td>1</td>\n",
       "      <td>20</td>\n",
       "      <td>0</td>\n",
       "      <td>327000.00</td>\n",
       "      <td>2.7</td>\n",
       "      <td>116</td>\n",
       "      <td>0</td>\n",
       "      <td>0</td>\n",
       "      <td>8</td>\n",
       "      <td>1</td>\n",
       "    </tr>\n",
       "    <tr>\n",
       "      <th>...</th>\n",
       "      <td>...</td>\n",
       "      <td>...</td>\n",
       "      <td>...</td>\n",
       "      <td>...</td>\n",
       "      <td>...</td>\n",
       "      <td>...</td>\n",
       "      <td>...</td>\n",
       "      <td>...</td>\n",
       "      <td>...</td>\n",
       "      <td>...</td>\n",
       "      <td>...</td>\n",
       "      <td>...</td>\n",
       "      <td>...</td>\n",
       "    </tr>\n",
       "    <tr>\n",
       "      <th>294</th>\n",
       "      <td>62.0</td>\n",
       "      <td>0</td>\n",
       "      <td>61</td>\n",
       "      <td>1</td>\n",
       "      <td>38</td>\n",
       "      <td>1</td>\n",
       "      <td>155000.00</td>\n",
       "      <td>1.1</td>\n",
       "      <td>143</td>\n",
       "      <td>1</td>\n",
       "      <td>1</td>\n",
       "      <td>270</td>\n",
       "      <td>0</td>\n",
       "    </tr>\n",
       "    <tr>\n",
       "      <th>295</th>\n",
       "      <td>55.0</td>\n",
       "      <td>0</td>\n",
       "      <td>1820</td>\n",
       "      <td>0</td>\n",
       "      <td>38</td>\n",
       "      <td>0</td>\n",
       "      <td>270000.00</td>\n",
       "      <td>1.2</td>\n",
       "      <td>139</td>\n",
       "      <td>0</td>\n",
       "      <td>0</td>\n",
       "      <td>271</td>\n",
       "      <td>0</td>\n",
       "    </tr>\n",
       "    <tr>\n",
       "      <th>296</th>\n",
       "      <td>45.0</td>\n",
       "      <td>0</td>\n",
       "      <td>2060</td>\n",
       "      <td>1</td>\n",
       "      <td>60</td>\n",
       "      <td>0</td>\n",
       "      <td>742000.00</td>\n",
       "      <td>0.8</td>\n",
       "      <td>138</td>\n",
       "      <td>0</td>\n",
       "      <td>0</td>\n",
       "      <td>278</td>\n",
       "      <td>0</td>\n",
       "    </tr>\n",
       "    <tr>\n",
       "      <th>297</th>\n",
       "      <td>45.0</td>\n",
       "      <td>0</td>\n",
       "      <td>2413</td>\n",
       "      <td>0</td>\n",
       "      <td>38</td>\n",
       "      <td>0</td>\n",
       "      <td>140000.00</td>\n",
       "      <td>1.4</td>\n",
       "      <td>140</td>\n",
       "      <td>1</td>\n",
       "      <td>1</td>\n",
       "      <td>280</td>\n",
       "      <td>0</td>\n",
       "    </tr>\n",
       "    <tr>\n",
       "      <th>298</th>\n",
       "      <td>50.0</td>\n",
       "      <td>0</td>\n",
       "      <td>196</td>\n",
       "      <td>0</td>\n",
       "      <td>45</td>\n",
       "      <td>0</td>\n",
       "      <td>395000.00</td>\n",
       "      <td>1.6</td>\n",
       "      <td>136</td>\n",
       "      <td>1</td>\n",
       "      <td>1</td>\n",
       "      <td>285</td>\n",
       "      <td>0</td>\n",
       "    </tr>\n",
       "  </tbody>\n",
       "</table>\n",
       "<p>299 rows × 13 columns</p>\n",
       "</div>"
      ],
      "text/plain": [
       "      age  anaemia  creatinine_phosphokinase  diabetes  ejection_fraction  \\\n",
       "0    75.0        0                       582         0                 20   \n",
       "1    55.0        0                      7861         0                 38   \n",
       "2    65.0        0                       146         0                 20   \n",
       "3    50.0        1                       111         0                 20   \n",
       "4    65.0        1                       160         1                 20   \n",
       "..    ...      ...                       ...       ...                ...   \n",
       "294  62.0        0                        61         1                 38   \n",
       "295  55.0        0                      1820         0                 38   \n",
       "296  45.0        0                      2060         1                 60   \n",
       "297  45.0        0                      2413         0                 38   \n",
       "298  50.0        0                       196         0                 45   \n",
       "\n",
       "     high_blood_pressure  platelets  serum_creatinine  serum_sodium  sex  \\\n",
       "0                      1  265000.00               1.9           130    1   \n",
       "1                      0  263358.03               1.1           136    1   \n",
       "2                      0  162000.00               1.3           129    1   \n",
       "3                      0  210000.00               1.9           137    1   \n",
       "4                      0  327000.00               2.7           116    0   \n",
       "..                   ...        ...               ...           ...  ...   \n",
       "294                    1  155000.00               1.1           143    1   \n",
       "295                    0  270000.00               1.2           139    0   \n",
       "296                    0  742000.00               0.8           138    0   \n",
       "297                    0  140000.00               1.4           140    1   \n",
       "298                    0  395000.00               1.6           136    1   \n",
       "\n",
       "     smoking  time  DEATH_EVENT  \n",
       "0          0     4            1  \n",
       "1          0     6            1  \n",
       "2          1     7            1  \n",
       "3          0     7            1  \n",
       "4          0     8            1  \n",
       "..       ...   ...          ...  \n",
       "294        1   270            0  \n",
       "295        0   271            0  \n",
       "296        0   278            0  \n",
       "297        1   280            0  \n",
       "298        1   285            0  \n",
       "\n",
       "[299 rows x 13 columns]"
      ]
     },
     "execution_count": 6,
     "metadata": {},
     "output_type": "execute_result"
    }
   ],
   "source": [
    "#convert the csv file into pandas data frame \n",
    "heart_failure_raw_df = pd.read_csv(data_filename)\n",
    "\n",
    "#let's extract a copy of raw df to keep the raw df unaffected / untouched \n",
    "heart_failure_df = heart_failure_raw_df.copy()\n",
    "\n",
    "heart_failure_df "
   ]
  },
  {
   "cell_type": "markdown",
   "metadata": {},
   "source": [
    "We can easily identify from the above pandas data frame that the responses have been anonymized to remove personally identifiable information (PII) like name, address etc.\n",
    "\n",
    "Let's modify our \"heart_failure_df\" data frame by dropping unnecessary columns / rows, renaming the column names, changing the data type of column and so on."
   ]
  },
  {
   "cell_type": "code",
   "execution_count": 7,
   "metadata": {},
   "outputs": [
    {
     "data": {
      "text/html": [
       "<div>\n",
       "<style scoped>\n",
       "    .dataframe tbody tr th:only-of-type {\n",
       "        vertical-align: middle;\n",
       "    }\n",
       "\n",
       "    .dataframe tbody tr th {\n",
       "        vertical-align: top;\n",
       "    }\n",
       "\n",
       "    .dataframe thead th {\n",
       "        text-align: right;\n",
       "    }\n",
       "</style>\n",
       "<table border=\"1\" class=\"dataframe\">\n",
       "  <thead>\n",
       "    <tr style=\"text-align: right;\">\n",
       "      <th></th>\n",
       "      <th>age</th>\n",
       "      <th>anaemia</th>\n",
       "      <th>creatinine_phosphokinase</th>\n",
       "      <th>diabetes</th>\n",
       "      <th>ejection_fraction</th>\n",
       "      <th>high_blood_pressure</th>\n",
       "      <th>platelets</th>\n",
       "      <th>serum_creatinine</th>\n",
       "      <th>serum_sodium</th>\n",
       "      <th>sex</th>\n",
       "      <th>smoking</th>\n",
       "      <th>patient_dead</th>\n",
       "    </tr>\n",
       "  </thead>\n",
       "  <tbody>\n",
       "    <tr>\n",
       "      <th>0</th>\n",
       "      <td>75</td>\n",
       "      <td>False</td>\n",
       "      <td>582</td>\n",
       "      <td>False</td>\n",
       "      <td>20</td>\n",
       "      <td>True</td>\n",
       "      <td>265</td>\n",
       "      <td>1.9</td>\n",
       "      <td>130</td>\n",
       "      <td>Male</td>\n",
       "      <td>False</td>\n",
       "      <td>True</td>\n",
       "    </tr>\n",
       "    <tr>\n",
       "      <th>1</th>\n",
       "      <td>55</td>\n",
       "      <td>False</td>\n",
       "      <td>7861</td>\n",
       "      <td>False</td>\n",
       "      <td>38</td>\n",
       "      <td>False</td>\n",
       "      <td>263</td>\n",
       "      <td>1.1</td>\n",
       "      <td>136</td>\n",
       "      <td>Male</td>\n",
       "      <td>False</td>\n",
       "      <td>True</td>\n",
       "    </tr>\n",
       "    <tr>\n",
       "      <th>2</th>\n",
       "      <td>65</td>\n",
       "      <td>False</td>\n",
       "      <td>146</td>\n",
       "      <td>False</td>\n",
       "      <td>20</td>\n",
       "      <td>False</td>\n",
       "      <td>162</td>\n",
       "      <td>1.3</td>\n",
       "      <td>129</td>\n",
       "      <td>Male</td>\n",
       "      <td>True</td>\n",
       "      <td>True</td>\n",
       "    </tr>\n",
       "    <tr>\n",
       "      <th>3</th>\n",
       "      <td>50</td>\n",
       "      <td>True</td>\n",
       "      <td>111</td>\n",
       "      <td>False</td>\n",
       "      <td>20</td>\n",
       "      <td>False</td>\n",
       "      <td>210</td>\n",
       "      <td>1.9</td>\n",
       "      <td>137</td>\n",
       "      <td>Male</td>\n",
       "      <td>False</td>\n",
       "      <td>True</td>\n",
       "    </tr>\n",
       "    <tr>\n",
       "      <th>4</th>\n",
       "      <td>65</td>\n",
       "      <td>True</td>\n",
       "      <td>160</td>\n",
       "      <td>True</td>\n",
       "      <td>20</td>\n",
       "      <td>False</td>\n",
       "      <td>327</td>\n",
       "      <td>2.7</td>\n",
       "      <td>116</td>\n",
       "      <td>Female</td>\n",
       "      <td>False</td>\n",
       "      <td>True</td>\n",
       "    </tr>\n",
       "    <tr>\n",
       "      <th>...</th>\n",
       "      <td>...</td>\n",
       "      <td>...</td>\n",
       "      <td>...</td>\n",
       "      <td>...</td>\n",
       "      <td>...</td>\n",
       "      <td>...</td>\n",
       "      <td>...</td>\n",
       "      <td>...</td>\n",
       "      <td>...</td>\n",
       "      <td>...</td>\n",
       "      <td>...</td>\n",
       "      <td>...</td>\n",
       "    </tr>\n",
       "    <tr>\n",
       "      <th>294</th>\n",
       "      <td>62</td>\n",
       "      <td>False</td>\n",
       "      <td>61</td>\n",
       "      <td>True</td>\n",
       "      <td>38</td>\n",
       "      <td>True</td>\n",
       "      <td>155</td>\n",
       "      <td>1.1</td>\n",
       "      <td>143</td>\n",
       "      <td>Male</td>\n",
       "      <td>True</td>\n",
       "      <td>False</td>\n",
       "    </tr>\n",
       "    <tr>\n",
       "      <th>295</th>\n",
       "      <td>55</td>\n",
       "      <td>False</td>\n",
       "      <td>1820</td>\n",
       "      <td>False</td>\n",
       "      <td>38</td>\n",
       "      <td>False</td>\n",
       "      <td>270</td>\n",
       "      <td>1.2</td>\n",
       "      <td>139</td>\n",
       "      <td>Female</td>\n",
       "      <td>False</td>\n",
       "      <td>False</td>\n",
       "    </tr>\n",
       "    <tr>\n",
       "      <th>296</th>\n",
       "      <td>45</td>\n",
       "      <td>False</td>\n",
       "      <td>2060</td>\n",
       "      <td>True</td>\n",
       "      <td>60</td>\n",
       "      <td>False</td>\n",
       "      <td>742</td>\n",
       "      <td>0.8</td>\n",
       "      <td>138</td>\n",
       "      <td>Female</td>\n",
       "      <td>False</td>\n",
       "      <td>False</td>\n",
       "    </tr>\n",
       "    <tr>\n",
       "      <th>297</th>\n",
       "      <td>45</td>\n",
       "      <td>False</td>\n",
       "      <td>2413</td>\n",
       "      <td>False</td>\n",
       "      <td>38</td>\n",
       "      <td>False</td>\n",
       "      <td>140</td>\n",
       "      <td>1.4</td>\n",
       "      <td>140</td>\n",
       "      <td>Male</td>\n",
       "      <td>True</td>\n",
       "      <td>False</td>\n",
       "    </tr>\n",
       "    <tr>\n",
       "      <th>298</th>\n",
       "      <td>50</td>\n",
       "      <td>False</td>\n",
       "      <td>196</td>\n",
       "      <td>False</td>\n",
       "      <td>45</td>\n",
       "      <td>False</td>\n",
       "      <td>395</td>\n",
       "      <td>1.6</td>\n",
       "      <td>136</td>\n",
       "      <td>Male</td>\n",
       "      <td>True</td>\n",
       "      <td>False</td>\n",
       "    </tr>\n",
       "  </tbody>\n",
       "</table>\n",
       "<p>299 rows × 12 columns</p>\n",
       "</div>"
      ],
      "text/plain": [
       "     age  anaemia  creatinine_phosphokinase  diabetes  ejection_fraction  \\\n",
       "0     75    False                       582     False                 20   \n",
       "1     55    False                      7861     False                 38   \n",
       "2     65    False                       146     False                 20   \n",
       "3     50     True                       111     False                 20   \n",
       "4     65     True                       160      True                 20   \n",
       "..   ...      ...                       ...       ...                ...   \n",
       "294   62    False                        61      True                 38   \n",
       "295   55    False                      1820     False                 38   \n",
       "296   45    False                      2060      True                 60   \n",
       "297   45    False                      2413     False                 38   \n",
       "298   50    False                       196     False                 45   \n",
       "\n",
       "     high_blood_pressure  platelets  serum_creatinine  serum_sodium     sex  \\\n",
       "0                   True        265               1.9           130    Male   \n",
       "1                  False        263               1.1           136    Male   \n",
       "2                  False        162               1.3           129    Male   \n",
       "3                  False        210               1.9           137    Male   \n",
       "4                  False        327               2.7           116  Female   \n",
       "..                   ...        ...               ...           ...     ...   \n",
       "294                 True        155               1.1           143    Male   \n",
       "295                False        270               1.2           139  Female   \n",
       "296                False        742               0.8           138  Female   \n",
       "297                False        140               1.4           140    Male   \n",
       "298                False        395               1.6           136    Male   \n",
       "\n",
       "     smoking  patient_dead  \n",
       "0      False          True  \n",
       "1      False          True  \n",
       "2       True          True  \n",
       "3      False          True  \n",
       "4      False          True  \n",
       "..       ...           ...  \n",
       "294     True         False  \n",
       "295    False         False  \n",
       "296    False         False  \n",
       "297     True         False  \n",
       "298     True         False  \n",
       "\n",
       "[299 rows x 12 columns]"
      ]
     },
     "execution_count": 7,
     "metadata": {},
     "output_type": "execute_result"
    }
   ],
   "source": [
    "#renaming DEATH_EVENT as patient_dead for my convenience \n",
    "heart_failure_df.rename(columns = {'DEATH_EVENT':'patient_dead'}, inplace = True)\n",
    "\n",
    "#drop the time column which is not necessary for our analysis \n",
    "heart_failure_df.drop(['time'],axis=1, inplace =True, errors = 'ignore')\n",
    "\n",
    "#changing the data type of age column from float to int\n",
    "heart_failure_df.age = heart_failure_df.age.astype(int)\n",
    "\n",
    "#changing the data type of following columns to bool type for our convenience \n",
    "heart_failure_df[['anaemia','diabetes','high_blood_pressure', 'smoking', 'patient_dead']] = heart_failure_df[['anaemia','diabetes', 'high_blood_pressure', 'smoking', 'patient_dead']].astype(bool)\n",
    "\n",
    "#changing the value of sex column to male or female\n",
    "heart_failure_df['sex'] = np.where(heart_failure_df['sex'] == 1, 'Male','Female')\n",
    "\n",
    "#to convert the platelet-count into kilo-platelets/mcL \n",
    "heart_failure_df.platelets = (heart_failure_df. platelets/1000).astype(int)\n",
    "\n",
    "heart_failure_df "
   ]
  },
  {
   "cell_type": "markdown",
   "metadata": {},
   "source": [
    "#### Check for null values in the data frame\n",
    "\n",
    "isna().any() function returns 'True', if there's any null (Nan) value in data frame and returns False if there's no null value."
   ]
  },
  {
   "cell_type": "code",
   "execution_count": 8,
   "metadata": {},
   "outputs": [
    {
     "data": {
      "text/plain": [
       "age                         False\n",
       "anaemia                     False\n",
       "creatinine_phosphokinase    False\n",
       "diabetes                    False\n",
       "ejection_fraction           False\n",
       "high_blood_pressure         False\n",
       "platelets                   False\n",
       "serum_creatinine            False\n",
       "serum_sodium                False\n",
       "sex                         False\n",
       "smoking                     False\n",
       "patient_dead                False\n",
       "dtype: bool"
      ]
     },
     "execution_count": 8,
     "metadata": {},
     "output_type": "execute_result"
    }
   ],
   "source": [
    "#checking for NaN values \n",
    "heart_failure_df.isnull().any()"
   ]
  },
  {
   "cell_type": "markdown",
   "metadata": {},
   "source": [
    "From the above result, it's clear that there's no null values present in our data frame. We can also check whether a column has null value or not using info() function."
   ]
  },
  {
   "cell_type": "code",
   "execution_count": 9,
   "metadata": {},
   "outputs": [
    {
     "name": "stdout",
     "output_type": "stream",
     "text": [
      "<class 'pandas.core.frame.DataFrame'>\n",
      "RangeIndex: 299 entries, 0 to 298\n",
      "Data columns (total 12 columns):\n",
      " #   Column                    Non-Null Count  Dtype  \n",
      "---  ------                    --------------  -----  \n",
      " 0   age                       299 non-null    int64  \n",
      " 1   anaemia                   299 non-null    bool   \n",
      " 2   creatinine_phosphokinase  299 non-null    int64  \n",
      " 3   diabetes                  299 non-null    bool   \n",
      " 4   ejection_fraction         299 non-null    int64  \n",
      " 5   high_blood_pressure       299 non-null    bool   \n",
      " 6   platelets                 299 non-null    int64  \n",
      " 7   serum_creatinine          299 non-null    float64\n",
      " 8   serum_sodium              299 non-null    int64  \n",
      " 9   sex                       299 non-null    object \n",
      " 10  smoking                   299 non-null    bool   \n",
      " 11  patient_dead              299 non-null    bool   \n",
      "dtypes: bool(5), float64(1), int64(5), object(1)\n",
      "memory usage: 17.9+ KB\n"
     ]
    }
   ],
   "source": [
    "heart_failure_df.info()"
   ]
  },
  {
   "cell_type": "code",
   "execution_count": 10,
   "metadata": {},
   "outputs": [
    {
     "data": {
      "text/html": [
       "<div>\n",
       "<style scoped>\n",
       "    .dataframe tbody tr th:only-of-type {\n",
       "        vertical-align: middle;\n",
       "    }\n",
       "\n",
       "    .dataframe tbody tr th {\n",
       "        vertical-align: top;\n",
       "    }\n",
       "\n",
       "    .dataframe thead th {\n",
       "        text-align: right;\n",
       "    }\n",
       "</style>\n",
       "<table border=\"1\" class=\"dataframe\">\n",
       "  <thead>\n",
       "    <tr style=\"text-align: right;\">\n",
       "      <th></th>\n",
       "      <th>age</th>\n",
       "      <th>creatinine_phosphokinase</th>\n",
       "      <th>ejection_fraction</th>\n",
       "      <th>platelets</th>\n",
       "      <th>serum_creatinine</th>\n",
       "      <th>serum_sodium</th>\n",
       "    </tr>\n",
       "  </thead>\n",
       "  <tbody>\n",
       "    <tr>\n",
       "      <th>count</th>\n",
       "      <td>299.000000</td>\n",
       "      <td>299.000000</td>\n",
       "      <td>299.000000</td>\n",
       "      <td>299.000000</td>\n",
       "      <td>299.00000</td>\n",
       "      <td>299.000000</td>\n",
       "    </tr>\n",
       "    <tr>\n",
       "      <th>mean</th>\n",
       "      <td>60.829431</td>\n",
       "      <td>581.839465</td>\n",
       "      <td>38.083612</td>\n",
       "      <td>263.327759</td>\n",
       "      <td>1.39388</td>\n",
       "      <td>136.625418</td>\n",
       "    </tr>\n",
       "    <tr>\n",
       "      <th>std</th>\n",
       "      <td>11.894997</td>\n",
       "      <td>970.287881</td>\n",
       "      <td>11.834841</td>\n",
       "      <td>97.805105</td>\n",
       "      <td>1.03451</td>\n",
       "      <td>4.412477</td>\n",
       "    </tr>\n",
       "    <tr>\n",
       "      <th>min</th>\n",
       "      <td>40.000000</td>\n",
       "      <td>23.000000</td>\n",
       "      <td>14.000000</td>\n",
       "      <td>25.000000</td>\n",
       "      <td>0.50000</td>\n",
       "      <td>113.000000</td>\n",
       "    </tr>\n",
       "    <tr>\n",
       "      <th>25%</th>\n",
       "      <td>51.000000</td>\n",
       "      <td>116.500000</td>\n",
       "      <td>30.000000</td>\n",
       "      <td>212.500000</td>\n",
       "      <td>0.90000</td>\n",
       "      <td>134.000000</td>\n",
       "    </tr>\n",
       "    <tr>\n",
       "      <th>50%</th>\n",
       "      <td>60.000000</td>\n",
       "      <td>250.000000</td>\n",
       "      <td>38.000000</td>\n",
       "      <td>262.000000</td>\n",
       "      <td>1.10000</td>\n",
       "      <td>137.000000</td>\n",
       "    </tr>\n",
       "    <tr>\n",
       "      <th>75%</th>\n",
       "      <td>70.000000</td>\n",
       "      <td>582.000000</td>\n",
       "      <td>45.000000</td>\n",
       "      <td>303.500000</td>\n",
       "      <td>1.40000</td>\n",
       "      <td>140.000000</td>\n",
       "    </tr>\n",
       "    <tr>\n",
       "      <th>max</th>\n",
       "      <td>95.000000</td>\n",
       "      <td>7861.000000</td>\n",
       "      <td>80.000000</td>\n",
       "      <td>850.000000</td>\n",
       "      <td>9.40000</td>\n",
       "      <td>148.000000</td>\n",
       "    </tr>\n",
       "  </tbody>\n",
       "</table>\n",
       "</div>"
      ],
      "text/plain": [
       "              age  creatinine_phosphokinase  ejection_fraction   platelets  \\\n",
       "count  299.000000                299.000000         299.000000  299.000000   \n",
       "mean    60.829431                581.839465          38.083612  263.327759   \n",
       "std     11.894997                970.287881          11.834841   97.805105   \n",
       "min     40.000000                 23.000000          14.000000   25.000000   \n",
       "25%     51.000000                116.500000          30.000000  212.500000   \n",
       "50%     60.000000                250.000000          38.000000  262.000000   \n",
       "75%     70.000000                582.000000          45.000000  303.500000   \n",
       "max     95.000000               7861.000000          80.000000  850.000000   \n",
       "\n",
       "       serum_creatinine  serum_sodium  \n",
       "count         299.00000    299.000000  \n",
       "mean            1.39388    136.625418  \n",
       "std             1.03451      4.412477  \n",
       "min             0.50000    113.000000  \n",
       "25%             0.90000    134.000000  \n",
       "50%             1.10000    137.000000  \n",
       "75%             1.40000    140.000000  \n",
       "max             9.40000    148.000000  "
      ]
     },
     "execution_count": 10,
     "metadata": {},
     "output_type": "execute_result"
    }
   ],
   "source": [
    "heart_failure_df.describe()"
   ]
  },
  {
   "cell_type": "markdown",
   "metadata": {},
   "source": [
    "describe() function is used to find some basic statistical information regarding a data frame in pandas. It's normal that, the max age of patient recorded is 95 years and min age is 40 years. All other numeric value records found okay, but the maximum value of Creatinine Phosphokinase (CPK) measured is 7861, that's too high for a normal person. The maximum value of CKP found in a heart failure patient was around 600 micrograms per liter."
   ]
  },
  {
   "cell_type": "code",
   "execution_count": 11,
   "metadata": {},
   "outputs": [
    {
     "name": "stdout",
     "output_type": "stream",
     "text": [
      "<class 'pandas.core.frame.DataFrame'>\n",
      "Int64Index: 36 entries, 1 to 297\n",
      "Data columns (total 12 columns):\n",
      " #   Column                    Non-Null Count  Dtype  \n",
      "---  ------                    --------------  -----  \n",
      " 0   age                       36 non-null     int64  \n",
      " 1   anaemia                   36 non-null     bool   \n",
      " 2   creatinine_phosphokinase  36 non-null     int64  \n",
      " 3   diabetes                  36 non-null     bool   \n",
      " 4   ejection_fraction         36 non-null     int64  \n",
      " 5   high_blood_pressure       36 non-null     bool   \n",
      " 6   platelets                 36 non-null     int64  \n",
      " 7   serum_creatinine          36 non-null     float64\n",
      " 8   serum_sodium              36 non-null     int64  \n",
      " 9   sex                       36 non-null     object \n",
      " 10  smoking                   36 non-null     bool   \n",
      " 11  patient_dead              36 non-null     bool   \n",
      "dtypes: bool(5), float64(1), int64(5), object(1)\n",
      "memory usage: 2.4+ KB\n"
     ]
    }
   ],
   "source": [
    "heart_failure_df[heart_failure_df.creatinine_phosphokinase > 1000].info()"
   ]
  },
  {
   "cell_type": "markdown",
   "metadata": {},
   "source": [
    "The normal value of CPK ranges from 10 to 120 micrograms per liter, but around 36 patients has CPK level more than 1000 micrograms per liter in our observation. Since, we are not sure about the source of error or that the recorded data is correct or not. This error and huge difference in value might be due to the different measurement units. So let's drop that column and not include in our analysis."
   ]
  },
  {
   "cell_type": "code",
   "execution_count": 12,
   "metadata": {},
   "outputs": [],
   "source": [
    "#to drop creatinine_phosphokinase column\n",
    "heart_failure_df.drop('creatinine_phosphokinase', inplace = True, axis = 1, errors ='ignore')"
   ]
  },
  {
   "cell_type": "code",
   "execution_count": 13,
   "metadata": {},
   "outputs": [
    {
     "data": {
      "text/plain": [
       "Index(['age', 'anaemia', 'diabetes', 'ejection_fraction',\n",
       "       'high_blood_pressure', 'platelets', 'serum_creatinine', 'serum_sodium',\n",
       "       'sex', 'smoking', 'patient_dead'],\n",
       "      dtype='object')"
      ]
     },
     "execution_count": 13,
     "metadata": {},
     "output_type": "execute_result"
    }
   ],
   "source": [
    "#to display column names\n",
    "heart_failure_df.columns "
   ]
  },
  {
   "cell_type": "markdown",
   "metadata": {},
   "source": [
    "There are 11 column in our data frame, where each column represents the attribute of the 299 heart failure patients.\n",
    "\n",
    "column names (attributes) of the data frame doesn't provide complete information regarding the data recorded, so we have to refer to the another table or any website for reference to see the complete information regarding the attributes (column names) like explanation and measurement units. Also we have to add normal level value for the attributes, for the required column values.\n",
    "\n",
    "Pandas library in python provides various useful functions to read various file formats, here we'll use read_html function to read a table from the source website. Kindly check the reference links at the bottom of this page."
   ]
  },
  {
   "cell_type": "code",
   "execution_count": 14,
   "metadata": {},
   "outputs": [
    {
     "data": {
      "text/html": [
       "<div>\n",
       "<style scoped>\n",
       "    .dataframe tbody tr th:only-of-type {\n",
       "        vertical-align: middle;\n",
       "    }\n",
       "\n",
       "    .dataframe tbody tr th {\n",
       "        vertical-align: top;\n",
       "    }\n",
       "\n",
       "    .dataframe thead th {\n",
       "        text-align: right;\n",
       "    }\n",
       "</style>\n",
       "<table border=\"1\" class=\"dataframe\">\n",
       "  <thead>\n",
       "    <tr style=\"text-align: right;\">\n",
       "      <th></th>\n",
       "      <th>feature</th>\n",
       "      <th>explanation</th>\n",
       "      <th>measurement_unit</th>\n",
       "    </tr>\n",
       "  </thead>\n",
       "  <tbody>\n",
       "    <tr>\n",
       "      <th>0</th>\n",
       "      <td>Age</td>\n",
       "      <td>Age of the patient</td>\n",
       "      <td>Years</td>\n",
       "    </tr>\n",
       "    <tr>\n",
       "      <th>1</th>\n",
       "      <td>Anaemia</td>\n",
       "      <td>Decrease of red blood cells or hemoglobin</td>\n",
       "      <td>Boolean</td>\n",
       "    </tr>\n",
       "    <tr>\n",
       "      <th>2</th>\n",
       "      <td>High blood pressure</td>\n",
       "      <td>If a patient has hypertension</td>\n",
       "      <td>Boolean</td>\n",
       "    </tr>\n",
       "    <tr>\n",
       "      <th>5</th>\n",
       "      <td>Diabetes</td>\n",
       "      <td>If the patient has diabetes</td>\n",
       "      <td>Boolean</td>\n",
       "    </tr>\n",
       "    <tr>\n",
       "      <th>6</th>\n",
       "      <td>Ejection fraction</td>\n",
       "      <td>Percentage of blood leaving</td>\n",
       "      <td>Percentage</td>\n",
       "    </tr>\n",
       "    <tr>\n",
       "      <th>8</th>\n",
       "      <td>Sex</td>\n",
       "      <td>Woman or man</td>\n",
       "      <td>Binary</td>\n",
       "    </tr>\n",
       "    <tr>\n",
       "      <th>9</th>\n",
       "      <td>Platelets</td>\n",
       "      <td>Platelets in the blood</td>\n",
       "      <td>kiloplatelets/mL</td>\n",
       "    </tr>\n",
       "    <tr>\n",
       "      <th>10</th>\n",
       "      <td>Serum creatinine</td>\n",
       "      <td>Level of creatinine in the blood</td>\n",
       "      <td>mg/dL</td>\n",
       "    </tr>\n",
       "    <tr>\n",
       "      <th>11</th>\n",
       "      <td>Serum sodium</td>\n",
       "      <td>Level of sodium in the blood</td>\n",
       "      <td>mEq/L</td>\n",
       "    </tr>\n",
       "    <tr>\n",
       "      <th>12</th>\n",
       "      <td>Smoking</td>\n",
       "      <td>If the patient smokes</td>\n",
       "      <td>Boolean</td>\n",
       "    </tr>\n",
       "    <tr>\n",
       "      <th>14</th>\n",
       "      <td>(target) death event</td>\n",
       "      <td>If the patient died during the follow-up period</td>\n",
       "      <td>Boolean</td>\n",
       "    </tr>\n",
       "  </tbody>\n",
       "</table>\n",
       "</div>"
      ],
      "text/plain": [
       "                 feature                                      explanation  \\\n",
       "0                    Age                               Age of the patient   \n",
       "1                Anaemia        Decrease of red blood cells or hemoglobin   \n",
       "2    High blood pressure                    If a patient has hypertension   \n",
       "5               Diabetes                      If the patient has diabetes   \n",
       "6      Ejection fraction                      Percentage of blood leaving   \n",
       "8                    Sex                                     Woman or man   \n",
       "9              Platelets                           Platelets in the blood   \n",
       "10      Serum creatinine                 Level of creatinine in the blood   \n",
       "11          Serum sodium                     Level of sodium in the blood   \n",
       "12               Smoking                            If the patient smokes   \n",
       "14  (target) death event  If the patient died during the follow-up period   \n",
       "\n",
       "    measurement_unit  \n",
       "0              Years  \n",
       "1            Boolean  \n",
       "2            Boolean  \n",
       "5            Boolean  \n",
       "6         Percentage  \n",
       "8             Binary  \n",
       "9   kiloplatelets/mL  \n",
       "10             mg/dL  \n",
       "11             mEq/L  \n",
       "12           Boolean  \n",
       "14           Boolean  "
      ]
     },
     "execution_count": 14,
     "metadata": {},
     "output_type": "execute_result"
    }
   ],
   "source": [
    "#to save the html table as pandas data frame \n",
    "column_details_df = pd.read_html(\"https://bmcmedinformdecismak.biomedcentral.com/articles/10.1186/s12911-020-1023-5/tables/1 \")[0]\n",
    "\n",
    "#to drop the unnecessary column\n",
    "column_details_df.drop('Range', axis =1,inplace = True, errors='ignore' )\n",
    "\n",
    "#to drop the unnecessary rows\n",
    "column_details_df.drop([3,4,7,13], axis = 0, inplace =True, errors ='ignore')\n",
    "\n",
    "#to rename the column names\n",
    "column_details_df.columns = ['feature', 'explanation', 'measurement_unit']\n",
    "\n",
    "column_details_df "
   ]
  },
  {
   "cell_type": "code",
   "execution_count": 15,
   "metadata": {},
   "outputs": [],
   "source": [
    "#to rearrange and rename the rows to match the heart_failure_df \n",
    "column_details_df = column_details_df.reindex([0,1,5,6,2,9,10,11,8,12,14])\n",
    "column_details_df.feature = heart_failure_df.columns"
   ]
  },
  {
   "cell_type": "code",
   "execution_count": 16,
   "metadata": {},
   "outputs": [],
   "source": [
    "#to set the feature column as index for our convenience \n",
    "column_details_df.set_index(['feature'], inplace =True)"
   ]
  },
  {
   "cell_type": "code",
   "execution_count": 17,
   "metadata": {},
   "outputs": [],
   "source": [
    "#to change the details in explanation column \n",
    "column_details_df['explanation']['anaemia', 'diabetes', 'ejection_fraction', 'high_blood_pressure', 'platelets', 'sex', 'smoking', 'patient_dead'] = ['True, if the patient has Anaemia',\n",
    "                                                                                                                                                      'True, if the patient has Diabetes', \n",
    "                                                                                                                                                      '% of blood leaving the heart at each contraction', \n",
    "                                                                                                                                                      'True, if the patient has High blood pressure', \n",
    "                                                                                                                                                      'Amount of platelets in the blood', \n",
    "                                                                                                                                                      'Male or Female',\n",
    "                                                                                                                                                      'True, if the patient smokes', \n",
    "                                                                                                                                                      'True, if the patient died during the follow-up period']"
   ]
  },
  {
   "cell_type": "code",
   "execution_count": 18,
   "metadata": {},
   "outputs": [],
   "source": [
    "#to change the details in measurement unit column \n",
    "column_details_df.measurement_unit['sex', 'platelets','serum_creatinine','serum_sodium'] = ['Boolean',\n",
    "                                                                                            'kilo-platelets / mcL (microliter)', \n",
    "                                                                                            'mg/dL (milligrams per deciliter)', \n",
    "                                                                                            'mEq/L (milliequivalents per litre)'\n",
    "                                                                                            ] "
   ]
  },
  {
   "cell_type": "code",
   "execution_count": 19,
   "metadata": {},
   "outputs": [
    {
     "data": {
      "text/html": [
       "<div>\n",
       "<style scoped>\n",
       "    .dataframe tbody tr th:only-of-type {\n",
       "        vertical-align: middle;\n",
       "    }\n",
       "\n",
       "    .dataframe tbody tr th {\n",
       "        vertical-align: top;\n",
       "    }\n",
       "\n",
       "    .dataframe thead th {\n",
       "        text-align: right;\n",
       "    }\n",
       "</style>\n",
       "<table border=\"1\" class=\"dataframe\">\n",
       "  <thead>\n",
       "    <tr style=\"text-align: right;\">\n",
       "      <th></th>\n",
       "      <th>explanation</th>\n",
       "      <th>measurement_unit</th>\n",
       "      <th>normal_value</th>\n",
       "    </tr>\n",
       "    <tr>\n",
       "      <th>feature</th>\n",
       "      <th></th>\n",
       "      <th></th>\n",
       "      <th></th>\n",
       "    </tr>\n",
       "  </thead>\n",
       "  <tbody>\n",
       "    <tr>\n",
       "      <th>age</th>\n",
       "      <td>Age of the patient</td>\n",
       "      <td>Years</td>\n",
       "      <td>None</td>\n",
       "    </tr>\n",
       "    <tr>\n",
       "      <th>anaemia</th>\n",
       "      <td>True, if the patient has Anaemia</td>\n",
       "      <td>Boolean</td>\n",
       "      <td>None</td>\n",
       "    </tr>\n",
       "    <tr>\n",
       "      <th>diabetes</th>\n",
       "      <td>True, if the patient has Diabetes</td>\n",
       "      <td>Boolean</td>\n",
       "      <td>None</td>\n",
       "    </tr>\n",
       "    <tr>\n",
       "      <th>ejection_fraction</th>\n",
       "      <td>% of blood leaving the heart at each contraction</td>\n",
       "      <td>Percentage</td>\n",
       "      <td>55% - 70%</td>\n",
       "    </tr>\n",
       "    <tr>\n",
       "      <th>high_blood_pressure</th>\n",
       "      <td>True, if the patient has High blood pressure</td>\n",
       "      <td>Boolean</td>\n",
       "      <td>None</td>\n",
       "    </tr>\n",
       "    <tr>\n",
       "      <th>platelets</th>\n",
       "      <td>Amount of platelets in the blood</td>\n",
       "      <td>kilo-platelets / mcL (microliter)</td>\n",
       "      <td>150 - 400 kilo-platelets / mcL</td>\n",
       "    </tr>\n",
       "    <tr>\n",
       "      <th>serum_creatinine</th>\n",
       "      <td>Level of creatinine in the blood</td>\n",
       "      <td>mg/dL (milligrams per deciliter)</td>\n",
       "      <td>0.6 - 1.2 mg/dL</td>\n",
       "    </tr>\n",
       "    <tr>\n",
       "      <th>serum_sodium</th>\n",
       "      <td>Level of sodium in the blood</td>\n",
       "      <td>mEq/L (milliequivalents per litre)</td>\n",
       "      <td>135 - 145 mEq /L</td>\n",
       "    </tr>\n",
       "    <tr>\n",
       "      <th>sex</th>\n",
       "      <td>Male or Female</td>\n",
       "      <td>Boolean</td>\n",
       "      <td>None</td>\n",
       "    </tr>\n",
       "    <tr>\n",
       "      <th>smoking</th>\n",
       "      <td>True, if the patient smokes</td>\n",
       "      <td>Boolean</td>\n",
       "      <td>None</td>\n",
       "    </tr>\n",
       "    <tr>\n",
       "      <th>patient_dead</th>\n",
       "      <td>True, if the patient died during the follow-up...</td>\n",
       "      <td>Boolean</td>\n",
       "      <td>None</td>\n",
       "    </tr>\n",
       "  </tbody>\n",
       "</table>\n",
       "</div>"
      ],
      "text/plain": [
       "                                                           explanation  \\\n",
       "feature                                                                  \n",
       "age                                                 Age of the patient   \n",
       "anaemia                               True, if the patient has Anaemia   \n",
       "diabetes                             True, if the patient has Diabetes   \n",
       "ejection_fraction     % of blood leaving the heart at each contraction   \n",
       "high_blood_pressure       True, if the patient has High blood pressure   \n",
       "platelets                             Amount of platelets in the blood   \n",
       "serum_creatinine                      Level of creatinine in the blood   \n",
       "serum_sodium                              Level of sodium in the blood   \n",
       "sex                                                     Male or Female   \n",
       "smoking                                    True, if the patient smokes   \n",
       "patient_dead         True, if the patient died during the follow-up...   \n",
       "\n",
       "                                       measurement_unit  \\\n",
       "feature                                                   \n",
       "age                                               Years   \n",
       "anaemia                                         Boolean   \n",
       "diabetes                                        Boolean   \n",
       "ejection_fraction                            Percentage   \n",
       "high_blood_pressure                             Boolean   \n",
       "platelets             kilo-platelets / mcL (microliter)   \n",
       "serum_creatinine       mg/dL (milligrams per deciliter)   \n",
       "serum_sodium         mEq/L (milliequivalents per litre)   \n",
       "sex                                             Boolean   \n",
       "smoking                                         Boolean   \n",
       "patient_dead                                    Boolean   \n",
       "\n",
       "                                       normal_value  \n",
       "feature                                              \n",
       "age                                            None  \n",
       "anaemia                                        None  \n",
       "diabetes                                       None  \n",
       "ejection_fraction                         55% - 70%  \n",
       "high_blood_pressure                            None  \n",
       "platelets            150 - 400 kilo-platelets / mcL  \n",
       "serum_creatinine                    0.6 - 1.2 mg/dL  \n",
       "serum_sodium                       135 - 145 mEq /L  \n",
       "sex                                            None  \n",
       "smoking                                        None  \n",
       "patient_dead                                   None  "
      ]
     },
     "execution_count": 19,
     "metadata": {},
     "output_type": "execute_result"
    }
   ],
   "source": [
    "#let's add another column to mention normal values of the attributes \n",
    "column_details_df[\"normal_value\"] = ['None', \n",
    "                                     'None', \n",
    "                                     'None',\n",
    "                                     '55% - 70%',\n",
    "                                     'None', \n",
    "                                     '150 - 400 kilo-platelets / mcL', \n",
    "                                     '0.6 - 1.2 mg/dL', \n",
    "                                     '135 - 145 mEq /L', \n",
    "                                     'None', 'None', 'None'\n",
    "                                    ] \n",
    "column_details_df"
   ]
  },
  {
   "cell_type": "markdown",
   "metadata": {},
   "source": [
    "The normal values of the ejection fraction, creatinine level, sodium level and platelets count was taken from various resources, please check the reference links at the bottom. And these values varies based on patients age, body and gender etc.,but we took the most suitable approximate value to simplify our analysis. Please be aware that there might be small changes in our analysis when compared to the real world."
   ]
  },
  {
   "cell_type": "markdown",
   "metadata": {},
   "source": [
    "## Dataset cleaned and prepared"
   ]
  },
  {
   "cell_type": "markdown",
   "metadata": {},
   "source": [
    "Now, our both the datasets heart_failure_df and column_details_df are ready for our analysis. Let's check some basic information regarding our cleaned datasets before proceeding for visualisation methods."
   ]
  },
  {
   "cell_type": "code",
   "execution_count": 20,
   "metadata": {},
   "outputs": [
    {
     "name": "stdout",
     "output_type": "stream",
     "text": [
      "<class 'pandas.core.frame.DataFrame'>\n",
      "Index: 11 entries, age to patient_dead\n",
      "Data columns (total 3 columns):\n",
      " #   Column            Non-Null Count  Dtype \n",
      "---  ------            --------------  ----- \n",
      " 0   explanation       11 non-null     object\n",
      " 1   measurement_unit  11 non-null     object\n",
      " 2   normal_value      11 non-null     object\n",
      "dtypes: object(3)\n",
      "memory usage: 672.0+ bytes\n"
     ]
    }
   ],
   "source": [
    "column_details_df.info()"
   ]
  },
  {
   "cell_type": "code",
   "execution_count": 21,
   "metadata": {},
   "outputs": [
    {
     "name": "stdout",
     "output_type": "stream",
     "text": [
      "<class 'pandas.core.frame.DataFrame'>\n",
      "RangeIndex: 299 entries, 0 to 298\n",
      "Data columns (total 11 columns):\n",
      " #   Column               Non-Null Count  Dtype  \n",
      "---  ------               --------------  -----  \n",
      " 0   age                  299 non-null    int64  \n",
      " 1   anaemia              299 non-null    bool   \n",
      " 2   diabetes             299 non-null    bool   \n",
      " 3   ejection_fraction    299 non-null    int64  \n",
      " 4   high_blood_pressure  299 non-null    bool   \n",
      " 5   platelets            299 non-null    int64  \n",
      " 6   serum_creatinine     299 non-null    float64\n",
      " 7   serum_sodium         299 non-null    int64  \n",
      " 8   sex                  299 non-null    object \n",
      " 9   smoking              299 non-null    bool   \n",
      " 10  patient_dead         299 non-null    bool   \n",
      "dtypes: bool(5), float64(1), int64(4), object(1)\n",
      "memory usage: 15.6+ KB\n"
     ]
    }
   ],
   "source": [
    "heart_failure_df.info()"
   ]
  },
  {
   "cell_type": "code",
   "execution_count": 24,
   "metadata": {
    "scrolled": true
   },
   "outputs": [
    {
     "data": {
      "text/html": [
       "<div>\n",
       "<style scoped>\n",
       "    .dataframe tbody tr th:only-of-type {\n",
       "        vertical-align: middle;\n",
       "    }\n",
       "\n",
       "    .dataframe tbody tr th {\n",
       "        vertical-align: top;\n",
       "    }\n",
       "\n",
       "    .dataframe thead th {\n",
       "        text-align: right;\n",
       "    }\n",
       "</style>\n",
       "<table border=\"1\" class=\"dataframe\">\n",
       "  <thead>\n",
       "    <tr style=\"text-align: right;\">\n",
       "      <th></th>\n",
       "      <th>age</th>\n",
       "      <th>ejection_fraction</th>\n",
       "      <th>platelets</th>\n",
       "      <th>serum_creatinine</th>\n",
       "      <th>serum_sodium</th>\n",
       "    </tr>\n",
       "  </thead>\n",
       "  <tbody>\n",
       "    <tr>\n",
       "      <th>count</th>\n",
       "      <td>299.000000</td>\n",
       "      <td>299.000000</td>\n",
       "      <td>299.000000</td>\n",
       "      <td>299.00000</td>\n",
       "      <td>299.000000</td>\n",
       "    </tr>\n",
       "    <tr>\n",
       "      <th>mean</th>\n",
       "      <td>60.829431</td>\n",
       "      <td>38.083612</td>\n",
       "      <td>263.327759</td>\n",
       "      <td>1.39388</td>\n",
       "      <td>136.625418</td>\n",
       "    </tr>\n",
       "    <tr>\n",
       "      <th>std</th>\n",
       "      <td>11.894997</td>\n",
       "      <td>11.834841</td>\n",
       "      <td>97.805105</td>\n",
       "      <td>1.03451</td>\n",
       "      <td>4.412477</td>\n",
       "    </tr>\n",
       "    <tr>\n",
       "      <th>min</th>\n",
       "      <td>40.000000</td>\n",
       "      <td>14.000000</td>\n",
       "      <td>25.000000</td>\n",
       "      <td>0.50000</td>\n",
       "      <td>113.000000</td>\n",
       "    </tr>\n",
       "    <tr>\n",
       "      <th>25%</th>\n",
       "      <td>51.000000</td>\n",
       "      <td>30.000000</td>\n",
       "      <td>212.500000</td>\n",
       "      <td>0.90000</td>\n",
       "      <td>134.000000</td>\n",
       "    </tr>\n",
       "    <tr>\n",
       "      <th>50%</th>\n",
       "      <td>60.000000</td>\n",
       "      <td>38.000000</td>\n",
       "      <td>262.000000</td>\n",
       "      <td>1.10000</td>\n",
       "      <td>137.000000</td>\n",
       "    </tr>\n",
       "    <tr>\n",
       "      <th>75%</th>\n",
       "      <td>70.000000</td>\n",
       "      <td>45.000000</td>\n",
       "      <td>303.500000</td>\n",
       "      <td>1.40000</td>\n",
       "      <td>140.000000</td>\n",
       "    </tr>\n",
       "    <tr>\n",
       "      <th>max</th>\n",
       "      <td>95.000000</td>\n",
       "      <td>80.000000</td>\n",
       "      <td>850.000000</td>\n",
       "      <td>9.40000</td>\n",
       "      <td>148.000000</td>\n",
       "    </tr>\n",
       "  </tbody>\n",
       "</table>\n",
       "</div>"
      ],
      "text/plain": [
       "              age  ejection_fraction   platelets  serum_creatinine  \\\n",
       "count  299.000000         299.000000  299.000000         299.00000   \n",
       "mean    60.829431          38.083612  263.327759           1.39388   \n",
       "std     11.894997          11.834841   97.805105           1.03451   \n",
       "min     40.000000          14.000000   25.000000           0.50000   \n",
       "25%     51.000000          30.000000  212.500000           0.90000   \n",
       "50%     60.000000          38.000000  262.000000           1.10000   \n",
       "75%     70.000000          45.000000  303.500000           1.40000   \n",
       "max     95.000000          80.000000  850.000000           9.40000   \n",
       "\n",
       "       serum_sodium  \n",
       "count    299.000000  \n",
       "mean     136.625418  \n",
       "std        4.412477  \n",
       "min      113.000000  \n",
       "25%      134.000000  \n",
       "50%      137.000000  \n",
       "75%      140.000000  \n",
       "max      148.000000  "
      ]
     },
     "execution_count": 24,
     "metadata": {},
     "output_type": "execute_result"
    }
   ],
   "source": [
    "heart_failure_df.describe()"
   ]
  },
  {
   "cell_type": "markdown",
   "metadata": {},
   "source": [
    "### Number of Male and Female patients"
   ]
  },
  {
   "cell_type": "code",
   "execution_count": 25,
   "metadata": {},
   "outputs": [
    {
     "data": {
      "text/plain": [
       "Male      194\n",
       "Female    105\n",
       "Name: sex, dtype: int64"
      ]
     },
     "execution_count": 25,
     "metadata": {},
     "output_type": "execute_result"
    }
   ],
   "source": [
    "heart_failure_df.sex.value_counts()"
   ]
  },
  {
   "cell_type": "markdown",
   "metadata": {},
   "source": [
    "### Number of Patients with Anaemia"
   ]
  },
  {
   "cell_type": "code",
   "execution_count": 26,
   "metadata": {},
   "outputs": [
    {
     "data": {
      "text/plain": [
       "False    170\n",
       "True     129\n",
       "Name: anaemia, dtype: int64"
      ]
     },
     "execution_count": 26,
     "metadata": {},
     "output_type": "execute_result"
    }
   ],
   "source": [
    "heart_failure_df.anaemia.value_counts()"
   ]
  },
  {
   "cell_type": "markdown",
   "metadata": {},
   "source": [
    "### Number of Patients with Diabetes"
   ]
  },
  {
   "cell_type": "code",
   "execution_count": 27,
   "metadata": {},
   "outputs": [
    {
     "data": {
      "text/plain": [
       "False    174\n",
       "True     125\n",
       "Name: diabetes, dtype: int64"
      ]
     },
     "execution_count": 27,
     "metadata": {},
     "output_type": "execute_result"
    }
   ],
   "source": [
    "heart_failure_df.diabetes.value_counts()"
   ]
  },
  {
   "cell_type": "markdown",
   "metadata": {},
   "source": [
    "### Number of Patients with High Blood Pressure"
   ]
  },
  {
   "cell_type": "code",
   "execution_count": 28,
   "metadata": {},
   "outputs": [
    {
     "data": {
      "text/plain": [
       "False    194\n",
       "True     105\n",
       "Name: high_blood_pressure, dtype: int64"
      ]
     },
     "execution_count": 28,
     "metadata": {},
     "output_type": "execute_result"
    }
   ],
   "source": [
    "heart_failure_df.high_blood_pressure.value_counts()"
   ]
  },
  {
   "cell_type": "markdown",
   "metadata": {},
   "source": [
    "### Number of Patients with Smoking Habit"
   ]
  },
  {
   "cell_type": "code",
   "execution_count": 29,
   "metadata": {},
   "outputs": [
    {
     "data": {
      "text/plain": [
       "False    203\n",
       "True      96\n",
       "Name: smoking, dtype: int64"
      ]
     },
     "execution_count": 29,
     "metadata": {},
     "output_type": "execute_result"
    }
   ],
   "source": [
    "heart_failure_df.smoking.value_counts()"
   ]
  },
  {
   "cell_type": "markdown",
   "metadata": {},
   "source": [
    "### Number of Patients died during follow-up period"
   ]
  },
  {
   "cell_type": "code",
   "execution_count": 30,
   "metadata": {},
   "outputs": [
    {
     "data": {
      "text/html": [
       "<div>\n",
       "<style scoped>\n",
       "    .dataframe tbody tr th:only-of-type {\n",
       "        vertical-align: middle;\n",
       "    }\n",
       "\n",
       "    .dataframe tbody tr th {\n",
       "        vertical-align: top;\n",
       "    }\n",
       "\n",
       "    .dataframe thead th {\n",
       "        text-align: right;\n",
       "    }\n",
       "</style>\n",
       "<table border=\"1\" class=\"dataframe\">\n",
       "  <thead>\n",
       "    <tr style=\"text-align: right;\">\n",
       "      <th>patient_dead</th>\n",
       "      <th>False</th>\n",
       "      <th>True</th>\n",
       "    </tr>\n",
       "    <tr>\n",
       "      <th>sex</th>\n",
       "      <th></th>\n",
       "      <th></th>\n",
       "    </tr>\n",
       "  </thead>\n",
       "  <tbody>\n",
       "    <tr>\n",
       "      <th>Female</th>\n",
       "      <td>71</td>\n",
       "      <td>34</td>\n",
       "    </tr>\n",
       "    <tr>\n",
       "      <th>Male</th>\n",
       "      <td>132</td>\n",
       "      <td>62</td>\n",
       "    </tr>\n",
       "  </tbody>\n",
       "</table>\n",
       "</div>"
      ],
      "text/plain": [
       "patient_dead  False  True \n",
       "sex                       \n",
       "Female           71     34\n",
       "Male            132     62"
      ]
     },
     "execution_count": 30,
     "metadata": {},
     "output_type": "execute_result"
    }
   ],
   "source": [
    "heart_failure_df.groupby(['patient_dead', 'sex']).size().reset_index().pivot(columns= 'patient_dead',index = 'sex', values=0) "
   ]
  },
  {
   "cell_type": "markdown",
   "metadata": {},
   "source": [
    "### Number of Patients with Abnormal Ejection Fraction"
   ]
  },
  {
   "cell_type": "code",
   "execution_count": 31,
   "metadata": {},
   "outputs": [
    {
     "data": {
      "text/plain": [
       "'55% - 70%'"
      ]
     },
     "execution_count": 31,
     "metadata": {},
     "output_type": "execute_result"
    }
   ],
   "source": [
    "#to find the normal value of Ejection Fraction \n",
    "column_details_df.normal_value['ejection_fraction']"
   ]
  },
  {
   "cell_type": "code",
   "execution_count": 32,
   "metadata": {},
   "outputs": [
    {
     "data": {
      "text/html": [
       "<div>\n",
       "<style scoped>\n",
       "    .dataframe tbody tr th:only-of-type {\n",
       "        vertical-align: middle;\n",
       "    }\n",
       "\n",
       "    .dataframe tbody tr th {\n",
       "        vertical-align: top;\n",
       "    }\n",
       "\n",
       "    .dataframe thead th {\n",
       "        text-align: right;\n",
       "    }\n",
       "</style>\n",
       "<table border=\"1\" class=\"dataframe\">\n",
       "  <thead>\n",
       "    <tr style=\"text-align: right;\">\n",
       "      <th></th>\n",
       "      <th>age</th>\n",
       "      <th>anaemia</th>\n",
       "      <th>diabetes</th>\n",
       "      <th>ejection_fraction</th>\n",
       "      <th>high_blood_pressure</th>\n",
       "      <th>platelets</th>\n",
       "      <th>serum_creatinine</th>\n",
       "      <th>serum_sodium</th>\n",
       "      <th>sex</th>\n",
       "      <th>smoking</th>\n",
       "      <th>patient_dead</th>\n",
       "    </tr>\n",
       "  </thead>\n",
       "  <tbody>\n",
       "    <tr>\n",
       "      <th>0</th>\n",
       "      <td>75</td>\n",
       "      <td>False</td>\n",
       "      <td>False</td>\n",
       "      <td>20</td>\n",
       "      <td>True</td>\n",
       "      <td>265</td>\n",
       "      <td>1.9</td>\n",
       "      <td>130</td>\n",
       "      <td>Male</td>\n",
       "      <td>False</td>\n",
       "      <td>True</td>\n",
       "    </tr>\n",
       "    <tr>\n",
       "      <th>1</th>\n",
       "      <td>55</td>\n",
       "      <td>False</td>\n",
       "      <td>False</td>\n",
       "      <td>38</td>\n",
       "      <td>False</td>\n",
       "      <td>263</td>\n",
       "      <td>1.1</td>\n",
       "      <td>136</td>\n",
       "      <td>Male</td>\n",
       "      <td>False</td>\n",
       "      <td>True</td>\n",
       "    </tr>\n",
       "    <tr>\n",
       "      <th>2</th>\n",
       "      <td>65</td>\n",
       "      <td>False</td>\n",
       "      <td>False</td>\n",
       "      <td>20</td>\n",
       "      <td>False</td>\n",
       "      <td>162</td>\n",
       "      <td>1.3</td>\n",
       "      <td>129</td>\n",
       "      <td>Male</td>\n",
       "      <td>True</td>\n",
       "      <td>True</td>\n",
       "    </tr>\n",
       "    <tr>\n",
       "      <th>3</th>\n",
       "      <td>50</td>\n",
       "      <td>True</td>\n",
       "      <td>False</td>\n",
       "      <td>20</td>\n",
       "      <td>False</td>\n",
       "      <td>210</td>\n",
       "      <td>1.9</td>\n",
       "      <td>137</td>\n",
       "      <td>Male</td>\n",
       "      <td>False</td>\n",
       "      <td>True</td>\n",
       "    </tr>\n",
       "    <tr>\n",
       "      <th>4</th>\n",
       "      <td>65</td>\n",
       "      <td>True</td>\n",
       "      <td>True</td>\n",
       "      <td>20</td>\n",
       "      <td>False</td>\n",
       "      <td>327</td>\n",
       "      <td>2.7</td>\n",
       "      <td>116</td>\n",
       "      <td>Female</td>\n",
       "      <td>False</td>\n",
       "      <td>True</td>\n",
       "    </tr>\n",
       "    <tr>\n",
       "      <th>...</th>\n",
       "      <td>...</td>\n",
       "      <td>...</td>\n",
       "      <td>...</td>\n",
       "      <td>...</td>\n",
       "      <td>...</td>\n",
       "      <td>...</td>\n",
       "      <td>...</td>\n",
       "      <td>...</td>\n",
       "      <td>...</td>\n",
       "      <td>...</td>\n",
       "      <td>...</td>\n",
       "    </tr>\n",
       "    <tr>\n",
       "      <th>293</th>\n",
       "      <td>63</td>\n",
       "      <td>True</td>\n",
       "      <td>True</td>\n",
       "      <td>35</td>\n",
       "      <td>False</td>\n",
       "      <td>179</td>\n",
       "      <td>0.9</td>\n",
       "      <td>136</td>\n",
       "      <td>Male</td>\n",
       "      <td>True</td>\n",
       "      <td>False</td>\n",
       "    </tr>\n",
       "    <tr>\n",
       "      <th>294</th>\n",
       "      <td>62</td>\n",
       "      <td>False</td>\n",
       "      <td>True</td>\n",
       "      <td>38</td>\n",
       "      <td>True</td>\n",
       "      <td>155</td>\n",
       "      <td>1.1</td>\n",
       "      <td>143</td>\n",
       "      <td>Male</td>\n",
       "      <td>True</td>\n",
       "      <td>False</td>\n",
       "    </tr>\n",
       "    <tr>\n",
       "      <th>295</th>\n",
       "      <td>55</td>\n",
       "      <td>False</td>\n",
       "      <td>False</td>\n",
       "      <td>38</td>\n",
       "      <td>False</td>\n",
       "      <td>270</td>\n",
       "      <td>1.2</td>\n",
       "      <td>139</td>\n",
       "      <td>Female</td>\n",
       "      <td>False</td>\n",
       "      <td>False</td>\n",
       "    </tr>\n",
       "    <tr>\n",
       "      <th>297</th>\n",
       "      <td>45</td>\n",
       "      <td>False</td>\n",
       "      <td>False</td>\n",
       "      <td>38</td>\n",
       "      <td>False</td>\n",
       "      <td>140</td>\n",
       "      <td>1.4</td>\n",
       "      <td>140</td>\n",
       "      <td>Male</td>\n",
       "      <td>True</td>\n",
       "      <td>False</td>\n",
       "    </tr>\n",
       "    <tr>\n",
       "      <th>298</th>\n",
       "      <td>50</td>\n",
       "      <td>False</td>\n",
       "      <td>False</td>\n",
       "      <td>45</td>\n",
       "      <td>False</td>\n",
       "      <td>395</td>\n",
       "      <td>1.6</td>\n",
       "      <td>136</td>\n",
       "      <td>Male</td>\n",
       "      <td>True</td>\n",
       "      <td>False</td>\n",
       "    </tr>\n",
       "  </tbody>\n",
       "</table>\n",
       "<p>261 rows × 11 columns</p>\n",
       "</div>"
      ],
      "text/plain": [
       "     age  anaemia  diabetes  ejection_fraction  high_blood_pressure  \\\n",
       "0     75    False     False                 20                 True   \n",
       "1     55    False     False                 38                False   \n",
       "2     65    False     False                 20                False   \n",
       "3     50     True     False                 20                False   \n",
       "4     65     True      True                 20                False   \n",
       "..   ...      ...       ...                ...                  ...   \n",
       "293   63     True      True                 35                False   \n",
       "294   62    False      True                 38                 True   \n",
       "295   55    False     False                 38                False   \n",
       "297   45    False     False                 38                False   \n",
       "298   50    False     False                 45                False   \n",
       "\n",
       "     platelets  serum_creatinine  serum_sodium     sex  smoking  patient_dead  \n",
       "0          265               1.9           130    Male    False          True  \n",
       "1          263               1.1           136    Male    False          True  \n",
       "2          162               1.3           129    Male     True          True  \n",
       "3          210               1.9           137    Male    False          True  \n",
       "4          327               2.7           116  Female    False          True  \n",
       "..         ...               ...           ...     ...      ...           ...  \n",
       "293        179               0.9           136    Male     True         False  \n",
       "294        155               1.1           143    Male     True         False  \n",
       "295        270               1.2           139  Female    False         False  \n",
       "297        140               1.4           140    Male     True         False  \n",
       "298        395               1.6           136    Male     True         False  \n",
       "\n",
       "[261 rows x 11 columns]"
      ]
     },
     "execution_count": 32,
     "metadata": {},
     "output_type": "execute_result"
    }
   ],
   "source": [
    "abn_ef = heart_failure_df[(heart_failure_df.ejection_fraction < 55) | (heart_failure_df.ejection_fraction >70)]\n",
    "abn_ef"
   ]
  },
  {
   "cell_type": "markdown",
   "metadata": {},
   "source": [
    "The normal value of Ejection Fraction ranges from 55% to 70%. Here, we found that there are 261 patients with abnormal Ejection Fraction."
   ]
  },
  {
   "cell_type": "markdown",
   "metadata": {},
   "source": [
    "### Number of Patients with Abnormal Platelets Count"
   ]
  },
  {
   "cell_type": "code",
   "execution_count": 33,
   "metadata": {},
   "outputs": [
    {
     "data": {
      "text/plain": [
       "'150 - 400 kilo-platelets / mcL'"
      ]
     },
     "execution_count": 33,
     "metadata": {},
     "output_type": "execute_result"
    }
   ],
   "source": [
    "#to find the normal value of Platelets Count \n",
    "column_details_df.normal_value['platelets']"
   ]
  },
  {
   "cell_type": "code",
   "execution_count": 38,
   "metadata": {},
   "outputs": [
    {
     "data": {
      "text/html": [
       "<div>\n",
       "<style scoped>\n",
       "    .dataframe tbody tr th:only-of-type {\n",
       "        vertical-align: middle;\n",
       "    }\n",
       "\n",
       "    .dataframe tbody tr th {\n",
       "        vertical-align: top;\n",
       "    }\n",
       "\n",
       "    .dataframe thead th {\n",
       "        text-align: right;\n",
       "    }\n",
       "</style>\n",
       "<table border=\"1\" class=\"dataframe\">\n",
       "  <thead>\n",
       "    <tr style=\"text-align: right;\">\n",
       "      <th></th>\n",
       "      <th>age</th>\n",
       "      <th>anaemia</th>\n",
       "      <th>diabetes</th>\n",
       "      <th>ejection_fraction</th>\n",
       "      <th>high_blood_pressure</th>\n",
       "      <th>platelets</th>\n",
       "      <th>serum_creatinine</th>\n",
       "      <th>serum_sodium</th>\n",
       "      <th>sex</th>\n",
       "      <th>smoking</th>\n",
       "      <th>patient_dead</th>\n",
       "    </tr>\n",
       "  </thead>\n",
       "  <tbody>\n",
       "    <tr>\n",
       "      <th>6</th>\n",
       "      <td>75</td>\n",
       "      <td>True</td>\n",
       "      <td>False</td>\n",
       "      <td>15</td>\n",
       "      <td>False</td>\n",
       "      <td>127</td>\n",
       "      <td>1.20</td>\n",
       "      <td>137</td>\n",
       "      <td>Male</td>\n",
       "      <td>False</td>\n",
       "      <td>True</td>\n",
       "    </tr>\n",
       "    <tr>\n",
       "      <th>7</th>\n",
       "      <td>60</td>\n",
       "      <td>True</td>\n",
       "      <td>True</td>\n",
       "      <td>60</td>\n",
       "      <td>False</td>\n",
       "      <td>454</td>\n",
       "      <td>1.10</td>\n",
       "      <td>131</td>\n",
       "      <td>Male</td>\n",
       "      <td>True</td>\n",
       "      <td>True</td>\n",
       "    </tr>\n",
       "    <tr>\n",
       "      <th>12</th>\n",
       "      <td>45</td>\n",
       "      <td>True</td>\n",
       "      <td>False</td>\n",
       "      <td>30</td>\n",
       "      <td>False</td>\n",
       "      <td>136</td>\n",
       "      <td>1.10</td>\n",
       "      <td>137</td>\n",
       "      <td>Male</td>\n",
       "      <td>False</td>\n",
       "      <td>True</td>\n",
       "    </tr>\n",
       "    <tr>\n",
       "      <th>14</th>\n",
       "      <td>49</td>\n",
       "      <td>True</td>\n",
       "      <td>False</td>\n",
       "      <td>30</td>\n",
       "      <td>True</td>\n",
       "      <td>427</td>\n",
       "      <td>1.00</td>\n",
       "      <td>138</td>\n",
       "      <td>Female</td>\n",
       "      <td>False</td>\n",
       "      <td>False</td>\n",
       "    </tr>\n",
       "    <tr>\n",
       "      <th>15</th>\n",
       "      <td>82</td>\n",
       "      <td>True</td>\n",
       "      <td>False</td>\n",
       "      <td>50</td>\n",
       "      <td>False</td>\n",
       "      <td>47</td>\n",
       "      <td>1.30</td>\n",
       "      <td>136</td>\n",
       "      <td>Male</td>\n",
       "      <td>False</td>\n",
       "      <td>True</td>\n",
       "    </tr>\n",
       "    <tr>\n",
       "      <th>19</th>\n",
       "      <td>48</td>\n",
       "      <td>True</td>\n",
       "      <td>True</td>\n",
       "      <td>55</td>\n",
       "      <td>False</td>\n",
       "      <td>87</td>\n",
       "      <td>1.90</td>\n",
       "      <td>121</td>\n",
       "      <td>Female</td>\n",
       "      <td>False</td>\n",
       "      <td>True</td>\n",
       "    </tr>\n",
       "    <tr>\n",
       "      <th>25</th>\n",
       "      <td>80</td>\n",
       "      <td>False</td>\n",
       "      <td>True</td>\n",
       "      <td>38</td>\n",
       "      <td>False</td>\n",
       "      <td>149</td>\n",
       "      <td>1.90</td>\n",
       "      <td>144</td>\n",
       "      <td>Male</td>\n",
       "      <td>True</td>\n",
       "      <td>True</td>\n",
       "    </tr>\n",
       "    <tr>\n",
       "      <th>47</th>\n",
       "      <td>60</td>\n",
       "      <td>False</td>\n",
       "      <td>True</td>\n",
       "      <td>38</td>\n",
       "      <td>True</td>\n",
       "      <td>451</td>\n",
       "      <td>0.60</td>\n",
       "      <td>138</td>\n",
       "      <td>Male</td>\n",
       "      <td>True</td>\n",
       "      <td>True</td>\n",
       "    </tr>\n",
       "    <tr>\n",
       "      <th>48</th>\n",
       "      <td>80</td>\n",
       "      <td>True</td>\n",
       "      <td>False</td>\n",
       "      <td>20</td>\n",
       "      <td>True</td>\n",
       "      <td>140</td>\n",
       "      <td>4.40</td>\n",
       "      <td>133</td>\n",
       "      <td>Male</td>\n",
       "      <td>False</td>\n",
       "      <td>True</td>\n",
       "    </tr>\n",
       "    <tr>\n",
       "      <th>51</th>\n",
       "      <td>53</td>\n",
       "      <td>True</td>\n",
       "      <td>False</td>\n",
       "      <td>20</td>\n",
       "      <td>True</td>\n",
       "      <td>418</td>\n",
       "      <td>1.40</td>\n",
       "      <td>139</td>\n",
       "      <td>Female</td>\n",
       "      <td>False</td>\n",
       "      <td>True</td>\n",
       "    </tr>\n",
       "    <tr>\n",
       "      <th>55</th>\n",
       "      <td>95</td>\n",
       "      <td>True</td>\n",
       "      <td>False</td>\n",
       "      <td>30</td>\n",
       "      <td>False</td>\n",
       "      <td>461</td>\n",
       "      <td>2.00</td>\n",
       "      <td>132</td>\n",
       "      <td>Male</td>\n",
       "      <td>False</td>\n",
       "      <td>True</td>\n",
       "    </tr>\n",
       "    <tr>\n",
       "      <th>65</th>\n",
       "      <td>60</td>\n",
       "      <td>False</td>\n",
       "      <td>False</td>\n",
       "      <td>20</td>\n",
       "      <td>False</td>\n",
       "      <td>119</td>\n",
       "      <td>2.90</td>\n",
       "      <td>127</td>\n",
       "      <td>Male</td>\n",
       "      <td>True</td>\n",
       "      <td>True</td>\n",
       "    </tr>\n",
       "    <tr>\n",
       "      <th>69</th>\n",
       "      <td>65</td>\n",
       "      <td>False</td>\n",
       "      <td>True</td>\n",
       "      <td>25</td>\n",
       "      <td>False</td>\n",
       "      <td>497</td>\n",
       "      <td>1.83</td>\n",
       "      <td>135</td>\n",
       "      <td>Male</td>\n",
       "      <td>False</td>\n",
       "      <td>True</td>\n",
       "    </tr>\n",
       "    <tr>\n",
       "      <th>71</th>\n",
       "      <td>58</td>\n",
       "      <td>False</td>\n",
       "      <td>True</td>\n",
       "      <td>35</td>\n",
       "      <td>False</td>\n",
       "      <td>122</td>\n",
       "      <td>0.90</td>\n",
       "      <td>139</td>\n",
       "      <td>Male</td>\n",
       "      <td>True</td>\n",
       "      <td>False</td>\n",
       "    </tr>\n",
       "    <tr>\n",
       "      <th>73</th>\n",
       "      <td>65</td>\n",
       "      <td>False</td>\n",
       "      <td>True</td>\n",
       "      <td>50</td>\n",
       "      <td>False</td>\n",
       "      <td>149</td>\n",
       "      <td>1.30</td>\n",
       "      <td>137</td>\n",
       "      <td>Male</td>\n",
       "      <td>True</td>\n",
       "      <td>False</td>\n",
       "    </tr>\n",
       "    <tr>\n",
       "      <th>85</th>\n",
       "      <td>51</td>\n",
       "      <td>False</td>\n",
       "      <td>False</td>\n",
       "      <td>50</td>\n",
       "      <td>False</td>\n",
       "      <td>406</td>\n",
       "      <td>0.70</td>\n",
       "      <td>140</td>\n",
       "      <td>Male</td>\n",
       "      <td>False</td>\n",
       "      <td>False</td>\n",
       "    </tr>\n",
       "    <tr>\n",
       "      <th>102</th>\n",
       "      <td>80</td>\n",
       "      <td>False</td>\n",
       "      <td>False</td>\n",
       "      <td>25</td>\n",
       "      <td>False</td>\n",
       "      <td>149</td>\n",
       "      <td>1.10</td>\n",
       "      <td>144</td>\n",
       "      <td>Male</td>\n",
       "      <td>True</td>\n",
       "      <td>False</td>\n",
       "    </tr>\n",
       "    <tr>\n",
       "      <th>105</th>\n",
       "      <td>72</td>\n",
       "      <td>True</td>\n",
       "      <td>False</td>\n",
       "      <td>30</td>\n",
       "      <td>True</td>\n",
       "      <td>621</td>\n",
       "      <td>1.70</td>\n",
       "      <td>138</td>\n",
       "      <td>Female</td>\n",
       "      <td>True</td>\n",
       "      <td>True</td>\n",
       "    </tr>\n",
       "    <tr>\n",
       "      <th>109</th>\n",
       "      <td>45</td>\n",
       "      <td>False</td>\n",
       "      <td>True</td>\n",
       "      <td>35</td>\n",
       "      <td>False</td>\n",
       "      <td>850</td>\n",
       "      <td>1.30</td>\n",
       "      <td>142</td>\n",
       "      <td>Male</td>\n",
       "      <td>True</td>\n",
       "      <td>False</td>\n",
       "    </tr>\n",
       "    <tr>\n",
       "      <th>117</th>\n",
       "      <td>85</td>\n",
       "      <td>True</td>\n",
       "      <td>False</td>\n",
       "      <td>60</td>\n",
       "      <td>False</td>\n",
       "      <td>507</td>\n",
       "      <td>3.20</td>\n",
       "      <td>138</td>\n",
       "      <td>Female</td>\n",
       "      <td>False</td>\n",
       "      <td>False</td>\n",
       "    </tr>\n",
       "    <tr>\n",
       "      <th>123</th>\n",
       "      <td>60</td>\n",
       "      <td>True</td>\n",
       "      <td>False</td>\n",
       "      <td>30</td>\n",
       "      <td>True</td>\n",
       "      <td>127</td>\n",
       "      <td>0.90</td>\n",
       "      <td>145</td>\n",
       "      <td>Female</td>\n",
       "      <td>False</td>\n",
       "      <td>False</td>\n",
       "    </tr>\n",
       "    <tr>\n",
       "      <th>162</th>\n",
       "      <td>63</td>\n",
       "      <td>True</td>\n",
       "      <td>False</td>\n",
       "      <td>40</td>\n",
       "      <td>False</td>\n",
       "      <td>448</td>\n",
       "      <td>0.90</td>\n",
       "      <td>137</td>\n",
       "      <td>Male</td>\n",
       "      <td>True</td>\n",
       "      <td>False</td>\n",
       "    </tr>\n",
       "    <tr>\n",
       "      <th>163</th>\n",
       "      <td>50</td>\n",
       "      <td>True</td>\n",
       "      <td>True</td>\n",
       "      <td>35</td>\n",
       "      <td>False</td>\n",
       "      <td>75</td>\n",
       "      <td>0.90</td>\n",
       "      <td>142</td>\n",
       "      <td>Female</td>\n",
       "      <td>False</td>\n",
       "      <td>True</td>\n",
       "    </tr>\n",
       "    <tr>\n",
       "      <th>167</th>\n",
       "      <td>59</td>\n",
       "      <td>False</td>\n",
       "      <td>True</td>\n",
       "      <td>20</td>\n",
       "      <td>False</td>\n",
       "      <td>70</td>\n",
       "      <td>2.40</td>\n",
       "      <td>134</td>\n",
       "      <td>Male</td>\n",
       "      <td>False</td>\n",
       "      <td>True</td>\n",
       "    </tr>\n",
       "    <tr>\n",
       "      <th>176</th>\n",
       "      <td>69</td>\n",
       "      <td>False</td>\n",
       "      <td>False</td>\n",
       "      <td>40</td>\n",
       "      <td>False</td>\n",
       "      <td>105</td>\n",
       "      <td>1.00</td>\n",
       "      <td>135</td>\n",
       "      <td>Male</td>\n",
       "      <td>True</td>\n",
       "      <td>False</td>\n",
       "    </tr>\n",
       "    <tr>\n",
       "      <th>177</th>\n",
       "      <td>49</td>\n",
       "      <td>True</td>\n",
       "      <td>False</td>\n",
       "      <td>50</td>\n",
       "      <td>False</td>\n",
       "      <td>132</td>\n",
       "      <td>1.00</td>\n",
       "      <td>140</td>\n",
       "      <td>Female</td>\n",
       "      <td>False</td>\n",
       "      <td>False</td>\n",
       "    </tr>\n",
       "    <tr>\n",
       "      <th>194</th>\n",
       "      <td>45</td>\n",
       "      <td>False</td>\n",
       "      <td>False</td>\n",
       "      <td>20</td>\n",
       "      <td>True</td>\n",
       "      <td>126</td>\n",
       "      <td>1.60</td>\n",
       "      <td>135</td>\n",
       "      <td>Male</td>\n",
       "      <td>False</td>\n",
       "      <td>True</td>\n",
       "    </tr>\n",
       "    <tr>\n",
       "      <th>200</th>\n",
       "      <td>63</td>\n",
       "      <td>True</td>\n",
       "      <td>False</td>\n",
       "      <td>45</td>\n",
       "      <td>False</td>\n",
       "      <td>73</td>\n",
       "      <td>0.70</td>\n",
       "      <td>137</td>\n",
       "      <td>Male</td>\n",
       "      <td>False</td>\n",
       "      <td>False</td>\n",
       "    </tr>\n",
       "    <tr>\n",
       "      <th>211</th>\n",
       "      <td>50</td>\n",
       "      <td>False</td>\n",
       "      <td>False</td>\n",
       "      <td>62</td>\n",
       "      <td>True</td>\n",
       "      <td>147</td>\n",
       "      <td>0.80</td>\n",
       "      <td>140</td>\n",
       "      <td>Male</td>\n",
       "      <td>True</td>\n",
       "      <td>False</td>\n",
       "    </tr>\n",
       "    <tr>\n",
       "      <th>212</th>\n",
       "      <td>78</td>\n",
       "      <td>False</td>\n",
       "      <td>False</td>\n",
       "      <td>50</td>\n",
       "      <td>False</td>\n",
       "      <td>481</td>\n",
       "      <td>1.40</td>\n",
       "      <td>138</td>\n",
       "      <td>Male</td>\n",
       "      <td>True</td>\n",
       "      <td>False</td>\n",
       "    </tr>\n",
       "    <tr>\n",
       "      <th>223</th>\n",
       "      <td>47</td>\n",
       "      <td>False</td>\n",
       "      <td>False</td>\n",
       "      <td>25</td>\n",
       "      <td>False</td>\n",
       "      <td>130</td>\n",
       "      <td>0.80</td>\n",
       "      <td>134</td>\n",
       "      <td>Male</td>\n",
       "      <td>False</td>\n",
       "      <td>False</td>\n",
       "    </tr>\n",
       "    <tr>\n",
       "      <th>224</th>\n",
       "      <td>58</td>\n",
       "      <td>False</td>\n",
       "      <td>True</td>\n",
       "      <td>25</td>\n",
       "      <td>False</td>\n",
       "      <td>504</td>\n",
       "      <td>1.00</td>\n",
       "      <td>138</td>\n",
       "      <td>Male</td>\n",
       "      <td>False</td>\n",
       "      <td>False</td>\n",
       "    </tr>\n",
       "    <tr>\n",
       "      <th>227</th>\n",
       "      <td>55</td>\n",
       "      <td>True</td>\n",
       "      <td>False</td>\n",
       "      <td>35</td>\n",
       "      <td>True</td>\n",
       "      <td>141</td>\n",
       "      <td>1.00</td>\n",
       "      <td>140</td>\n",
       "      <td>Male</td>\n",
       "      <td>False</td>\n",
       "      <td>False</td>\n",
       "    </tr>\n",
       "    <tr>\n",
       "      <th>230</th>\n",
       "      <td>60</td>\n",
       "      <td>False</td>\n",
       "      <td>False</td>\n",
       "      <td>30</td>\n",
       "      <td>False</td>\n",
       "      <td>62</td>\n",
       "      <td>1.70</td>\n",
       "      <td>127</td>\n",
       "      <td>Female</td>\n",
       "      <td>False</td>\n",
       "      <td>True</td>\n",
       "    </tr>\n",
       "    <tr>\n",
       "      <th>235</th>\n",
       "      <td>77</td>\n",
       "      <td>True</td>\n",
       "      <td>False</td>\n",
       "      <td>50</td>\n",
       "      <td>True</td>\n",
       "      <td>406</td>\n",
       "      <td>1.10</td>\n",
       "      <td>137</td>\n",
       "      <td>Male</td>\n",
       "      <td>False</td>\n",
       "      <td>False</td>\n",
       "    </tr>\n",
       "    <tr>\n",
       "      <th>240</th>\n",
       "      <td>70</td>\n",
       "      <td>False</td>\n",
       "      <td>True</td>\n",
       "      <td>35</td>\n",
       "      <td>True</td>\n",
       "      <td>533</td>\n",
       "      <td>1.30</td>\n",
       "      <td>139</td>\n",
       "      <td>Female</td>\n",
       "      <td>False</td>\n",
       "      <td>False</td>\n",
       "    </tr>\n",
       "    <tr>\n",
       "      <th>250</th>\n",
       "      <td>50</td>\n",
       "      <td>False</td>\n",
       "      <td>False</td>\n",
       "      <td>30</td>\n",
       "      <td>True</td>\n",
       "      <td>404</td>\n",
       "      <td>0.50</td>\n",
       "      <td>139</td>\n",
       "      <td>Female</td>\n",
       "      <td>False</td>\n",
       "      <td>False</td>\n",
       "    </tr>\n",
       "    <tr>\n",
       "      <th>264</th>\n",
       "      <td>61</td>\n",
       "      <td>False</td>\n",
       "      <td>True</td>\n",
       "      <td>38</td>\n",
       "      <td>False</td>\n",
       "      <td>147</td>\n",
       "      <td>1.20</td>\n",
       "      <td>141</td>\n",
       "      <td>Male</td>\n",
       "      <td>False</td>\n",
       "      <td>False</td>\n",
       "    </tr>\n",
       "    <tr>\n",
       "      <th>267</th>\n",
       "      <td>56</td>\n",
       "      <td>True</td>\n",
       "      <td>True</td>\n",
       "      <td>38</td>\n",
       "      <td>False</td>\n",
       "      <td>133</td>\n",
       "      <td>1.70</td>\n",
       "      <td>140</td>\n",
       "      <td>Male</td>\n",
       "      <td>False</td>\n",
       "      <td>False</td>\n",
       "    </tr>\n",
       "    <tr>\n",
       "      <th>275</th>\n",
       "      <td>45</td>\n",
       "      <td>False</td>\n",
       "      <td>False</td>\n",
       "      <td>38</td>\n",
       "      <td>True</td>\n",
       "      <td>422</td>\n",
       "      <td>0.80</td>\n",
       "      <td>137</td>\n",
       "      <td>Female</td>\n",
       "      <td>False</td>\n",
       "      <td>False</td>\n",
       "    </tr>\n",
       "    <tr>\n",
       "      <th>277</th>\n",
       "      <td>70</td>\n",
       "      <td>False</td>\n",
       "      <td>True</td>\n",
       "      <td>38</td>\n",
       "      <td>False</td>\n",
       "      <td>25</td>\n",
       "      <td>1.10</td>\n",
       "      <td>140</td>\n",
       "      <td>Male</td>\n",
       "      <td>False</td>\n",
       "      <td>False</td>\n",
       "    </tr>\n",
       "    <tr>\n",
       "      <th>279</th>\n",
       "      <td>55</td>\n",
       "      <td>False</td>\n",
       "      <td>True</td>\n",
       "      <td>38</td>\n",
       "      <td>False</td>\n",
       "      <td>451</td>\n",
       "      <td>1.30</td>\n",
       "      <td>136</td>\n",
       "      <td>Female</td>\n",
       "      <td>False</td>\n",
       "      <td>False</td>\n",
       "    </tr>\n",
       "    <tr>\n",
       "      <th>281</th>\n",
       "      <td>70</td>\n",
       "      <td>False</td>\n",
       "      <td>False</td>\n",
       "      <td>40</td>\n",
       "      <td>False</td>\n",
       "      <td>51</td>\n",
       "      <td>2.70</td>\n",
       "      <td>136</td>\n",
       "      <td>Male</td>\n",
       "      <td>True</td>\n",
       "      <td>False</td>\n",
       "    </tr>\n",
       "    <tr>\n",
       "      <th>287</th>\n",
       "      <td>45</td>\n",
       "      <td>False</td>\n",
       "      <td>True</td>\n",
       "      <td>55</td>\n",
       "      <td>False</td>\n",
       "      <td>543</td>\n",
       "      <td>1.00</td>\n",
       "      <td>132</td>\n",
       "      <td>Female</td>\n",
       "      <td>False</td>\n",
       "      <td>False</td>\n",
       "    </tr>\n",
       "    <tr>\n",
       "      <th>291</th>\n",
       "      <td>60</td>\n",
       "      <td>False</td>\n",
       "      <td>False</td>\n",
       "      <td>35</td>\n",
       "      <td>False</td>\n",
       "      <td>133</td>\n",
       "      <td>1.40</td>\n",
       "      <td>139</td>\n",
       "      <td>Male</td>\n",
       "      <td>False</td>\n",
       "      <td>False</td>\n",
       "    </tr>\n",
       "    <tr>\n",
       "      <th>296</th>\n",
       "      <td>45</td>\n",
       "      <td>False</td>\n",
       "      <td>True</td>\n",
       "      <td>60</td>\n",
       "      <td>False</td>\n",
       "      <td>742</td>\n",
       "      <td>0.80</td>\n",
       "      <td>138</td>\n",
       "      <td>Female</td>\n",
       "      <td>False</td>\n",
       "      <td>False</td>\n",
       "    </tr>\n",
       "    <tr>\n",
       "      <th>297</th>\n",
       "      <td>45</td>\n",
       "      <td>False</td>\n",
       "      <td>False</td>\n",
       "      <td>38</td>\n",
       "      <td>False</td>\n",
       "      <td>140</td>\n",
       "      <td>1.40</td>\n",
       "      <td>140</td>\n",
       "      <td>Male</td>\n",
       "      <td>True</td>\n",
       "      <td>False</td>\n",
       "    </tr>\n",
       "  </tbody>\n",
       "</table>\n",
       "</div>"
      ],
      "text/plain": [
       "     age  anaemia  diabetes  ejection_fraction  high_blood_pressure  \\\n",
       "6     75     True     False                 15                False   \n",
       "7     60     True      True                 60                False   \n",
       "12    45     True     False                 30                False   \n",
       "14    49     True     False                 30                 True   \n",
       "15    82     True     False                 50                False   \n",
       "19    48     True      True                 55                False   \n",
       "25    80    False      True                 38                False   \n",
       "47    60    False      True                 38                 True   \n",
       "48    80     True     False                 20                 True   \n",
       "51    53     True     False                 20                 True   \n",
       "55    95     True     False                 30                False   \n",
       "65    60    False     False                 20                False   \n",
       "69    65    False      True                 25                False   \n",
       "71    58    False      True                 35                False   \n",
       "73    65    False      True                 50                False   \n",
       "85    51    False     False                 50                False   \n",
       "102   80    False     False                 25                False   \n",
       "105   72     True     False                 30                 True   \n",
       "109   45    False      True                 35                False   \n",
       "117   85     True     False                 60                False   \n",
       "123   60     True     False                 30                 True   \n",
       "162   63     True     False                 40                False   \n",
       "163   50     True      True                 35                False   \n",
       "167   59    False      True                 20                False   \n",
       "176   69    False     False                 40                False   \n",
       "177   49     True     False                 50                False   \n",
       "194   45    False     False                 20                 True   \n",
       "200   63     True     False                 45                False   \n",
       "211   50    False     False                 62                 True   \n",
       "212   78    False     False                 50                False   \n",
       "223   47    False     False                 25                False   \n",
       "224   58    False      True                 25                False   \n",
       "227   55     True     False                 35                 True   \n",
       "230   60    False     False                 30                False   \n",
       "235   77     True     False                 50                 True   \n",
       "240   70    False      True                 35                 True   \n",
       "250   50    False     False                 30                 True   \n",
       "264   61    False      True                 38                False   \n",
       "267   56     True      True                 38                False   \n",
       "275   45    False     False                 38                 True   \n",
       "277   70    False      True                 38                False   \n",
       "279   55    False      True                 38                False   \n",
       "281   70    False     False                 40                False   \n",
       "287   45    False      True                 55                False   \n",
       "291   60    False     False                 35                False   \n",
       "296   45    False      True                 60                False   \n",
       "297   45    False     False                 38                False   \n",
       "\n",
       "     platelets  serum_creatinine  serum_sodium     sex  smoking  patient_dead  \n",
       "6          127              1.20           137    Male    False          True  \n",
       "7          454              1.10           131    Male     True          True  \n",
       "12         136              1.10           137    Male    False          True  \n",
       "14         427              1.00           138  Female    False         False  \n",
       "15          47              1.30           136    Male    False          True  \n",
       "19          87              1.90           121  Female    False          True  \n",
       "25         149              1.90           144    Male     True          True  \n",
       "47         451              0.60           138    Male     True          True  \n",
       "48         140              4.40           133    Male    False          True  \n",
       "51         418              1.40           139  Female    False          True  \n",
       "55         461              2.00           132    Male    False          True  \n",
       "65         119              2.90           127    Male     True          True  \n",
       "69         497              1.83           135    Male    False          True  \n",
       "71         122              0.90           139    Male     True         False  \n",
       "73         149              1.30           137    Male     True         False  \n",
       "85         406              0.70           140    Male    False         False  \n",
       "102        149              1.10           144    Male     True         False  \n",
       "105        621              1.70           138  Female     True          True  \n",
       "109        850              1.30           142    Male     True         False  \n",
       "117        507              3.20           138  Female    False         False  \n",
       "123        127              0.90           145  Female    False         False  \n",
       "162        448              0.90           137    Male     True         False  \n",
       "163         75              0.90           142  Female    False          True  \n",
       "167         70              2.40           134    Male    False          True  \n",
       "176        105              1.00           135    Male     True         False  \n",
       "177        132              1.00           140  Female    False         False  \n",
       "194        126              1.60           135    Male    False          True  \n",
       "200         73              0.70           137    Male    False         False  \n",
       "211        147              0.80           140    Male     True         False  \n",
       "212        481              1.40           138    Male     True         False  \n",
       "223        130              0.80           134    Male    False         False  \n",
       "224        504              1.00           138    Male    False         False  \n",
       "227        141              1.00           140    Male    False         False  \n",
       "230         62              1.70           127  Female    False          True  \n",
       "235        406              1.10           137    Male    False         False  \n",
       "240        533              1.30           139  Female    False         False  \n",
       "250        404              0.50           139  Female    False         False  \n",
       "264        147              1.20           141    Male    False         False  \n",
       "267        133              1.70           140    Male    False         False  \n",
       "275        422              0.80           137  Female    False         False  \n",
       "277         25              1.10           140    Male    False         False  \n",
       "279        451              1.30           136  Female    False         False  \n",
       "281         51              2.70           136    Male     True         False  \n",
       "287        543              1.00           132  Female    False         False  \n",
       "291        133              1.40           139    Male    False         False  \n",
       "296        742              0.80           138  Female    False         False  \n",
       "297        140              1.40           140    Male     True         False  "
      ]
     },
     "execution_count": 38,
     "metadata": {},
     "output_type": "execute_result"
    }
   ],
   "source": [
    "abn_platelets = heart_failure_df[(heart_failure_df.platelets < 150) | (heart_failure_df.platelets >400)]\n",
    "abn_platelets"
   ]
  },
  {
   "cell_type": "code",
   "execution_count": 39,
   "metadata": {},
   "outputs": [
    {
     "data": {
      "text/plain": [
       "47"
      ]
     },
     "execution_count": 39,
     "metadata": {},
     "output_type": "execute_result"
    }
   ],
   "source": [
    "len(abn_platelets)"
   ]
  },
  {
   "cell_type": "markdown",
   "metadata": {},
   "source": [
    "The normal value of Platelets Count ranges from 150 - 400 kilo-platelets / mcL. Here, we found that there are 47 patients with abnormal Platelets Count."
   ]
  },
  {
   "cell_type": "markdown",
   "metadata": {},
   "source": [
    "### Number of Patients with Abnormal Creatinine level in the blood"
   ]
  },
  {
   "cell_type": "code",
   "execution_count": 41,
   "metadata": {},
   "outputs": [
    {
     "data": {
      "text/plain": [
       "'0.6 - 1.2 mg/dL'"
      ]
     },
     "execution_count": 41,
     "metadata": {},
     "output_type": "execute_result"
    }
   ],
   "source": [
    "#to find the normal value of Creatinine level in the blood \n",
    "column_details_df.normal_value['serum_creatinine']"
   ]
  },
  {
   "cell_type": "code",
   "execution_count": 42,
   "metadata": {},
   "outputs": [
    {
     "data": {
      "text/html": [
       "<div>\n",
       "<style scoped>\n",
       "    .dataframe tbody tr th:only-of-type {\n",
       "        vertical-align: middle;\n",
       "    }\n",
       "\n",
       "    .dataframe tbody tr th {\n",
       "        vertical-align: top;\n",
       "    }\n",
       "\n",
       "    .dataframe thead th {\n",
       "        text-align: right;\n",
       "    }\n",
       "</style>\n",
       "<table border=\"1\" class=\"dataframe\">\n",
       "  <thead>\n",
       "    <tr style=\"text-align: right;\">\n",
       "      <th></th>\n",
       "      <th>age</th>\n",
       "      <th>anaemia</th>\n",
       "      <th>diabetes</th>\n",
       "      <th>ejection_fraction</th>\n",
       "      <th>high_blood_pressure</th>\n",
       "      <th>platelets</th>\n",
       "      <th>serum_creatinine</th>\n",
       "      <th>serum_sodium</th>\n",
       "      <th>sex</th>\n",
       "      <th>smoking</th>\n",
       "      <th>patient_dead</th>\n",
       "    </tr>\n",
       "  </thead>\n",
       "  <tbody>\n",
       "    <tr>\n",
       "      <th>0</th>\n",
       "      <td>75</td>\n",
       "      <td>False</td>\n",
       "      <td>False</td>\n",
       "      <td>20</td>\n",
       "      <td>True</td>\n",
       "      <td>265</td>\n",
       "      <td>1.9</td>\n",
       "      <td>130</td>\n",
       "      <td>Male</td>\n",
       "      <td>False</td>\n",
       "      <td>True</td>\n",
       "    </tr>\n",
       "    <tr>\n",
       "      <th>2</th>\n",
       "      <td>65</td>\n",
       "      <td>False</td>\n",
       "      <td>False</td>\n",
       "      <td>20</td>\n",
       "      <td>False</td>\n",
       "      <td>162</td>\n",
       "      <td>1.3</td>\n",
       "      <td>129</td>\n",
       "      <td>Male</td>\n",
       "      <td>True</td>\n",
       "      <td>True</td>\n",
       "    </tr>\n",
       "    <tr>\n",
       "      <th>3</th>\n",
       "      <td>50</td>\n",
       "      <td>True</td>\n",
       "      <td>False</td>\n",
       "      <td>20</td>\n",
       "      <td>False</td>\n",
       "      <td>210</td>\n",
       "      <td>1.9</td>\n",
       "      <td>137</td>\n",
       "      <td>Male</td>\n",
       "      <td>False</td>\n",
       "      <td>True</td>\n",
       "    </tr>\n",
       "    <tr>\n",
       "      <th>4</th>\n",
       "      <td>65</td>\n",
       "      <td>True</td>\n",
       "      <td>True</td>\n",
       "      <td>20</td>\n",
       "      <td>False</td>\n",
       "      <td>327</td>\n",
       "      <td>2.7</td>\n",
       "      <td>116</td>\n",
       "      <td>Female</td>\n",
       "      <td>False</td>\n",
       "      <td>True</td>\n",
       "    </tr>\n",
       "    <tr>\n",
       "      <th>5</th>\n",
       "      <td>90</td>\n",
       "      <td>True</td>\n",
       "      <td>False</td>\n",
       "      <td>40</td>\n",
       "      <td>True</td>\n",
       "      <td>204</td>\n",
       "      <td>2.1</td>\n",
       "      <td>132</td>\n",
       "      <td>Male</td>\n",
       "      <td>True</td>\n",
       "      <td>True</td>\n",
       "    </tr>\n",
       "    <tr>\n",
       "      <th>...</th>\n",
       "      <td>...</td>\n",
       "      <td>...</td>\n",
       "      <td>...</td>\n",
       "      <td>...</td>\n",
       "      <td>...</td>\n",
       "      <td>...</td>\n",
       "      <td>...</td>\n",
       "      <td>...</td>\n",
       "      <td>...</td>\n",
       "      <td>...</td>\n",
       "      <td>...</td>\n",
       "    </tr>\n",
       "    <tr>\n",
       "      <th>282</th>\n",
       "      <td>42</td>\n",
       "      <td>False</td>\n",
       "      <td>False</td>\n",
       "      <td>30</td>\n",
       "      <td>False</td>\n",
       "      <td>215</td>\n",
       "      <td>3.8</td>\n",
       "      <td>128</td>\n",
       "      <td>Male</td>\n",
       "      <td>True</td>\n",
       "      <td>False</td>\n",
       "    </tr>\n",
       "    <tr>\n",
       "      <th>286</th>\n",
       "      <td>60</td>\n",
       "      <td>False</td>\n",
       "      <td>False</td>\n",
       "      <td>35</td>\n",
       "      <td>False</td>\n",
       "      <td>279</td>\n",
       "      <td>1.7</td>\n",
       "      <td>140</td>\n",
       "      <td>Male</td>\n",
       "      <td>False</td>\n",
       "      <td>False</td>\n",
       "    </tr>\n",
       "    <tr>\n",
       "      <th>291</th>\n",
       "      <td>60</td>\n",
       "      <td>False</td>\n",
       "      <td>False</td>\n",
       "      <td>35</td>\n",
       "      <td>False</td>\n",
       "      <td>133</td>\n",
       "      <td>1.4</td>\n",
       "      <td>139</td>\n",
       "      <td>Male</td>\n",
       "      <td>False</td>\n",
       "      <td>False</td>\n",
       "    </tr>\n",
       "    <tr>\n",
       "      <th>297</th>\n",
       "      <td>45</td>\n",
       "      <td>False</td>\n",
       "      <td>False</td>\n",
       "      <td>38</td>\n",
       "      <td>False</td>\n",
       "      <td>140</td>\n",
       "      <td>1.4</td>\n",
       "      <td>140</td>\n",
       "      <td>Male</td>\n",
       "      <td>True</td>\n",
       "      <td>False</td>\n",
       "    </tr>\n",
       "    <tr>\n",
       "      <th>298</th>\n",
       "      <td>50</td>\n",
       "      <td>False</td>\n",
       "      <td>False</td>\n",
       "      <td>45</td>\n",
       "      <td>False</td>\n",
       "      <td>395</td>\n",
       "      <td>1.6</td>\n",
       "      <td>136</td>\n",
       "      <td>Male</td>\n",
       "      <td>True</td>\n",
       "      <td>False</td>\n",
       "    </tr>\n",
       "  </tbody>\n",
       "</table>\n",
       "<p>102 rows × 11 columns</p>\n",
       "</div>"
      ],
      "text/plain": [
       "     age  anaemia  diabetes  ejection_fraction  high_blood_pressure  \\\n",
       "0     75    False     False                 20                 True   \n",
       "2     65    False     False                 20                False   \n",
       "3     50     True     False                 20                False   \n",
       "4     65     True      True                 20                False   \n",
       "5     90     True     False                 40                 True   \n",
       "..   ...      ...       ...                ...                  ...   \n",
       "282   42    False     False                 30                False   \n",
       "286   60    False     False                 35                False   \n",
       "291   60    False     False                 35                False   \n",
       "297   45    False     False                 38                False   \n",
       "298   50    False     False                 45                False   \n",
       "\n",
       "     platelets  serum_creatinine  serum_sodium     sex  smoking  patient_dead  \n",
       "0          265               1.9           130    Male    False          True  \n",
       "2          162               1.3           129    Male     True          True  \n",
       "3          210               1.9           137    Male    False          True  \n",
       "4          327               2.7           116  Female    False          True  \n",
       "5          204               2.1           132    Male     True          True  \n",
       "..         ...               ...           ...     ...      ...           ...  \n",
       "282        215               3.8           128    Male     True         False  \n",
       "286        279               1.7           140    Male    False         False  \n",
       "291        133               1.4           139    Male    False         False  \n",
       "297        140               1.4           140    Male     True         False  \n",
       "298        395               1.6           136    Male     True         False  \n",
       "\n",
       "[102 rows x 11 columns]"
      ]
     },
     "execution_count": 42,
     "metadata": {},
     "output_type": "execute_result"
    }
   ],
   "source": [
    "abn_creatinine = heart_failure_df[(heart_failure_df.serum_creatinine < 0.6) | (heart_failure_df.serum_creatinine >1.2)]\n",
    "abn_creatinine "
   ]
  },
  {
   "cell_type": "markdown",
   "metadata": {},
   "source": [
    "The normal value of Platelets Count ranges from 0.6 - 1.2 mg/dL. Here, we found that there are 102 patients with abnormal Creatinine level in the blood."
   ]
  },
  {
   "cell_type": "markdown",
   "metadata": {},
   "source": [
    "### Number of Patients with Abnormal Sodium level in the blood"
   ]
  },
  {
   "cell_type": "code",
   "execution_count": 43,
   "metadata": {},
   "outputs": [
    {
     "data": {
      "text/plain": [
       "'135 - 145 mEq /L'"
      ]
     },
     "execution_count": 43,
     "metadata": {},
     "output_type": "execute_result"
    }
   ],
   "source": [
    "#to find the normal value of Sodium level in the blood \n",
    "column_details_df.normal_value['serum_sodium']"
   ]
  },
  {
   "cell_type": "code",
   "execution_count": 44,
   "metadata": {},
   "outputs": [
    {
     "data": {
      "text/html": [
       "<div>\n",
       "<style scoped>\n",
       "    .dataframe tbody tr th:only-of-type {\n",
       "        vertical-align: middle;\n",
       "    }\n",
       "\n",
       "    .dataframe tbody tr th {\n",
       "        vertical-align: top;\n",
       "    }\n",
       "\n",
       "    .dataframe thead th {\n",
       "        text-align: right;\n",
       "    }\n",
       "</style>\n",
       "<table border=\"1\" class=\"dataframe\">\n",
       "  <thead>\n",
       "    <tr style=\"text-align: right;\">\n",
       "      <th></th>\n",
       "      <th>age</th>\n",
       "      <th>anaemia</th>\n",
       "      <th>diabetes</th>\n",
       "      <th>ejection_fraction</th>\n",
       "      <th>high_blood_pressure</th>\n",
       "      <th>platelets</th>\n",
       "      <th>serum_creatinine</th>\n",
       "      <th>serum_sodium</th>\n",
       "      <th>sex</th>\n",
       "      <th>smoking</th>\n",
       "      <th>patient_dead</th>\n",
       "    </tr>\n",
       "  </thead>\n",
       "  <tbody>\n",
       "    <tr>\n",
       "      <th>0</th>\n",
       "      <td>75</td>\n",
       "      <td>False</td>\n",
       "      <td>False</td>\n",
       "      <td>20</td>\n",
       "      <td>True</td>\n",
       "      <td>265</td>\n",
       "      <td>1.9</td>\n",
       "      <td>130</td>\n",
       "      <td>Male</td>\n",
       "      <td>False</td>\n",
       "      <td>True</td>\n",
       "    </tr>\n",
       "    <tr>\n",
       "      <th>2</th>\n",
       "      <td>65</td>\n",
       "      <td>False</td>\n",
       "      <td>False</td>\n",
       "      <td>20</td>\n",
       "      <td>False</td>\n",
       "      <td>162</td>\n",
       "      <td>1.3</td>\n",
       "      <td>129</td>\n",
       "      <td>Male</td>\n",
       "      <td>True</td>\n",
       "      <td>True</td>\n",
       "    </tr>\n",
       "    <tr>\n",
       "      <th>4</th>\n",
       "      <td>65</td>\n",
       "      <td>True</td>\n",
       "      <td>True</td>\n",
       "      <td>20</td>\n",
       "      <td>False</td>\n",
       "      <td>327</td>\n",
       "      <td>2.7</td>\n",
       "      <td>116</td>\n",
       "      <td>Female</td>\n",
       "      <td>False</td>\n",
       "      <td>True</td>\n",
       "    </tr>\n",
       "    <tr>\n",
       "      <th>5</th>\n",
       "      <td>90</td>\n",
       "      <td>True</td>\n",
       "      <td>False</td>\n",
       "      <td>40</td>\n",
       "      <td>True</td>\n",
       "      <td>204</td>\n",
       "      <td>2.1</td>\n",
       "      <td>132</td>\n",
       "      <td>Male</td>\n",
       "      <td>True</td>\n",
       "      <td>True</td>\n",
       "    </tr>\n",
       "    <tr>\n",
       "      <th>7</th>\n",
       "      <td>60</td>\n",
       "      <td>True</td>\n",
       "      <td>True</td>\n",
       "      <td>60</td>\n",
       "      <td>False</td>\n",
       "      <td>454</td>\n",
       "      <td>1.1</td>\n",
       "      <td>131</td>\n",
       "      <td>Male</td>\n",
       "      <td>True</td>\n",
       "      <td>True</td>\n",
       "    </tr>\n",
       "    <tr>\n",
       "      <th>...</th>\n",
       "      <td>...</td>\n",
       "      <td>...</td>\n",
       "      <td>...</td>\n",
       "      <td>...</td>\n",
       "      <td>...</td>\n",
       "      <td>...</td>\n",
       "      <td>...</td>\n",
       "      <td>...</td>\n",
       "      <td>...</td>\n",
       "      <td>...</td>\n",
       "      <td>...</td>\n",
       "    </tr>\n",
       "    <tr>\n",
       "      <th>270</th>\n",
       "      <td>44</td>\n",
       "      <td>False</td>\n",
       "      <td>True</td>\n",
       "      <td>30</td>\n",
       "      <td>True</td>\n",
       "      <td>263</td>\n",
       "      <td>1.6</td>\n",
       "      <td>130</td>\n",
       "      <td>Male</td>\n",
       "      <td>True</td>\n",
       "      <td>False</td>\n",
       "    </tr>\n",
       "    <tr>\n",
       "      <th>271</th>\n",
       "      <td>51</td>\n",
       "      <td>False</td>\n",
       "      <td>True</td>\n",
       "      <td>40</td>\n",
       "      <td>False</td>\n",
       "      <td>221</td>\n",
       "      <td>0.9</td>\n",
       "      <td>134</td>\n",
       "      <td>Female</td>\n",
       "      <td>False</td>\n",
       "      <td>False</td>\n",
       "    </tr>\n",
       "    <tr>\n",
       "      <th>272</th>\n",
       "      <td>67</td>\n",
       "      <td>False</td>\n",
       "      <td>False</td>\n",
       "      <td>38</td>\n",
       "      <td>False</td>\n",
       "      <td>215</td>\n",
       "      <td>1.2</td>\n",
       "      <td>133</td>\n",
       "      <td>Female</td>\n",
       "      <td>False</td>\n",
       "      <td>False</td>\n",
       "    </tr>\n",
       "    <tr>\n",
       "      <th>282</th>\n",
       "      <td>42</td>\n",
       "      <td>False</td>\n",
       "      <td>False</td>\n",
       "      <td>30</td>\n",
       "      <td>False</td>\n",
       "      <td>215</td>\n",
       "      <td>3.8</td>\n",
       "      <td>128</td>\n",
       "      <td>Male</td>\n",
       "      <td>True</td>\n",
       "      <td>False</td>\n",
       "    </tr>\n",
       "    <tr>\n",
       "      <th>287</th>\n",
       "      <td>45</td>\n",
       "      <td>False</td>\n",
       "      <td>True</td>\n",
       "      <td>55</td>\n",
       "      <td>False</td>\n",
       "      <td>543</td>\n",
       "      <td>1.0</td>\n",
       "      <td>132</td>\n",
       "      <td>Female</td>\n",
       "      <td>False</td>\n",
       "      <td>False</td>\n",
       "    </tr>\n",
       "  </tbody>\n",
       "</table>\n",
       "<p>85 rows × 11 columns</p>\n",
       "</div>"
      ],
      "text/plain": [
       "     age  anaemia  diabetes  ejection_fraction  high_blood_pressure  \\\n",
       "0     75    False     False                 20                 True   \n",
       "2     65    False     False                 20                False   \n",
       "4     65     True      True                 20                False   \n",
       "5     90     True     False                 40                 True   \n",
       "7     60     True      True                 60                False   \n",
       "..   ...      ...       ...                ...                  ...   \n",
       "270   44    False      True                 30                 True   \n",
       "271   51    False      True                 40                False   \n",
       "272   67    False     False                 38                False   \n",
       "282   42    False     False                 30                False   \n",
       "287   45    False      True                 55                False   \n",
       "\n",
       "     platelets  serum_creatinine  serum_sodium     sex  smoking  patient_dead  \n",
       "0          265               1.9           130    Male    False          True  \n",
       "2          162               1.3           129    Male     True          True  \n",
       "4          327               2.7           116  Female    False          True  \n",
       "5          204               2.1           132    Male     True          True  \n",
       "7          454               1.1           131    Male     True          True  \n",
       "..         ...               ...           ...     ...      ...           ...  \n",
       "270        263               1.6           130    Male     True         False  \n",
       "271        221               0.9           134  Female    False         False  \n",
       "272        215               1.2           133  Female    False         False  \n",
       "282        215               3.8           128    Male     True         False  \n",
       "287        543               1.0           132  Female    False         False  \n",
       "\n",
       "[85 rows x 11 columns]"
      ]
     },
     "execution_count": 44,
     "metadata": {},
     "output_type": "execute_result"
    }
   ],
   "source": [
    "abn_sodium = heart_failure_df[(heart_failure_df.serum_sodium < 135) | (heart_failure_df.serum_sodium >145)]\n",
    "abn_sodium "
   ]
  },
  {
   "cell_type": "markdown",
   "metadata": {},
   "source": [
    "The normal value of Sodium level in the blood ranges from 135 - 145 mEq/L. Here, we found that there are 85 patients with abnormal Sodium level in the blood."
   ]
  },
  {
   "cell_type": "markdown",
   "metadata": {},
   "source": [
    "## Sample Data\n",
    "We've now cleaned up and prepared the dataset for our analysis. Let's take a look at a sample of rows from the data frame."
   ]
  },
  {
   "cell_type": "code",
   "execution_count": 45,
   "metadata": {},
   "outputs": [
    {
     "data": {
      "text/html": [
       "<div>\n",
       "<style scoped>\n",
       "    .dataframe tbody tr th:only-of-type {\n",
       "        vertical-align: middle;\n",
       "    }\n",
       "\n",
       "    .dataframe tbody tr th {\n",
       "        vertical-align: top;\n",
       "    }\n",
       "\n",
       "    .dataframe thead th {\n",
       "        text-align: right;\n",
       "    }\n",
       "</style>\n",
       "<table border=\"1\" class=\"dataframe\">\n",
       "  <thead>\n",
       "    <tr style=\"text-align: right;\">\n",
       "      <th></th>\n",
       "      <th>age</th>\n",
       "      <th>anaemia</th>\n",
       "      <th>diabetes</th>\n",
       "      <th>ejection_fraction</th>\n",
       "      <th>high_blood_pressure</th>\n",
       "      <th>platelets</th>\n",
       "      <th>serum_creatinine</th>\n",
       "      <th>serum_sodium</th>\n",
       "      <th>sex</th>\n",
       "      <th>smoking</th>\n",
       "      <th>patient_dead</th>\n",
       "    </tr>\n",
       "  </thead>\n",
       "  <tbody>\n",
       "    <tr>\n",
       "      <th>41</th>\n",
       "      <td>50</td>\n",
       "      <td>False</td>\n",
       "      <td>True</td>\n",
       "      <td>30</td>\n",
       "      <td>True</td>\n",
       "      <td>153</td>\n",
       "      <td>1.20</td>\n",
       "      <td>136</td>\n",
       "      <td>Female</td>\n",
       "      <td>True</td>\n",
       "      <td>True</td>\n",
       "    </tr>\n",
       "    <tr>\n",
       "      <th>148</th>\n",
       "      <td>75</td>\n",
       "      <td>True</td>\n",
       "      <td>False</td>\n",
       "      <td>30</td>\n",
       "      <td>False</td>\n",
       "      <td>225</td>\n",
       "      <td>1.83</td>\n",
       "      <td>134</td>\n",
       "      <td>Male</td>\n",
       "      <td>False</td>\n",
       "      <td>True</td>\n",
       "    </tr>\n",
       "    <tr>\n",
       "      <th>294</th>\n",
       "      <td>62</td>\n",
       "      <td>False</td>\n",
       "      <td>True</td>\n",
       "      <td>38</td>\n",
       "      <td>True</td>\n",
       "      <td>155</td>\n",
       "      <td>1.10</td>\n",
       "      <td>143</td>\n",
       "      <td>Male</td>\n",
       "      <td>True</td>\n",
       "      <td>False</td>\n",
       "    </tr>\n",
       "    <tr>\n",
       "      <th>166</th>\n",
       "      <td>53</td>\n",
       "      <td>False</td>\n",
       "      <td>False</td>\n",
       "      <td>60</td>\n",
       "      <td>False</td>\n",
       "      <td>220</td>\n",
       "      <td>0.70</td>\n",
       "      <td>133</td>\n",
       "      <td>Male</td>\n",
       "      <td>True</td>\n",
       "      <td>False</td>\n",
       "    </tr>\n",
       "    <tr>\n",
       "      <th>182</th>\n",
       "      <td>65</td>\n",
       "      <td>False</td>\n",
       "      <td>True</td>\n",
       "      <td>25</td>\n",
       "      <td>False</td>\n",
       "      <td>265</td>\n",
       "      <td>1.20</td>\n",
       "      <td>136</td>\n",
       "      <td>Male</td>\n",
       "      <td>True</td>\n",
       "      <td>True</td>\n",
       "    </tr>\n",
       "  </tbody>\n",
       "</table>\n",
       "</div>"
      ],
      "text/plain": [
       "     age  anaemia  diabetes  ejection_fraction  high_blood_pressure  \\\n",
       "41    50    False      True                 30                 True   \n",
       "148   75     True     False                 30                False   \n",
       "294   62    False      True                 38                 True   \n",
       "166   53    False     False                 60                False   \n",
       "182   65    False      True                 25                False   \n",
       "\n",
       "     platelets  serum_creatinine  serum_sodium     sex  smoking  patient_dead  \n",
       "41         153              1.20           136  Female     True          True  \n",
       "148        225              1.83           134    Male    False          True  \n",
       "294        155              1.10           143    Male     True         False  \n",
       "166        220              0.70           133    Male     True         False  \n",
       "182        265              1.20           136    Male     True          True  "
      ]
     },
     "execution_count": 45,
     "metadata": {},
     "output_type": "execute_result"
    }
   ],
   "source": [
    "heart_failure_df.sample(5)"
   ]
  },
  {
   "cell_type": "markdown",
   "metadata": {},
   "source": [
    "### Exploratory Data Analysis & Visualization"
   ]
  },
  {
   "cell_type": "code",
   "execution_count": 46,
   "metadata": {},
   "outputs": [],
   "source": [
    "#import seaborn and matplotlib.pyplot \n",
    "import seaborn as sns\n",
    "import matplotlib\n",
    "import matplotlib.pyplot as plt\n",
    "import matplotlib.patches as mpatches\n",
    "%matplotlib inline \n",
    "#set some default style for our graphs\n",
    "sns.set_style('darkgrid')\n",
    "matplotlib.rcParams['font.size'] = 14\n",
    "matplotlib.rcParams['figure.figsize'] = (9, 5)\n",
    "matplotlib.rcParams['figure.facecolor'] = 'white'"
   ]
  },
  {
   "cell_type": "markdown",
   "metadata": {},
   "source": [
    "%matplotlib inline is used to display our plots embedded within the Jupyter notebook itself. Without this command, sometimes plots may be displayed as pop-ups."
   ]
  },
  {
   "cell_type": "markdown",
   "metadata": {},
   "source": [
    "### Age"
   ]
  },
  {
   "cell_type": "markdown",
   "metadata": {},
   "source": [
    "Let's have a look at the distribution of age of the heart failure patients recorded in our dataset by using \"hist\" function from \"matplotlib.pyplot\" which is used to create histograms.\n",
    "\n",
    "\"A histogram represents the distribution of a variable by creating bins (interval) along the range of values and showing vertical bars to indicate the number of observations in each bin\"."
   ]
  },
  {
   "cell_type": "code",
   "execution_count": 47,
   "metadata": {},
   "outputs": [
    {
     "data": {
      "image/png": "[encoded data removed]",
      "text/plain": [
       "<Figure size 648x360 with 1 Axes>"
      ]
     },
     "metadata": {},
     "output_type": "display_data"
    }
   ],
   "source": [
    "plt.hist(heart_failure_df.age, bins=np.arange(40,100, 5), color ='mediumpurple')\n",
    "plt.xlabel(\"Age of Patients (Years)\")\n",
    "plt.ylabel(\"Number of Patients\")\n",
    "plt.title(\"Distribution of Age\");"
   ]
  },
  {
   "cell_type": "markdown",
   "metadata": {},
   "source": [
    "## Gender\n",
    "The distribution of gender of the Heart Failure patients is another crucial factor to look at. Let's visualize the gender distribution using pie chart."
   ]
  },
  {
   "cell_type": "code",
   "execution_count": 48,
   "metadata": {},
   "outputs": [],
   "source": [
    "#to store the gender counts into a variable\n",
    "gender_counts = heart_failure_df.sex.value_counts()"
   ]
  },
  {
   "cell_type": "code",
   "execution_count": 49,
   "metadata": {},
   "outputs": [
    {
     "data": {
      "image/png": "[encoded data removed]",
      "text/plain": [
       "<Figure size 864x432 with 1 Axes>"
      ]
     },
     "metadata": {},
     "output_type": "display_data"
    }
   ],
   "source": [
    "plt.figure(figsize=(12, 6))\n",
    "plt.pie(gender_counts, labels = gender_counts.index, autopct ='%.1f%%', startangle = 90, explode = [0.1, 0], colors = ['lightskyblue', 'plum'])\n",
    "plt.title(\"Gender Distribution (Male or Female)\");"
   ]
  },
  {
   "cell_type": "markdown",
   "metadata": {},
   "source": [
    "As we can clearly see, only 35.1% of the heart failure patients were female in our observation. This means that we have more number of male patients when compared to females in the dataset. So, we can easily say that this dataset is slightly imbalanced."
   ]
  },
  {
   "cell_type": "markdown",
   "metadata": {},
   "source": [
    "## Death\n",
    "Let's check the relationship between death of the patients and their age group and gender.\n",
    "\n",
    "## Death Rate\n",
    "An important factor to look at is the percentage of patients died during the follow-up period. Let's use pie chart to visualize."
   ]
  },
  {
   "cell_type": "code",
   "execution_count": 50,
   "metadata": {},
   "outputs": [
    {
     "data": {
      "text/plain": [
       "False    203\n",
       "True      96\n",
       "Name: patient_dead, dtype: int64"
      ]
     },
     "execution_count": 50,
     "metadata": {},
     "output_type": "execute_result"
    }
   ],
   "source": [
    "#count number of patients dead\n",
    "dead_counts = heart_failure_df.patient_dead.value_counts()\n",
    "dead_counts "
   ]
  },
  {
   "cell_type": "code",
   "execution_count": 51,
   "metadata": {},
   "outputs": [
    {
     "data": {
      "image/png": "[encoded data removed]",
      "text/plain": [
       "<Figure size 864x432 with 1 Axes>"
      ]
     },
     "metadata": {},
     "output_type": "display_data"
    }
   ],
   "source": [
    "plt.figure(figsize=(12, 6))\n",
    "plt.pie(dead_counts, labels = ['Alive', 'Dead'] , autopct ='%.1f%%', startangle = 90, explode=[0.1, 0], colors =['aquamarine', 'lightcoral'])\n",
    "plt.title(\"% of Patients Dead & Alive\");"
   ]
  },
  {
   "cell_type": "markdown",
   "metadata": {},
   "source": [
    "As we can clearly see that, the percentage of patients died during the follow-up period is 32.1%. This might be because the data mentioned in our data frame corresponds to only the certain period of time (April'15 - December'15) and more number of patients might have died after this period which isn't recorded."
   ]
  },
  {
   "cell_type": "markdown",
   "metadata": {},
   "source": [
    "## Death and Age Group\n",
    "\n",
    "Let's define a helper function to create another column in our actual data frame which describes the age group of the heart failure patients. Since, the age of patients ranges from 40 to 95 years. Let's group them into a category like '40-45', '45-50', '50-55', '55-60' and so on. Age groups of the patient helps us to easily understand and visualize relationship of various attributes with age."
   ]
  },
  {
   "cell_type": "code",
   "execution_count": 52,
   "metadata": {},
   "outputs": [],
   "source": [
    "def create_range_series(number_series):\n",
    "    \"\"\"Creates a series with range(group) for the numeric values \n",
    "    provided in another series which is passed as an argument.\n",
    "    This function takes only one argument which is (Pandas) series object, \n",
    "    returns another (Pandas) series object. \n",
    "    \n",
    "    Argument:\n",
    "        number_series - A column in pandas data frame with numeric values. \n",
    "    \"\"\"\n",
    "    condition = [\n",
    "    (number_series >= 0) & (number_series < 5), \n",
    "    (number_series >= 5) & (number_series < 10), \n",
    "    (number_series >= 10) & (number_series < 15), \n",
    "    (number_series >= 15) & (number_series < 20), \n",
    "    (number_series >= 20) & (number_series < 25), \n",
    "    (number_series >= 25) & (number_series < 30), \n",
    "    (number_series >= 30) & (number_series < 35), \n",
    "    (number_series >= 35) & (number_series < 40), \n",
    "    (number_series >= 40) & (number_series < 45), \n",
    "    (number_series >= 45) & (number_series < 50), \n",
    "    (number_series >= 50) & (number_series < 55), \n",
    "    (number_series >= 55) & (number_series < 60), \n",
    "    (number_series >= 60) & (number_series < 65), \n",
    "    (number_series >= 65) & (number_series < 70), \n",
    "    (number_series >= 70) & (number_series < 75), \n",
    "    (number_series >= 75) & (number_series < 80), \n",
    "    (number_series >= 80) & (number_series < 85), \n",
    "    (number_series >= 85) & (number_series < 90), \n",
    "    (number_series >= 90) & (number_series < 95), \n",
    "    (number_series >= 95) & (number_series < 100)\n",
    "    ]\n",
    "    \n",
    "    output = ['0-5', \n",
    "              '5-10', \n",
    "              '10-15', \n",
    "              '15-20', \n",
    "              '20-25', \n",
    "              '25-30', \n",
    "              '30-35', \n",
    "              '35-40', \n",
    "              '40-45', \n",
    "              '45-50', \n",
    "              '50-55', \n",
    "              '55-60', \n",
    "              '60-65', \n",
    "              '65-70', \n",
    "              '70-75', \n",
    "              '75-80', \n",
    "              '80-85', \n",
    "              '85-90', \n",
    "              '90-95', \n",
    "              '95-100'\n",
    "              ] \n",
    "    result = np.select(condition, output, '>100')\n",
    "    return pd.Series(result)"
   ]
  },
  {
   "cell_type": "code",
   "execution_count": 53,
   "metadata": {},
   "outputs": [
    {
     "data": {
      "text/html": [
       "<div>\n",
       "<style scoped>\n",
       "    .dataframe tbody tr th:only-of-type {\n",
       "        vertical-align: middle;\n",
       "    }\n",
       "\n",
       "    .dataframe tbody tr th {\n",
       "        vertical-align: top;\n",
       "    }\n",
       "\n",
       "    .dataframe thead th {\n",
       "        text-align: right;\n",
       "    }\n",
       "</style>\n",
       "<table border=\"1\" class=\"dataframe\">\n",
       "  <thead>\n",
       "    <tr style=\"text-align: right;\">\n",
       "      <th></th>\n",
       "      <th>age</th>\n",
       "      <th>anaemia</th>\n",
       "      <th>diabetes</th>\n",
       "      <th>ejection_fraction</th>\n",
       "      <th>high_blood_pressure</th>\n",
       "      <th>platelets</th>\n",
       "      <th>serum_creatinine</th>\n",
       "      <th>serum_sodium</th>\n",
       "      <th>sex</th>\n",
       "      <th>smoking</th>\n",
       "      <th>patient_dead</th>\n",
       "      <th>age_group</th>\n",
       "    </tr>\n",
       "  </thead>\n",
       "  <tbody>\n",
       "    <tr>\n",
       "      <th>0</th>\n",
       "      <td>75</td>\n",
       "      <td>False</td>\n",
       "      <td>False</td>\n",
       "      <td>20</td>\n",
       "      <td>True</td>\n",
       "      <td>265</td>\n",
       "      <td>1.9</td>\n",
       "      <td>130</td>\n",
       "      <td>Male</td>\n",
       "      <td>False</td>\n",
       "      <td>True</td>\n",
       "      <td>75-80</td>\n",
       "    </tr>\n",
       "    <tr>\n",
       "      <th>1</th>\n",
       "      <td>55</td>\n",
       "      <td>False</td>\n",
       "      <td>False</td>\n",
       "      <td>38</td>\n",
       "      <td>False</td>\n",
       "      <td>263</td>\n",
       "      <td>1.1</td>\n",
       "      <td>136</td>\n",
       "      <td>Male</td>\n",
       "      <td>False</td>\n",
       "      <td>True</td>\n",
       "      <td>55-60</td>\n",
       "    </tr>\n",
       "    <tr>\n",
       "      <th>2</th>\n",
       "      <td>65</td>\n",
       "      <td>False</td>\n",
       "      <td>False</td>\n",
       "      <td>20</td>\n",
       "      <td>False</td>\n",
       "      <td>162</td>\n",
       "      <td>1.3</td>\n",
       "      <td>129</td>\n",
       "      <td>Male</td>\n",
       "      <td>True</td>\n",
       "      <td>True</td>\n",
       "      <td>65-70</td>\n",
       "    </tr>\n",
       "    <tr>\n",
       "      <th>3</th>\n",
       "      <td>50</td>\n",
       "      <td>True</td>\n",
       "      <td>False</td>\n",
       "      <td>20</td>\n",
       "      <td>False</td>\n",
       "      <td>210</td>\n",
       "      <td>1.9</td>\n",
       "      <td>137</td>\n",
       "      <td>Male</td>\n",
       "      <td>False</td>\n",
       "      <td>True</td>\n",
       "      <td>50-55</td>\n",
       "    </tr>\n",
       "    <tr>\n",
       "      <th>4</th>\n",
       "      <td>65</td>\n",
       "      <td>True</td>\n",
       "      <td>True</td>\n",
       "      <td>20</td>\n",
       "      <td>False</td>\n",
       "      <td>327</td>\n",
       "      <td>2.7</td>\n",
       "      <td>116</td>\n",
       "      <td>Female</td>\n",
       "      <td>False</td>\n",
       "      <td>True</td>\n",
       "      <td>65-70</td>\n",
       "    </tr>\n",
       "    <tr>\n",
       "      <th>...</th>\n",
       "      <td>...</td>\n",
       "      <td>...</td>\n",
       "      <td>...</td>\n",
       "      <td>...</td>\n",
       "      <td>...</td>\n",
       "      <td>...</td>\n",
       "      <td>...</td>\n",
       "      <td>...</td>\n",
       "      <td>...</td>\n",
       "      <td>...</td>\n",
       "      <td>...</td>\n",
       "      <td>...</td>\n",
       "    </tr>\n",
       "    <tr>\n",
       "      <th>294</th>\n",
       "      <td>62</td>\n",
       "      <td>False</td>\n",
       "      <td>True</td>\n",
       "      <td>38</td>\n",
       "      <td>True</td>\n",
       "      <td>155</td>\n",
       "      <td>1.1</td>\n",
       "      <td>143</td>\n",
       "      <td>Male</td>\n",
       "      <td>True</td>\n",
       "      <td>False</td>\n",
       "      <td>60-65</td>\n",
       "    </tr>\n",
       "    <tr>\n",
       "      <th>295</th>\n",
       "      <td>55</td>\n",
       "      <td>False</td>\n",
       "      <td>False</td>\n",
       "      <td>38</td>\n",
       "      <td>False</td>\n",
       "      <td>270</td>\n",
       "      <td>1.2</td>\n",
       "      <td>139</td>\n",
       "      <td>Female</td>\n",
       "      <td>False</td>\n",
       "      <td>False</td>\n",
       "      <td>55-60</td>\n",
       "    </tr>\n",
       "    <tr>\n",
       "      <th>296</th>\n",
       "      <td>45</td>\n",
       "      <td>False</td>\n",
       "      <td>True</td>\n",
       "      <td>60</td>\n",
       "      <td>False</td>\n",
       "      <td>742</td>\n",
       "      <td>0.8</td>\n",
       "      <td>138</td>\n",
       "      <td>Female</td>\n",
       "      <td>False</td>\n",
       "      <td>False</td>\n",
       "      <td>45-50</td>\n",
       "    </tr>\n",
       "    <tr>\n",
       "      <th>297</th>\n",
       "      <td>45</td>\n",
       "      <td>False</td>\n",
       "      <td>False</td>\n",
       "      <td>38</td>\n",
       "      <td>False</td>\n",
       "      <td>140</td>\n",
       "      <td>1.4</td>\n",
       "      <td>140</td>\n",
       "      <td>Male</td>\n",
       "      <td>True</td>\n",
       "      <td>False</td>\n",
       "      <td>45-50</td>\n",
       "    </tr>\n",
       "    <tr>\n",
       "      <th>298</th>\n",
       "      <td>50</td>\n",
       "      <td>False</td>\n",
       "      <td>False</td>\n",
       "      <td>45</td>\n",
       "      <td>False</td>\n",
       "      <td>395</td>\n",
       "      <td>1.6</td>\n",
       "      <td>136</td>\n",
       "      <td>Male</td>\n",
       "      <td>True</td>\n",
       "      <td>False</td>\n",
       "      <td>50-55</td>\n",
       "    </tr>\n",
       "  </tbody>\n",
       "</table>\n",
       "<p>299 rows × 12 columns</p>\n",
       "</div>"
      ],
      "text/plain": [
       "     age  anaemia  diabetes  ejection_fraction  high_blood_pressure  \\\n",
       "0     75    False     False                 20                 True   \n",
       "1     55    False     False                 38                False   \n",
       "2     65    False     False                 20                False   \n",
       "3     50     True     False                 20                False   \n",
       "4     65     True      True                 20                False   \n",
       "..   ...      ...       ...                ...                  ...   \n",
       "294   62    False      True                 38                 True   \n",
       "295   55    False     False                 38                False   \n",
       "296   45    False      True                 60                False   \n",
       "297   45    False     False                 38                False   \n",
       "298   50    False     False                 45                False   \n",
       "\n",
       "     platelets  serum_creatinine  serum_sodium     sex  smoking  patient_dead  \\\n",
       "0          265               1.9           130    Male    False          True   \n",
       "1          263               1.1           136    Male    False          True   \n",
       "2          162               1.3           129    Male     True          True   \n",
       "3          210               1.9           137    Male    False          True   \n",
       "4          327               2.7           116  Female    False          True   \n",
       "..         ...               ...           ...     ...      ...           ...   \n",
       "294        155               1.1           143    Male     True         False   \n",
       "295        270               1.2           139  Female    False         False   \n",
       "296        742               0.8           138  Female    False         False   \n",
       "297        140               1.4           140    Male     True         False   \n",
       "298        395               1.6           136    Male     True         False   \n",
       "\n",
       "    age_group  \n",
       "0       75-80  \n",
       "1       55-60  \n",
       "2       65-70  \n",
       "3       50-55  \n",
       "4       65-70  \n",
       "..        ...  \n",
       "294     60-65  \n",
       "295     55-60  \n",
       "296     45-50  \n",
       "297     45-50  \n",
       "298     50-55  \n",
       "\n",
       "[299 rows x 12 columns]"
      ]
     },
     "execution_count": 53,
     "metadata": {},
     "output_type": "execute_result"
    }
   ],
   "source": [
    "#to create a column with age group \n",
    "heart_failure_df['age_group'] = create_range_series(heart_failure_df.age)\n",
    "heart_failure_df"
   ]
  },
  {
   "cell_type": "markdown",
   "metadata": {},
   "source": [
    "Now that we have created another column in our 'heart_failure_df' data frame for the age groups using our helper function 'create_range_series', let's find the number of patients dead corresponding to the particular age group."
   ]
  },
  {
   "cell_type": "code",
   "execution_count": 54,
   "metadata": {},
   "outputs": [],
   "source": [
    "dead_patients = heart_failure_df[heart_failure_df.patient_dead == True].groupby('age_group').count()\n",
    "alive_patients = heart_failure_df[heart_failure_df.patient_dead == False].groupby('age_group').count()"
   ]
  },
  {
   "cell_type": "code",
   "execution_count": 55,
   "metadata": {},
   "outputs": [
    {
     "data": {
      "image/png": "[encoded data removed]",
      "text/plain": [
       "<Figure size 864x720 with 1 Axes>"
      ]
     },
     "metadata": {},
     "output_type": "display_data"
    }
   ],
   "source": [
    "plt.figure(figsize=(12,10))\n",
    "sns.barplot(x = dead_patients.index , y = dead_patients.patient_dead, alpha=1, palette =['red'])\n",
    "sns.barplot(x = alive_patients.index, y = alive_patients.patient_dead, alpha = 0.5, palette = ['aquamarine'], estimator=sum, ci=None, )\n",
    "plt.title('Dead or Alive')\n",
    "plt.xlabel('Age group of Patients')\n",
    "dead = mpatches.Patch(color= 'red', label='Dead')\n",
    "alive = mpatches.Patch(color='aquamarine', label='Alive')\n",
    "plt.legend(handles=[dead, alive])\n",
    "plt.ylabel('Number of Patients');"
   ]
  },
  {
   "cell_type": "markdown",
   "metadata": {},
   "source": [
    "As we can clearly see, that there are more number of patients died (during the follow-up period is) in 60-65 age group (i.e 15 Patients). It's obvious, since we have more number of patients in 60-65 age group. And the proportion of patients died starts increasing from 65-70 age group and the number of patients died is more than alive patients in the age group of '80-85', '85-90' and '90-95'. This is because over the time, the body’s immune system naturally becomes less capable of handling new threats, such as viruses including novel corona virus. This increases the risk of having issues with various illnesses which ultimately leads to their end."
   ]
  },
  {
   "cell_type": "markdown",
   "metadata": {},
   "source": [
    "## Death and Gender\n",
    "We already have a look at the relationship between the different age groups and death rate. Now let's have a look at how the death rate varies with respect to patients gender. Let's use 'countplot' function from seaborn library to visualize."
   ]
  },
  {
   "cell_type": "code",
   "execution_count": 56,
   "metadata": {},
   "outputs": [
    {
     "data": {
      "image/png": "[encoded data removed]",
      "text/plain": [
       "<Figure size 648x360 with 1 Axes>"
      ]
     },
     "metadata": {},
     "output_type": "display_data"
    }
   ],
   "source": [
    "sns.countplot(x = heart_failure_df.patient_dead, hue = heart_failure_df.sex, palette =['lightskyblue', 'plum'])\n",
    "plt.title('Dead or Alive')\n",
    "plt.xlabel('Patient Dead')\n",
    "plt.ylabel('Number of Patients');"
   ]
  },
  {
   "cell_type": "markdown",
   "metadata": {},
   "source": [
    "We can conclude from the above output, though we have more number of male patients, the proportion of male and female patients died during the follow-up period is almost equal."
   ]
  },
  {
   "cell_type": "markdown",
   "metadata": {},
   "source": [
    "### Diseases\n",
    "We have to analyze the number of patients having anaemia, diabetes, high blood pressure, smoking habit, abnormal ejection fraction, abnormal creatinine and sodium level.\n",
    "\n",
    "So, let's create another column in our data frame to indicate the abnormalities of the various records.\n",
    "\n",
    "Let's use 'subplot' function from 'matplotlib.pyplot' to display 8 plots in a single output."
   ]
  },
  {
   "cell_type": "code",
   "execution_count": 57,
   "metadata": {},
   "outputs": [],
   "source": [
    "#create columns to indicate abnormalities \n",
    "heart_failure_df['abnormal_ef'] = np.where(((heart_failure_df.ejection_fraction >= 55) & (heart_failure_df.ejection_fraction <=70)) , 'Normal', 'Abormal')\n",
    "heart_failure_df['abnormal_platelets'] = np.where(((heart_failure_df.platelets >= 150) & (heart_failure_df.platelets <= 400)) , 'Normal', 'Abnormal')\n",
    "heart_failure_df['abnormal_creatinine'] = np.where(((heart_failure_df.serum_creatinine >= 0.6) & (heart_failure_df.serum_creatinine <= 1.2)), 'Normal','Abnormal')\n",
    "heart_failure_df['abnormal_sodium'] = np.where(((heart_failure_df.serum_sodium >= 135) & (heart_failure_df.serum_sodium <= 145)) , 'Normal', 'Abnormal') "
   ]
  },
  {
   "cell_type": "code",
   "execution_count": 58,
   "metadata": {},
   "outputs": [
    {
     "data": {
      "image/png": "[encoded data removed]",
      "text/plain": [
       "<Figure size 1728x864 with 8 Axes>"
      ]
     },
     "metadata": {},
     "output_type": "display_data"
    }
   ],
   "source": [
    "fig, axis = plt.subplots(2,4, figsize =(24, 12)) \n",
    "#axis(0,0) use this axis for Anaemia \n",
    "axis[0,0].set_title(\" Patients with Anaemia\")\n",
    "sns.countplot(x = heart_failure_df.anaemia, ax=axis[0,0], palette=['aquamarine', 'lightcoral'] )\n",
    "axis[0,0].set_xlabel(\"\")\n",
    "axis[0,0].set_ylabel(\"Number of Patients\")\n",
    "axis[0,0].set_ylim([0, 220])\n",
    "\n",
    "#axis(0,1) use this axis for Diabetes \n",
    "axis[0,1].set_title(\" Patients with Diabetes\")\n",
    "sns.countplot(x = heart_failure_df.diabetes, ax=axis[0,1], palette=['aquamarine', 'lightcoral'])\n",
    "axis[0,1].set_xlabel(\"\")\n",
    "axis[0,1].set_ylabel(\"Number of Patients\")\n",
    "axis[0,1].set_ylim([0, 220])\n",
    "\n",
    "\n",
    "#axis(0,2) use this axis for High blood pressure \n",
    "axis[0,2].set_title(\" Patients with High Blood Pressure\")\n",
    "sns.countplot(x = heart_failure_df.high_blood_pressure, ax=axis[0,2], palette=['aquamarine', 'lightcoral'])\n",
    "axis[0,2].set_xlabel(\"\")\n",
    "axis[0,2].set_ylabel(\"Number of Patients\")\n",
    "axis[0,2].set_ylim([0, 220])\n",
    "\n",
    "#axis(0,3) use this axis for smoking habit \n",
    "axis[0,3].set_title(\" Patients with Smoking Habit\")\n",
    "sns.countplot(x = heart_failure_df.smoking, ax=axis[0,3], palette=['aquamarine', 'lightcoral'])\n",
    "axis[0,3].set_xlabel(\"\")\n",
    "axis[0,3].set_ylabel(\"Number of Patients\")\n",
    "axis[0,3].set_ylim([0, 220])\n",
    "\n",
    "\n",
    "#axis(1,0) use this axis for Ejection Fraction \n",
    "axis[1,0].set_title(\" Patients with Abnormal EF\")\n",
    "sns.countplot(x = heart_failure_df.abnormal_ef.sort_values(ascending =False) , ax=axis[1,0], palette=['aquamarine', 'lightcoral'])\n",
    "axis[1,0].set_xlabel(\"\")\n",
    "axis[1,0].set_ylabel(\"Number of Patients\")\n",
    "axis[1,0].set_ylim([0, 270])\n",
    "\n",
    "#axis(1,1) use this axis for Platelets count \n",
    "axis[1,1].set_title(\" Patients with Abnormal Platelets Count\")\n",
    "sns.countplot(x = heart_failure_df.abnormal_platelets.sort_values(ascending =False) , ax=axis[1,1], palette=['aquamarine', 'lightcoral'])\n",
    "axis[1,1].set_xlabel(\"\")\n",
    "axis[1,1].set_ylabel(\"Number of Patients\")\n",
    "axis[1,1].set_ylim([0, 270])\n",
    "\n",
    "#axis(1,2) use this axis for Creatinine level \n",
    "axis[1,2].set_title(\" Patients with Abnormal Creatinine level\")\n",
    "sns.countplot(x = heart_failure_df.abnormal_creatinine.sort_values(ascending =False), ax=axis[1,2], palette=['aquamarine', 'lightcoral'])\n",
    "axis[1,2].set_xlabel(\"\")\n",
    "axis[1,2].set_ylabel(\"Number of Patients\")\n",
    "axis[1,2].set_ylim([0, 270])\n",
    "\n",
    "#axis(1,3) use this axis for sodium level\n",
    "axis[1,3].set_title(\" Patients with Abnormal Sodium level\")\n",
    "sns.countplot(x = heart_failure_df.abnormal_sodium.sort_values(ascending =False), ax=axis[1,3], palette=['aquamarine', 'lightcoral'])\n",
    "axis[1,3].set_xlabel(\"\")\n",
    "axis[1,3].set_ylabel(\"Number of Patients\")\n",
    "axis[1,3].set_ylim([0, 270])\n",
    "\n",
    "#to provide spacing between adjacent plots\n",
    "plt.tight_layout(pad=2);"
   ]
  },
  {
   "cell_type": "markdown",
   "metadata": {},
   "source": [
    "As we can clearly identify, that abnormality in Ejection Fraction(EF) is the most common factor among the heart failure patients.\n",
    "\n",
    "\"EF refers to the amount of blood being pumped out of the left ventricle each time it contracts. The left ventricle is the heart's main pumping chamber. Heart failure (HF) occurs when the heart cannot pump enough blood to meet the needs of the body\".\n",
    "\n",
    "Low EF is one of the primary reasons which causes heart failure, that's the reason we have more number of patients with abnormal Ejection Fraction.\n",
    "\n",
    "Abnormal Ejection Fraction is followed by the abnormal creatinine and sodium level respectively, the factor which is least common among the heart failure patients is abnormal Platelets Count (i.e only 47 Patients).\n",
    "\n",
    "Number of Patients with Anaemia, Diabetes and High Blood Pressure are almost equal and ranges from 100 - 120 Patients."
   ]
  },
  {
   "cell_type": "markdown",
   "metadata": {},
   "source": [
    "## Pair wise relationship\n",
    "A pair plot gives pairwise relationships in a dataset. Let’s say that we have 5 variables in a dataset. When we implement pair plot with this data, it will create plots between those 5 variables. Say for example, the first variable will be taken as the x-axis value and other variables will be taken as y-axis value individually. As a result, you will have 5 plots for 1st variable alone. This will be repeated for the other variables as well.\n",
    "\n",
    "The idea behind pair plot is to understand the relationship between the variables present in the data.\n",
    "\n",
    "Let's separate numeric columns from the dataset to apply 'pairplot' function to understand the relationship between the different attributes."
   ]
  },
  {
   "cell_type": "code",
   "execution_count": 59,
   "metadata": {},
   "outputs": [],
   "source": [
    "#filter columns with numeric value\n",
    "numeric_column = heart_failure_df[['age', 'ejection_fraction', 'platelets', 'serum_creatinine', 'serum_sodium']]"
   ]
  },
  {
   "cell_type": "code",
   "execution_count": 60,
   "metadata": {},
   "outputs": [
    {
     "data": {
      "image/png": "[encoded data removed]",
      "text/plain": [
       "<Figure size 900x900 with 30 Axes>"
      ]
     },
     "metadata": {},
     "output_type": "display_data"
    }
   ],
   "source": [
    "sns.pairplot(numeric_column);"
   ]
  },
  {
   "cell_type": "markdown",
   "metadata": {},
   "source": [
    "By using 'pairplot' function, we can easily understand and visualize the relationship between the different variables. For example, from the above output we found that only a few patients has normal creatinine and sodium level."
   ]
  },
  {
   "cell_type": "markdown",
   "metadata": {},
   "source": [
    "## Attributes - Distribution\n",
    "Let's build distribution plot for all columns with numeric values.\n",
    "\n",
    "Distribution plot helps us to find whether the variables are normally distributed or skewed."
   ]
  },
  {
   "cell_type": "code",
   "execution_count": 61,
   "metadata": {},
   "outputs": [
    {
     "data": {
      "image/png": "[encoded data removed]",
      "text/plain": [
       "<Figure size 648x360 with 1 Axes>"
      ]
     },
     "metadata": {},
     "output_type": "display_data"
    }
   ],
   "source": [
    "plt.title(\"Distribution of Ejection Fraction\")\n",
    "sns.histplot(heart_failure_df.ejection_fraction, kde = True, color ='purple');"
   ]
  },
  {
   "cell_type": "code",
   "execution_count": 62,
   "metadata": {},
   "outputs": [
    {
     "data": {
      "image/png": "[encoded data removed]",
      "text/plain": [
       "<Figure size 648x360 with 1 Axes>"
      ]
     },
     "metadata": {},
     "output_type": "display_data"
    }
   ],
   "source": [
    "plt.title(\"Distribution of Platelets Count\") \n",
    "sns.histplot(heart_failure_df.platelets, kde = True, color ='purple');"
   ]
  },
  {
   "cell_type": "code",
   "execution_count": 63,
   "metadata": {},
   "outputs": [
    {
     "data": {
      "image/png": "[encoded data removed]",
      "text/plain": [
       "<Figure size 648x360 with 1 Axes>"
      ]
     },
     "metadata": {},
     "output_type": "display_data"
    }
   ],
   "source": [
    "plt.title(\"Distribution of Creatinine Level in the blood\") \n",
    "sns.histplot(heart_failure_df.serum_creatinine, kde = True, bins = 30, color ='purple');"
   ]
  },
  {
   "cell_type": "code",
   "execution_count": 64,
   "metadata": {},
   "outputs": [
    {
     "data": {
      "image/png": "[encoded data removed]",
      "text/plain": [
       "<Figure size 648x360 with 1 Axes>"
      ]
     },
     "metadata": {},
     "output_type": "display_data"
    }
   ],
   "source": [
    "plt.title(\"Distribution of Sodium Level in the blood\") \n",
    "sns.histplot(heart_failure_df.serum_sodium, kde = True, color ='purple');"
   ]
  },
  {
   "cell_type": "markdown",
   "metadata": {},
   "source": [
    "Now that we have plotted distribution plot for platelets count, creatinine level, sodium level and ejection fraction and it's obvious that no values are normally distributed. Platelets count, Ejection Fraction and Creatinine Level are right skewed and Sodium Level is left skewed. If the skewness in the data is more, we may have to perform some modifications, in order to get better results from the Machine Learning models once we train them."
   ]
  },
  {
   "cell_type": "markdown",
   "metadata": {},
   "source": [
    "# Exploration\n",
    "\n",
    "We've already gained several insights about the heart failure patients and their clinical records by exploring individual columns of the dataset. Let's ask some specific questions and we'll try to answer them using data frame operations and visualization."
   ]
  },
  {
   "cell_type": "markdown",
   "metadata": {},
   "source": [
    "### Q: How many number of patients are there in our observation? out of them how many male and female patients are there?"
   ]
  },
  {
   "cell_type": "code",
   "execution_count": 65,
   "metadata": {},
   "outputs": [
    {
     "data": {
      "text/plain": [
       "(299, 16)"
      ]
     },
     "execution_count": 65,
     "metadata": {},
     "output_type": "execute_result"
    }
   ],
   "source": [
    "heart_failure_df.shape"
   ]
  },
  {
   "cell_type": "code",
   "execution_count": 66,
   "metadata": {},
   "outputs": [
    {
     "name": "stdout",
     "output_type": "stream",
     "text": [
      "Total number of patients in our observation is 299.\n"
     ]
    }
   ],
   "source": [
    "print(\"Total number of patients in our observation is {}.\".format(heart_failure_df.shape[0]))"
   ]
  },
  {
   "cell_type": "code",
   "execution_count": 67,
   "metadata": {},
   "outputs": [
    {
     "data": {
      "text/plain": [
       "Male      194\n",
       "Female    105\n",
       "Name: sex, dtype: int64"
      ]
     },
     "execution_count": 67,
     "metadata": {},
     "output_type": "execute_result"
    }
   ],
   "source": [
    "heart_failure_df.sex.value_counts()"
   ]
  },
  {
   "cell_type": "code",
   "execution_count": 68,
   "metadata": {},
   "outputs": [
    {
     "name": "stdout",
     "output_type": "stream",
     "text": [
      "Number of Male patients in our observation is 194.\n",
      "Number of Female patients in our observation is 105.\n"
     ]
    }
   ],
   "source": [
    "print(\"Number of Male patients in our observation is {}.\".format(heart_failure_df.sex.value_counts()[0]))\n",
    "print(\"Number of Female patients in our observation is {}.\".format(heart_failure_df.sex.value_counts()[1]))"
   ]
  },
  {
   "cell_type": "markdown",
   "metadata": {},
   "source": [
    "### Q: What is the normal level of Ejection Fraction? How many patients had abnormal Ejection Fraction? "
   ]
  },
  {
   "cell_type": "code",
   "execution_count": 69,
   "metadata": {},
   "outputs": [
    {
     "data": {
      "text/plain": [
       "'55% - 70%'"
      ]
     },
     "execution_count": 69,
     "metadata": {},
     "output_type": "execute_result"
    }
   ],
   "source": [
    "column_details_df.normal_value['ejection_fraction']"
   ]
  },
  {
   "cell_type": "code",
   "execution_count": 70,
   "metadata": {},
   "outputs": [
    {
     "name": "stdout",
     "output_type": "stream",
     "text": [
      "The normal level of Ejection Fraction is 55% - 70%.\n"
     ]
    }
   ],
   "source": [
    "print(\"The normal level of Ejection Fraction is {}.\".format(column_details_df.normal_value['ejection_fraction']))"
   ]
  },
  {
   "cell_type": "code",
   "execution_count": 71,
   "metadata": {},
   "outputs": [
    {
     "data": {
      "text/plain": [
       "(38, 16)"
      ]
     },
     "execution_count": 71,
     "metadata": {},
     "output_type": "execute_result"
    }
   ],
   "source": [
    "heart_failure_df[(heart_failure_df.ejection_fraction >= 55) & (heart_failure_df.ejection_fraction <= 70)].shape"
   ]
  },
  {
   "cell_type": "code",
   "execution_count": 72,
   "metadata": {},
   "outputs": [
    {
     "name": "stdout",
     "output_type": "stream",
     "text": [
      "Number of Patients with Normal Ejection Fraction rate is 38.\n"
     ]
    }
   ],
   "source": [
    "print(\"Number of Patients with Normal Ejection Fraction rate is {}.\".format(heart_failure_df[(heart_failure_df.ejection_fraction >= 55) & (heart_failure_df.ejection_fraction <= 70)].shape[0]))"
   ]
  },
  {
   "cell_type": "markdown",
   "metadata": {},
   "source": [
    "### Q: What is the normal level of Platelets Count? How many patients had abnormal Platelets Count? "
   ]
  },
  {
   "cell_type": "code",
   "execution_count": 73,
   "metadata": {},
   "outputs": [
    {
     "data": {
      "text/plain": [
       "'150 - 400 kilo-platelets / mcL'"
      ]
     },
     "execution_count": 73,
     "metadata": {},
     "output_type": "execute_result"
    }
   ],
   "source": [
    "column_details_df.normal_value['platelets']"
   ]
  },
  {
   "cell_type": "code",
   "execution_count": 74,
   "metadata": {},
   "outputs": [
    {
     "name": "stdout",
     "output_type": "stream",
     "text": [
      "The normal level of Platelets Count in human body is 150 - 400 kilo-platelets / mcL.\n"
     ]
    }
   ],
   "source": [
    "print(\"The normal level of Platelets Count in human body is {}.\".format(column_details_df.normal_value['platelets']))"
   ]
  },
  {
   "cell_type": "code",
   "execution_count": 75,
   "metadata": {},
   "outputs": [
    {
     "data": {
      "text/plain": [
       "(252, 16)"
      ]
     },
     "execution_count": 75,
     "metadata": {},
     "output_type": "execute_result"
    }
   ],
   "source": [
    "heart_failure_df[(heart_failure_df.platelets >= 150) & (heart_failure_df.platelets <= 400)].shape"
   ]
  },
  {
   "cell_type": "code",
   "execution_count": 76,
   "metadata": {},
   "outputs": [
    {
     "name": "stdout",
     "output_type": "stream",
     "text": [
      "Number of Patients with Normal Platelets Count is 252.\n"
     ]
    }
   ],
   "source": [
    "print(\"Number of Patients with Normal Platelets Count is {}.\".format(heart_failure_df[(heart_failure_df.platelets >= 150) & (heart_failure_df.platelets <= 400)].shape[0]))"
   ]
  },
  {
   "cell_type": "markdown",
   "metadata": {},
   "source": [
    "### Q: What is the normal level of Creatinine in the blood? How many patients had abnormal Creatinine level?"
   ]
  },
  {
   "cell_type": "code",
   "execution_count": 77,
   "metadata": {},
   "outputs": [
    {
     "data": {
      "text/plain": [
       "'0.6 - 1.2 mg/dL'"
      ]
     },
     "execution_count": 77,
     "metadata": {},
     "output_type": "execute_result"
    }
   ],
   "source": [
    "column_details_df.normal_value['serum_creatinine']"
   ]
  },
  {
   "cell_type": "code",
   "execution_count": 78,
   "metadata": {},
   "outputs": [
    {
     "name": "stdout",
     "output_type": "stream",
     "text": [
      "The normal level of Creatinine in the blood is 0.6 - 1.2 mg/dL.\n"
     ]
    }
   ],
   "source": [
    "print(\"The normal level of Creatinine in the blood is {}.\".format(column_details_df.normal_value['serum_creatinine']))"
   ]
  },
  {
   "cell_type": "code",
   "execution_count": 79,
   "metadata": {},
   "outputs": [
    {
     "data": {
      "text/plain": [
       "(197, 16)"
      ]
     },
     "execution_count": 79,
     "metadata": {},
     "output_type": "execute_result"
    }
   ],
   "source": [
    "heart_failure_df[(heart_failure_df.serum_creatinine >= 0.6) & (heart_failure_df.serum_creatinine <= 1.2)].shape"
   ]
  },
  {
   "cell_type": "code",
   "execution_count": 80,
   "metadata": {},
   "outputs": [
    {
     "name": "stdout",
     "output_type": "stream",
     "text": [
      "Number of Patients with Normal Creatinine level in the blood is 197.\n"
     ]
    }
   ],
   "source": [
    "print(\"Number of Patients with Normal Creatinine level in the blood is {}.\".format(heart_failure_df[(heart_failure_df.serum_creatinine >= 0.6) & (heart_failure_df.serum_creatinine <= 1.2)].shape[0])) "
   ]
  },
  {
   "cell_type": "markdown",
   "metadata": {},
   "source": [
    "### Q: What is the normal level of Sodium in the blood? How many patients had abnormal Sodium level? "
   ]
  },
  {
   "cell_type": "code",
   "execution_count": 81,
   "metadata": {},
   "outputs": [
    {
     "data": {
      "text/plain": [
       "'135 - 145 mEq /L'"
      ]
     },
     "execution_count": 81,
     "metadata": {},
     "output_type": "execute_result"
    }
   ],
   "source": [
    "column_details_df.normal_value['serum_sodium']"
   ]
  },
  {
   "cell_type": "code",
   "execution_count": 82,
   "metadata": {},
   "outputs": [
    {
     "name": "stdout",
     "output_type": "stream",
     "text": [
      "The normal level of Sodium in the blood is 135 - 145 mEq /L.\n"
     ]
    }
   ],
   "source": [
    "print(\"The normal level of Sodium in the blood is {}.\".format(column_details_df.normal_value['serum_sodium']))"
   ]
  },
  {
   "cell_type": "code",
   "execution_count": 83,
   "metadata": {},
   "outputs": [
    {
     "data": {
      "text/plain": [
       "(214, 16)"
      ]
     },
     "execution_count": 83,
     "metadata": {},
     "output_type": "execute_result"
    }
   ],
   "source": [
    "heart_failure_df[(heart_failure_df.serum_sodium >= 135) & (heart_failure_df.serum_sodium <= 145)].shape"
   ]
  },
  {
   "cell_type": "code",
   "execution_count": 84,
   "metadata": {},
   "outputs": [
    {
     "name": "stdout",
     "output_type": "stream",
     "text": [
      "Number of Patients with Normal Sodium level in the blood is 214.\n"
     ]
    }
   ],
   "source": [
    "print(\"Number of Patients with Normal Sodium level in the blood is {}.\".format(heart_failure_df[(heart_failure_df.serum_sodium >= 135) & (heart_failure_df.serum_sodium <= 145)].shape[0])) "
   ]
  },
  {
   "cell_type": "markdown",
   "metadata": {},
   "source": [
    "### Q: How many patients had smoking habit? out of them how many male and female patients are there?"
   ]
  },
  {
   "cell_type": "code",
   "execution_count": 85,
   "metadata": {},
   "outputs": [
    {
     "data": {
      "text/html": [
       "<div>\n",
       "<style scoped>\n",
       "    .dataframe tbody tr th:only-of-type {\n",
       "        vertical-align: middle;\n",
       "    }\n",
       "\n",
       "    .dataframe tbody tr th {\n",
       "        vertical-align: top;\n",
       "    }\n",
       "\n",
       "    .dataframe thead th {\n",
       "        text-align: right;\n",
       "    }\n",
       "</style>\n",
       "<table border=\"1\" class=\"dataframe\">\n",
       "  <thead>\n",
       "    <tr style=\"text-align: right;\">\n",
       "      <th></th>\n",
       "      <th>age</th>\n",
       "      <th>anaemia</th>\n",
       "      <th>diabetes</th>\n",
       "      <th>ejection_fraction</th>\n",
       "      <th>high_blood_pressure</th>\n",
       "      <th>platelets</th>\n",
       "      <th>serum_creatinine</th>\n",
       "      <th>serum_sodium</th>\n",
       "      <th>sex</th>\n",
       "      <th>smoking</th>\n",
       "      <th>patient_dead</th>\n",
       "      <th>age_group</th>\n",
       "      <th>abnormal_ef</th>\n",
       "      <th>abnormal_platelets</th>\n",
       "      <th>abnormal_creatinine</th>\n",
       "      <th>abnormal_sodium</th>\n",
       "    </tr>\n",
       "  </thead>\n",
       "  <tbody>\n",
       "    <tr>\n",
       "      <th>2</th>\n",
       "      <td>65</td>\n",
       "      <td>False</td>\n",
       "      <td>False</td>\n",
       "      <td>20</td>\n",
       "      <td>False</td>\n",
       "      <td>162</td>\n",
       "      <td>1.3</td>\n",
       "      <td>129</td>\n",
       "      <td>Male</td>\n",
       "      <td>True</td>\n",
       "      <td>True</td>\n",
       "      <td>65-70</td>\n",
       "      <td>Abormal</td>\n",
       "      <td>Normal</td>\n",
       "      <td>Abnormal</td>\n",
       "      <td>Abnormal</td>\n",
       "    </tr>\n",
       "    <tr>\n",
       "      <th>5</th>\n",
       "      <td>90</td>\n",
       "      <td>True</td>\n",
       "      <td>False</td>\n",
       "      <td>40</td>\n",
       "      <td>True</td>\n",
       "      <td>204</td>\n",
       "      <td>2.1</td>\n",
       "      <td>132</td>\n",
       "      <td>Male</td>\n",
       "      <td>True</td>\n",
       "      <td>True</td>\n",
       "      <td>90-95</td>\n",
       "      <td>Abormal</td>\n",
       "      <td>Normal</td>\n",
       "      <td>Abnormal</td>\n",
       "      <td>Abnormal</td>\n",
       "    </tr>\n",
       "    <tr>\n",
       "      <th>7</th>\n",
       "      <td>60</td>\n",
       "      <td>True</td>\n",
       "      <td>True</td>\n",
       "      <td>60</td>\n",
       "      <td>False</td>\n",
       "      <td>454</td>\n",
       "      <td>1.1</td>\n",
       "      <td>131</td>\n",
       "      <td>Male</td>\n",
       "      <td>True</td>\n",
       "      <td>True</td>\n",
       "      <td>60-65</td>\n",
       "      <td>Normal</td>\n",
       "      <td>Abnormal</td>\n",
       "      <td>Normal</td>\n",
       "      <td>Abnormal</td>\n",
       "    </tr>\n",
       "    <tr>\n",
       "      <th>9</th>\n",
       "      <td>80</td>\n",
       "      <td>True</td>\n",
       "      <td>False</td>\n",
       "      <td>35</td>\n",
       "      <td>True</td>\n",
       "      <td>388</td>\n",
       "      <td>9.4</td>\n",
       "      <td>133</td>\n",
       "      <td>Male</td>\n",
       "      <td>True</td>\n",
       "      <td>True</td>\n",
       "      <td>80-85</td>\n",
       "      <td>Abormal</td>\n",
       "      <td>Normal</td>\n",
       "      <td>Abnormal</td>\n",
       "      <td>Abnormal</td>\n",
       "    </tr>\n",
       "    <tr>\n",
       "      <th>10</th>\n",
       "      <td>75</td>\n",
       "      <td>True</td>\n",
       "      <td>False</td>\n",
       "      <td>38</td>\n",
       "      <td>True</td>\n",
       "      <td>368</td>\n",
       "      <td>4.0</td>\n",
       "      <td>131</td>\n",
       "      <td>Male</td>\n",
       "      <td>True</td>\n",
       "      <td>True</td>\n",
       "      <td>75-80</td>\n",
       "      <td>Abormal</td>\n",
       "      <td>Normal</td>\n",
       "      <td>Abnormal</td>\n",
       "      <td>Abnormal</td>\n",
       "    </tr>\n",
       "    <tr>\n",
       "      <th>...</th>\n",
       "      <td>...</td>\n",
       "      <td>...</td>\n",
       "      <td>...</td>\n",
       "      <td>...</td>\n",
       "      <td>...</td>\n",
       "      <td>...</td>\n",
       "      <td>...</td>\n",
       "      <td>...</td>\n",
       "      <td>...</td>\n",
       "      <td>...</td>\n",
       "      <td>...</td>\n",
       "      <td>...</td>\n",
       "      <td>...</td>\n",
       "      <td>...</td>\n",
       "      <td>...</td>\n",
       "      <td>...</td>\n",
       "    </tr>\n",
       "    <tr>\n",
       "      <th>292</th>\n",
       "      <td>52</td>\n",
       "      <td>False</td>\n",
       "      <td>True</td>\n",
       "      <td>38</td>\n",
       "      <td>False</td>\n",
       "      <td>382</td>\n",
       "      <td>1.0</td>\n",
       "      <td>140</td>\n",
       "      <td>Male</td>\n",
       "      <td>True</td>\n",
       "      <td>False</td>\n",
       "      <td>50-55</td>\n",
       "      <td>Abormal</td>\n",
       "      <td>Normal</td>\n",
       "      <td>Normal</td>\n",
       "      <td>Normal</td>\n",
       "    </tr>\n",
       "    <tr>\n",
       "      <th>293</th>\n",
       "      <td>63</td>\n",
       "      <td>True</td>\n",
       "      <td>True</td>\n",
       "      <td>35</td>\n",
       "      <td>False</td>\n",
       "      <td>179</td>\n",
       "      <td>0.9</td>\n",
       "      <td>136</td>\n",
       "      <td>Male</td>\n",
       "      <td>True</td>\n",
       "      <td>False</td>\n",
       "      <td>60-65</td>\n",
       "      <td>Abormal</td>\n",
       "      <td>Normal</td>\n",
       "      <td>Normal</td>\n",
       "      <td>Normal</td>\n",
       "    </tr>\n",
       "    <tr>\n",
       "      <th>294</th>\n",
       "      <td>62</td>\n",
       "      <td>False</td>\n",
       "      <td>True</td>\n",
       "      <td>38</td>\n",
       "      <td>True</td>\n",
       "      <td>155</td>\n",
       "      <td>1.1</td>\n",
       "      <td>143</td>\n",
       "      <td>Male</td>\n",
       "      <td>True</td>\n",
       "      <td>False</td>\n",
       "      <td>60-65</td>\n",
       "      <td>Abormal</td>\n",
       "      <td>Normal</td>\n",
       "      <td>Normal</td>\n",
       "      <td>Normal</td>\n",
       "    </tr>\n",
       "    <tr>\n",
       "      <th>297</th>\n",
       "      <td>45</td>\n",
       "      <td>False</td>\n",
       "      <td>False</td>\n",
       "      <td>38</td>\n",
       "      <td>False</td>\n",
       "      <td>140</td>\n",
       "      <td>1.4</td>\n",
       "      <td>140</td>\n",
       "      <td>Male</td>\n",
       "      <td>True</td>\n",
       "      <td>False</td>\n",
       "      <td>45-50</td>\n",
       "      <td>Abormal</td>\n",
       "      <td>Abnormal</td>\n",
       "      <td>Abnormal</td>\n",
       "      <td>Normal</td>\n",
       "    </tr>\n",
       "    <tr>\n",
       "      <th>298</th>\n",
       "      <td>50</td>\n",
       "      <td>False</td>\n",
       "      <td>False</td>\n",
       "      <td>45</td>\n",
       "      <td>False</td>\n",
       "      <td>395</td>\n",
       "      <td>1.6</td>\n",
       "      <td>136</td>\n",
       "      <td>Male</td>\n",
       "      <td>True</td>\n",
       "      <td>False</td>\n",
       "      <td>50-55</td>\n",
       "      <td>Abormal</td>\n",
       "      <td>Normal</td>\n",
       "      <td>Abnormal</td>\n",
       "      <td>Normal</td>\n",
       "    </tr>\n",
       "  </tbody>\n",
       "</table>\n",
       "<p>96 rows × 16 columns</p>\n",
       "</div>"
      ],
      "text/plain": [
       "     age  anaemia  diabetes  ejection_fraction  high_blood_pressure  \\\n",
       "2     65    False     False                 20                False   \n",
       "5     90     True     False                 40                 True   \n",
       "7     60     True      True                 60                False   \n",
       "9     80     True     False                 35                 True   \n",
       "10    75     True     False                 38                 True   \n",
       "..   ...      ...       ...                ...                  ...   \n",
       "292   52    False      True                 38                False   \n",
       "293   63     True      True                 35                False   \n",
       "294   62    False      True                 38                 True   \n",
       "297   45    False     False                 38                False   \n",
       "298   50    False     False                 45                False   \n",
       "\n",
       "     platelets  serum_creatinine  serum_sodium   sex  smoking  patient_dead  \\\n",
       "2          162               1.3           129  Male     True          True   \n",
       "5          204               2.1           132  Male     True          True   \n",
       "7          454               1.1           131  Male     True          True   \n",
       "9          388               9.4           133  Male     True          True   \n",
       "10         368               4.0           131  Male     True          True   \n",
       "..         ...               ...           ...   ...      ...           ...   \n",
       "292        382               1.0           140  Male     True         False   \n",
       "293        179               0.9           136  Male     True         False   \n",
       "294        155               1.1           143  Male     True         False   \n",
       "297        140               1.4           140  Male     True         False   \n",
       "298        395               1.6           136  Male     True         False   \n",
       "\n",
       "    age_group abnormal_ef abnormal_platelets abnormal_creatinine  \\\n",
       "2       65-70     Abormal             Normal            Abnormal   \n",
       "5       90-95     Abormal             Normal            Abnormal   \n",
       "7       60-65      Normal           Abnormal              Normal   \n",
       "9       80-85     Abormal             Normal            Abnormal   \n",
       "10      75-80     Abormal             Normal            Abnormal   \n",
       "..        ...         ...                ...                 ...   \n",
       "292     50-55     Abormal             Normal              Normal   \n",
       "293     60-65     Abormal             Normal              Normal   \n",
       "294     60-65     Abormal             Normal              Normal   \n",
       "297     45-50     Abormal           Abnormal            Abnormal   \n",
       "298     50-55     Abormal             Normal            Abnormal   \n",
       "\n",
       "    abnormal_sodium  \n",
       "2          Abnormal  \n",
       "5          Abnormal  \n",
       "7          Abnormal  \n",
       "9          Abnormal  \n",
       "10         Abnormal  \n",
       "..              ...  \n",
       "292          Normal  \n",
       "293          Normal  \n",
       "294          Normal  \n",
       "297          Normal  \n",
       "298          Normal  \n",
       "\n",
       "[96 rows x 16 columns]"
      ]
     },
     "execution_count": 85,
     "metadata": {},
     "output_type": "execute_result"
    }
   ],
   "source": [
    "heart_failure_df[heart_failure_df.smoking == True]"
   ]
  },
  {
   "cell_type": "code",
   "execution_count": 86,
   "metadata": {},
   "outputs": [
    {
     "name": "stdout",
     "output_type": "stream",
     "text": [
      "Number of Patients with Smoking Habit is 96.\n"
     ]
    }
   ],
   "source": [
    "print(\"Number of Patients with Smoking Habit is {}.\".format(heart_failure_df[heart_failure_df.smoking == True].shape[0]))"
   ]
  },
  {
   "cell_type": "code",
   "execution_count": 89,
   "metadata": {},
   "outputs": [
    {
     "data": {
      "text/plain": [
       "sex\n",
       "Female     4\n",
       "Male      92\n",
       "Name: smoking, dtype: int64"
      ]
     },
     "execution_count": 89,
     "metadata": {},
     "output_type": "execute_result"
    }
   ],
   "source": [
    "smokers = heart_failure_df[heart_failure_df.smoking == True].groupby('sex').count()\n",
    "smokers = smokers['smoking']\n",
    "smokers"
   ]
  },
  {
   "cell_type": "code",
   "execution_count": 90,
   "metadata": {},
   "outputs": [
    {
     "name": "stdout",
     "output_type": "stream",
     "text": [
      "Number of Male Patients with Smoking Habit is 92.\n"
     ]
    }
   ],
   "source": [
    "print(\"Number of Male Patients with Smoking Habit is {}.\".format(smokers[1]))"
   ]
  },
  {
   "cell_type": "code",
   "execution_count": 91,
   "metadata": {},
   "outputs": [
    {
     "name": "stdout",
     "output_type": "stream",
     "text": [
      "Number of Female Patients with Smoking Habit is 4.\n"
     ]
    }
   ],
   "source": [
    "print(\"Number of Female Patients with Smoking Habit is {}.\".format(smokers[0]))"
   ]
  },
  {
   "cell_type": "markdown",
   "metadata": {},
   "source": [
    "### Q: How many patients had anaemia or diabetes or high blood pressure?"
   ]
  },
  {
   "cell_type": "code",
   "execution_count": 92,
   "metadata": {},
   "outputs": [],
   "source": [
    "anaemia_patients = heart_failure_df[heart_failure_df.anaemia == True].shape[0]\n",
    "diabetes_patients = heart_failure_df[heart_failure_df.diabetes == True].shape[0]\n",
    "high_bp_patients = heart_failure_df[heart_failure_df.high_blood_pressure == True].shape[0]"
   ]
  },
  {
   "cell_type": "code",
   "execution_count": 93,
   "metadata": {},
   "outputs": [
    {
     "name": "stdout",
     "output_type": "stream",
     "text": [
      "Number of Patients with Anaemia is 129.\n",
      "Number of Patients with Diabetes is 125.\n",
      "Number of Patients with High Blood Pressure is 105.\n"
     ]
    }
   ],
   "source": [
    "print(\"Number of Patients with Anaemia is {}.\".format(anaemia_patients))\n",
    "print(\"Number of Patients with Diabetes is {}.\".format(diabetes_patients))\n",
    "print(\"Number of Patients with High Blood Pressure is {}.\".format(high_bp_patients))"
   ]
  },
  {
   "cell_type": "markdown",
   "metadata": {},
   "source": [
    "### Q: How many patients had both (anaemia & diabetes) or (anaemia & high blood pressure) or (diabetes & high blood pressure)? And how many patients had all three?"
   ]
  },
  {
   "cell_type": "code",
   "execution_count": 94,
   "metadata": {},
   "outputs": [],
   "source": [
    "anaemia_diabetes = heart_failure_df[(heart_failure_df.anaemia == True) & (heart_failure_df.diabetes == True)].shape[0]\n",
    "anaemia_high_bp = heart_failure_df[(heart_failure_df.anaemia == True) & (heart_failure_df.high_blood_pressure == True)].shape[0]\n",
    "diabetes_high_bp = heart_failure_df[(heart_failure_df.high_blood_pressure == True) & (heart_failure_df.diabetes == True)].shape[0]   "
   ]
  },
  {
   "cell_type": "code",
   "execution_count": 95,
   "metadata": {},
   "outputs": [
    {
     "name": "stdout",
     "output_type": "stream",
     "text": [
      "Number of Patients with Anaemia and Diabetes is 53.\n",
      "Number of Patients with Anaemia and High Blood Pressure is 48.\n",
      "Number of Patients with Diabetes and High Blood Pressure is 43.\n"
     ]
    }
   ],
   "source": [
    "print(\"Number of Patients with Anaemia and Diabetes is {}.\".format(anaemia_diabetes))\n",
    "print(\"Number of Patients with Anaemia and High Blood Pressure is {}.\".format(anaemia_high_bp))\n",
    "print(\"Number of Patients with Diabetes and High Blood Pressure is {}.\".format(diabetes_high_bp))"
   ]
  },
  {
   "cell_type": "code",
   "execution_count": 96,
   "metadata": {},
   "outputs": [
    {
     "data": {
      "text/plain": [
       "17"
      ]
     },
     "execution_count": 96,
     "metadata": {},
     "output_type": "execute_result"
    }
   ],
   "source": [
    "all_three = heart_failure_df[(heart_failure_df.anaemia == True) & (heart_failure_df.diabetes == True) & (heart_failure_df.high_blood_pressure == True)].shape[0]\n",
    "all_three"
   ]
  },
  {
   "cell_type": "code",
   "execution_count": 97,
   "metadata": {},
   "outputs": [
    {
     "name": "stdout",
     "output_type": "stream",
     "text": [
      "Number of Patients with Anaemia, Diabetes and High Blood Pressure is 17.\n"
     ]
    }
   ],
   "source": [
    "print(\"Number of Patients with Anaemia, Diabetes and High Blood Pressure is {}.\".format(all_three))"
   ]
  },
  {
   "cell_type": "markdown",
   "metadata": {},
   "source": [
    "### Q: How many patients died during the follow-up period? out of them how many male and female patients are there?"
   ]
  },
  {
   "cell_type": "code",
   "execution_count": 98,
   "metadata": {},
   "outputs": [
    {
     "data": {
      "text/plain": [
       "96"
      ]
     },
     "execution_count": 98,
     "metadata": {},
     "output_type": "execute_result"
    }
   ],
   "source": [
    "heart_failure_df[heart_failure_df.patient_dead == True].shape[0]"
   ]
  },
  {
   "cell_type": "code",
   "execution_count": 99,
   "metadata": {},
   "outputs": [
    {
     "name": "stdout",
     "output_type": "stream",
     "text": [
      "Number of Patients died during follow-up period is 96.\n"
     ]
    }
   ],
   "source": [
    "print(\"Number of Patients died during follow-up period is {}.\".format(heart_failure_df[heart_failure_df.patient_dead == True].shape[0]))"
   ]
  },
  {
   "cell_type": "code",
   "execution_count": 100,
   "metadata": {},
   "outputs": [],
   "source": [
    "male_dead = heart_failure_df[(heart_failure_df.patient_dead == True) & (heart_failure_df.sex == 'Male')].shape[0]\n",
    "female_dead = heart_failure_df[(heart_failure_df.patient_dead == True) & (heart_failure_df.sex == 'Female')].shape[0]"
   ]
  },
  {
   "cell_type": "code",
   "execution_count": 101,
   "metadata": {},
   "outputs": [
    {
     "name": "stdout",
     "output_type": "stream",
     "text": [
      "Number of Male Patients died during follow-up period is 62.\n",
      "Number of Female Patients died during follow-up period is 34.\n"
     ]
    }
   ],
   "source": [
    "print(\"Number of Male Patients died during follow-up period is {}.\".format(male_dead))\n",
    "print(\"Number of Female Patients died during follow-up period is {}.\".format(female_dead))"
   ]
  },
  {
   "cell_type": "markdown",
   "metadata": {},
   "source": [
    "### Q: Which disease / abnormality is most common and least common among the heart failure patients? "
   ]
  },
  {
   "cell_type": "code",
   "execution_count": 102,
   "metadata": {},
   "outputs": [
    {
     "data": {
      "text/plain": [
       "Index(['age', 'anaemia', 'diabetes', 'ejection_fraction',\n",
       "       'high_blood_pressure', 'platelets', 'serum_creatinine', 'serum_sodium',\n",
       "       'sex', 'smoking', 'patient_dead', 'age_group', 'abnormal_ef',\n",
       "       'abnormal_platelets', 'abnormal_creatinine', 'abnormal_sodium'],\n",
       "      dtype='object')"
      ]
     },
     "execution_count": 102,
     "metadata": {},
     "output_type": "execute_result"
    }
   ],
   "source": [
    "heart_failure_df.columns"
   ]
  },
  {
   "cell_type": "code",
   "execution_count": 103,
   "metadata": {},
   "outputs": [
    {
     "name": "stdout",
     "output_type": "stream",
     "text": [
      "({'ejection_fraction': 261}, {'platelets': 47}, {'serum_creatinine': 102}, {'serum_sodium': 85}, {'anaemia': 129}, {'diabetes': 125}, {'high_blood_pressure': 105})\n",
      "261\n",
      "47\n"
     ]
    }
   ],
   "source": [
    "dict = ({heart_failure_df.columns[3]:abn_ef.shape[0]} , {heart_failure_df.columns[5]:abn_platelets.shape[0]} , {heart_failure_df.columns[6]:abn_creatinine.shape[0]}, {heart_failure_df.columns[7]: abn_sodium.shape[0]} , {heart_failure_df.columns[1]:anaemia_patients} , {heart_failure_df.columns[2]:diabetes_patients} , {heart_failure_df.columns[4]:high_bp_patients})\n",
    "print (dict)\n",
    "print (max(abn_ef.shape[0], abn_platelets.shape[0], abn_creatinine.shape[0], abn_sodium.shape[0], anaemia_patients , diabetes_patients , high_bp_patients )) \n",
    "print (min(abn_ef.shape[0], abn_platelets.shape[0], abn_creatinine.shape[0], abn_sodium.shape[0], anaemia_patients , diabetes_patients , high_bp_patients )) "
   ]
  },
  {
   "cell_type": "code",
   "execution_count": 104,
   "metadata": {},
   "outputs": [
    {
     "name": "stdout",
     "output_type": "stream",
     "text": [
      "The most common abnormality or disease among the heart failure patients is Ejection Fraction and 261 Patients had abnormal Ejection Fraction.\n"
     ]
    }
   ],
   "source": [
    "print(\"The most common abnormality or disease among the heart failure patients is Ejection Fraction and 261 Patients had abnormal Ejection Fraction.\")"
   ]
  },
  {
   "cell_type": "code",
   "execution_count": 105,
   "metadata": {},
   "outputs": [
    {
     "data": {
      "text/plain": [
       "47"
      ]
     },
     "execution_count": 105,
     "metadata": {},
     "output_type": "execute_result"
    }
   ],
   "source": [
    "heart_failure_df[(heart_failure_df.platelets < 150) | (heart_failure_df.platelets >400)].shape [0]"
   ]
  },
  {
   "cell_type": "code",
   "execution_count": 106,
   "metadata": {},
   "outputs": [
    {
     "name": "stdout",
     "output_type": "stream",
     "text": [
      "The least common abnormality or disease among the heart failure patients is Abnormal Platelets Count and 47 Patients had abnormal Platelets Count.\n"
     ]
    }
   ],
   "source": [
    "print(\"The least common abnormality or disease among the heart failure patients is Abnormal Platelets Count and 47 Patients had abnormal Platelets Count.\")"
   ]
  },
  {
   "cell_type": "markdown",
   "metadata": {},
   "source": [
    "### Q: Does smoking habit affects the life of a heart failure patient?"
   ]
  },
  {
   "cell_type": "code",
   "execution_count": 107,
   "metadata": {},
   "outputs": [
    {
     "data": {
      "text/plain": [
       "sex\n",
       "Female     4\n",
       "Male      92\n",
       "Name: smoking, dtype: int64"
      ]
     },
     "execution_count": 107,
     "metadata": {},
     "output_type": "execute_result"
    }
   ],
   "source": [
    "smokers"
   ]
  },
  {
   "cell_type": "code",
   "execution_count": 108,
   "metadata": {},
   "outputs": [
    {
     "data": {
      "image/png": "[encoded data removed]",
      "text/plain": [
       "<Figure size 648x360 with 1 Axes>"
      ]
     },
     "metadata": {},
     "output_type": "display_data"
    }
   ],
   "source": [
    "plt.title('Dead & Alive Patients with Smoking Habit')\n",
    "plt.xlabel('Age of Patients(Years)')\n",
    "plt.ylabel('Alive or Dead')\n",
    "sns.scatterplot(x = 'age', y = 'patient_dead', hue = 'smoking', data = heart_failure_df);"
   ]
  },
  {
   "cell_type": "markdown",
   "metadata": {},
   "source": [
    "From the above result, we can conclude that the number of patients with smoking habit died during follow-up period is less when compared to alive patients with smoking habit. It indicates that smoking habit has very less impact on the life of a heart failure patient. \n",
    "Totally 30 smokers died during the follow-up period, let's check the records of individual patients to analyze. "
   ]
  },
  {
   "cell_type": "code",
   "execution_count": 112,
   "metadata": {},
   "outputs": [
    {
     "data": {
      "text/html": [
       "<div>\n",
       "<style scoped>\n",
       "    .dataframe tbody tr th:only-of-type {\n",
       "        vertical-align: middle;\n",
       "    }\n",
       "\n",
       "    .dataframe tbody tr th {\n",
       "        vertical-align: top;\n",
       "    }\n",
       "\n",
       "    .dataframe thead th {\n",
       "        text-align: right;\n",
       "    }\n",
       "</style>\n",
       "<table border=\"1\" class=\"dataframe\">\n",
       "  <thead>\n",
       "    <tr style=\"text-align: right;\">\n",
       "      <th></th>\n",
       "      <th>age</th>\n",
       "      <th>anaemia</th>\n",
       "      <th>diabetes</th>\n",
       "      <th>ejection_fraction</th>\n",
       "      <th>high_blood_pressure</th>\n",
       "      <th>platelets</th>\n",
       "      <th>serum_creatinine</th>\n",
       "      <th>serum_sodium</th>\n",
       "      <th>sex</th>\n",
       "      <th>smoking</th>\n",
       "      <th>patient_dead</th>\n",
       "      <th>age_group</th>\n",
       "      <th>abnormal_ef</th>\n",
       "      <th>abnormal_platelets</th>\n",
       "      <th>abnormal_creatinine</th>\n",
       "      <th>abnormal_sodium</th>\n",
       "    </tr>\n",
       "  </thead>\n",
       "  <tbody>\n",
       "    <tr>\n",
       "      <th>2</th>\n",
       "      <td>65</td>\n",
       "      <td>False</td>\n",
       "      <td>False</td>\n",
       "      <td>20</td>\n",
       "      <td>False</td>\n",
       "      <td>162</td>\n",
       "      <td>1.30</td>\n",
       "      <td>129</td>\n",
       "      <td>Male</td>\n",
       "      <td>True</td>\n",
       "      <td>True</td>\n",
       "      <td>65-70</td>\n",
       "      <td>Abormal</td>\n",
       "      <td>Normal</td>\n",
       "      <td>Abnormal</td>\n",
       "      <td>Abnormal</td>\n",
       "    </tr>\n",
       "    <tr>\n",
       "      <th>5</th>\n",
       "      <td>90</td>\n",
       "      <td>True</td>\n",
       "      <td>False</td>\n",
       "      <td>40</td>\n",
       "      <td>True</td>\n",
       "      <td>204</td>\n",
       "      <td>2.10</td>\n",
       "      <td>132</td>\n",
       "      <td>Male</td>\n",
       "      <td>True</td>\n",
       "      <td>True</td>\n",
       "      <td>90-95</td>\n",
       "      <td>Abormal</td>\n",
       "      <td>Normal</td>\n",
       "      <td>Abnormal</td>\n",
       "      <td>Abnormal</td>\n",
       "    </tr>\n",
       "    <tr>\n",
       "      <th>7</th>\n",
       "      <td>60</td>\n",
       "      <td>True</td>\n",
       "      <td>True</td>\n",
       "      <td>60</td>\n",
       "      <td>False</td>\n",
       "      <td>454</td>\n",
       "      <td>1.10</td>\n",
       "      <td>131</td>\n",
       "      <td>Male</td>\n",
       "      <td>True</td>\n",
       "      <td>True</td>\n",
       "      <td>60-65</td>\n",
       "      <td>Normal</td>\n",
       "      <td>Abnormal</td>\n",
       "      <td>Normal</td>\n",
       "      <td>Abnormal</td>\n",
       "    </tr>\n",
       "    <tr>\n",
       "      <th>9</th>\n",
       "      <td>80</td>\n",
       "      <td>True</td>\n",
       "      <td>False</td>\n",
       "      <td>35</td>\n",
       "      <td>True</td>\n",
       "      <td>388</td>\n",
       "      <td>9.40</td>\n",
       "      <td>133</td>\n",
       "      <td>Male</td>\n",
       "      <td>True</td>\n",
       "      <td>True</td>\n",
       "      <td>80-85</td>\n",
       "      <td>Abormal</td>\n",
       "      <td>Normal</td>\n",
       "      <td>Abnormal</td>\n",
       "      <td>Abnormal</td>\n",
       "    </tr>\n",
       "    <tr>\n",
       "      <th>10</th>\n",
       "      <td>75</td>\n",
       "      <td>True</td>\n",
       "      <td>False</td>\n",
       "      <td>38</td>\n",
       "      <td>True</td>\n",
       "      <td>368</td>\n",
       "      <td>4.00</td>\n",
       "      <td>131</td>\n",
       "      <td>Male</td>\n",
       "      <td>True</td>\n",
       "      <td>True</td>\n",
       "      <td>75-80</td>\n",
       "      <td>Abormal</td>\n",
       "      <td>Normal</td>\n",
       "      <td>Abnormal</td>\n",
       "      <td>Abnormal</td>\n",
       "    </tr>\n",
       "    <tr>\n",
       "      <th>11</th>\n",
       "      <td>62</td>\n",
       "      <td>False</td>\n",
       "      <td>False</td>\n",
       "      <td>25</td>\n",
       "      <td>True</td>\n",
       "      <td>253</td>\n",
       "      <td>0.90</td>\n",
       "      <td>140</td>\n",
       "      <td>Male</td>\n",
       "      <td>True</td>\n",
       "      <td>True</td>\n",
       "      <td>60-65</td>\n",
       "      <td>Abormal</td>\n",
       "      <td>Normal</td>\n",
       "      <td>Normal</td>\n",
       "      <td>Normal</td>\n",
       "    </tr>\n",
       "    <tr>\n",
       "      <th>22</th>\n",
       "      <td>68</td>\n",
       "      <td>True</td>\n",
       "      <td>False</td>\n",
       "      <td>35</td>\n",
       "      <td>True</td>\n",
       "      <td>289</td>\n",
       "      <td>0.90</td>\n",
       "      <td>140</td>\n",
       "      <td>Male</td>\n",
       "      <td>True</td>\n",
       "      <td>True</td>\n",
       "      <td>65-70</td>\n",
       "      <td>Abormal</td>\n",
       "      <td>Normal</td>\n",
       "      <td>Normal</td>\n",
       "      <td>Normal</td>\n",
       "    </tr>\n",
       "    <tr>\n",
       "      <th>25</th>\n",
       "      <td>80</td>\n",
       "      <td>False</td>\n",
       "      <td>True</td>\n",
       "      <td>38</td>\n",
       "      <td>False</td>\n",
       "      <td>149</td>\n",
       "      <td>1.90</td>\n",
       "      <td>144</td>\n",
       "      <td>Male</td>\n",
       "      <td>True</td>\n",
       "      <td>True</td>\n",
       "      <td>80-85</td>\n",
       "      <td>Abormal</td>\n",
       "      <td>Abnormal</td>\n",
       "      <td>Abnormal</td>\n",
       "      <td>Normal</td>\n",
       "    </tr>\n",
       "    <tr>\n",
       "      <th>27</th>\n",
       "      <td>70</td>\n",
       "      <td>False</td>\n",
       "      <td>True</td>\n",
       "      <td>45</td>\n",
       "      <td>True</td>\n",
       "      <td>284</td>\n",
       "      <td>1.30</td>\n",
       "      <td>136</td>\n",
       "      <td>Male</td>\n",
       "      <td>True</td>\n",
       "      <td>True</td>\n",
       "      <td>70-75</td>\n",
       "      <td>Abormal</td>\n",
       "      <td>Normal</td>\n",
       "      <td>Abnormal</td>\n",
       "      <td>Normal</td>\n",
       "    </tr>\n",
       "    <tr>\n",
       "      <th>29</th>\n",
       "      <td>82</td>\n",
       "      <td>False</td>\n",
       "      <td>True</td>\n",
       "      <td>30</td>\n",
       "      <td>False</td>\n",
       "      <td>200</td>\n",
       "      <td>1.20</td>\n",
       "      <td>132</td>\n",
       "      <td>Male</td>\n",
       "      <td>True</td>\n",
       "      <td>True</td>\n",
       "      <td>80-85</td>\n",
       "      <td>Abormal</td>\n",
       "      <td>Normal</td>\n",
       "      <td>Normal</td>\n",
       "      <td>Abnormal</td>\n",
       "    </tr>\n",
       "    <tr>\n",
       "      <th>40</th>\n",
       "      <td>70</td>\n",
       "      <td>False</td>\n",
       "      <td>False</td>\n",
       "      <td>20</td>\n",
       "      <td>True</td>\n",
       "      <td>263</td>\n",
       "      <td>1.83</td>\n",
       "      <td>134</td>\n",
       "      <td>Male</td>\n",
       "      <td>True</td>\n",
       "      <td>True</td>\n",
       "      <td>70-75</td>\n",
       "      <td>Abormal</td>\n",
       "      <td>Normal</td>\n",
       "      <td>Abnormal</td>\n",
       "      <td>Abnormal</td>\n",
       "    </tr>\n",
       "    <tr>\n",
       "      <th>41</th>\n",
       "      <td>50</td>\n",
       "      <td>False</td>\n",
       "      <td>True</td>\n",
       "      <td>30</td>\n",
       "      <td>True</td>\n",
       "      <td>153</td>\n",
       "      <td>1.20</td>\n",
       "      <td>136</td>\n",
       "      <td>Female</td>\n",
       "      <td>True</td>\n",
       "      <td>True</td>\n",
       "      <td>50-55</td>\n",
       "      <td>Abormal</td>\n",
       "      <td>Normal</td>\n",
       "      <td>Normal</td>\n",
       "      <td>Normal</td>\n",
       "    </tr>\n",
       "    <tr>\n",
       "      <th>42</th>\n",
       "      <td>70</td>\n",
       "      <td>False</td>\n",
       "      <td>True</td>\n",
       "      <td>45</td>\n",
       "      <td>True</td>\n",
       "      <td>185</td>\n",
       "      <td>1.20</td>\n",
       "      <td>139</td>\n",
       "      <td>Male</td>\n",
       "      <td>True</td>\n",
       "      <td>True</td>\n",
       "      <td>70-75</td>\n",
       "      <td>Abormal</td>\n",
       "      <td>Normal</td>\n",
       "      <td>Normal</td>\n",
       "      <td>Normal</td>\n",
       "    </tr>\n",
       "    <tr>\n",
       "      <th>45</th>\n",
       "      <td>50</td>\n",
       "      <td>False</td>\n",
       "      <td>True</td>\n",
       "      <td>38</td>\n",
       "      <td>False</td>\n",
       "      <td>310</td>\n",
       "      <td>1.90</td>\n",
       "      <td>135</td>\n",
       "      <td>Male</td>\n",
       "      <td>True</td>\n",
       "      <td>True</td>\n",
       "      <td>50-55</td>\n",
       "      <td>Abormal</td>\n",
       "      <td>Normal</td>\n",
       "      <td>Abnormal</td>\n",
       "      <td>Normal</td>\n",
       "    </tr>\n",
       "    <tr>\n",
       "      <th>47</th>\n",
       "      <td>60</td>\n",
       "      <td>False</td>\n",
       "      <td>True</td>\n",
       "      <td>38</td>\n",
       "      <td>True</td>\n",
       "      <td>451</td>\n",
       "      <td>0.60</td>\n",
       "      <td>138</td>\n",
       "      <td>Male</td>\n",
       "      <td>True</td>\n",
       "      <td>True</td>\n",
       "      <td>60-65</td>\n",
       "      <td>Abormal</td>\n",
       "      <td>Abnormal</td>\n",
       "      <td>Normal</td>\n",
       "      <td>Normal</td>\n",
       "    </tr>\n",
       "    <tr>\n",
       "      <th>54</th>\n",
       "      <td>60</td>\n",
       "      <td>True</td>\n",
       "      <td>True</td>\n",
       "      <td>38</td>\n",
       "      <td>False</td>\n",
       "      <td>255</td>\n",
       "      <td>2.20</td>\n",
       "      <td>132</td>\n",
       "      <td>Female</td>\n",
       "      <td>True</td>\n",
       "      <td>True</td>\n",
       "      <td>60-65</td>\n",
       "      <td>Abormal</td>\n",
       "      <td>Normal</td>\n",
       "      <td>Abnormal</td>\n",
       "      <td>Abnormal</td>\n",
       "    </tr>\n",
       "    <tr>\n",
       "      <th>58</th>\n",
       "      <td>49</td>\n",
       "      <td>False</td>\n",
       "      <td>False</td>\n",
       "      <td>20</td>\n",
       "      <td>True</td>\n",
       "      <td>319</td>\n",
       "      <td>1.10</td>\n",
       "      <td>136</td>\n",
       "      <td>Male</td>\n",
       "      <td>True</td>\n",
       "      <td>True</td>\n",
       "      <td>45-50</td>\n",
       "      <td>Abormal</td>\n",
       "      <td>Normal</td>\n",
       "      <td>Normal</td>\n",
       "      <td>Normal</td>\n",
       "    </tr>\n",
       "    <tr>\n",
       "      <th>59</th>\n",
       "      <td>72</td>\n",
       "      <td>False</td>\n",
       "      <td>True</td>\n",
       "      <td>20</td>\n",
       "      <td>True</td>\n",
       "      <td>254</td>\n",
       "      <td>1.30</td>\n",
       "      <td>136</td>\n",
       "      <td>Male</td>\n",
       "      <td>True</td>\n",
       "      <td>True</td>\n",
       "      <td>70-75</td>\n",
       "      <td>Abormal</td>\n",
       "      <td>Normal</td>\n",
       "      <td>Abnormal</td>\n",
       "      <td>Normal</td>\n",
       "    </tr>\n",
       "    <tr>\n",
       "      <th>65</th>\n",
       "      <td>60</td>\n",
       "      <td>False</td>\n",
       "      <td>False</td>\n",
       "      <td>20</td>\n",
       "      <td>False</td>\n",
       "      <td>119</td>\n",
       "      <td>2.90</td>\n",
       "      <td>127</td>\n",
       "      <td>Male</td>\n",
       "      <td>True</td>\n",
       "      <td>True</td>\n",
       "      <td>60-65</td>\n",
       "      <td>Abormal</td>\n",
       "      <td>Abnormal</td>\n",
       "      <td>Abnormal</td>\n",
       "      <td>Abnormal</td>\n",
       "    </tr>\n",
       "    <tr>\n",
       "      <th>67</th>\n",
       "      <td>72</td>\n",
       "      <td>True</td>\n",
       "      <td>False</td>\n",
       "      <td>25</td>\n",
       "      <td>False</td>\n",
       "      <td>274</td>\n",
       "      <td>1.00</td>\n",
       "      <td>140</td>\n",
       "      <td>Male</td>\n",
       "      <td>True</td>\n",
       "      <td>True</td>\n",
       "      <td>70-75</td>\n",
       "      <td>Abormal</td>\n",
       "      <td>Normal</td>\n",
       "      <td>Normal</td>\n",
       "      <td>Normal</td>\n",
       "    </tr>\n",
       "    <tr>\n",
       "      <th>72</th>\n",
       "      <td>85</td>\n",
       "      <td>False</td>\n",
       "      <td>False</td>\n",
       "      <td>35</td>\n",
       "      <td>False</td>\n",
       "      <td>243</td>\n",
       "      <td>1.00</td>\n",
       "      <td>132</td>\n",
       "      <td>Male</td>\n",
       "      <td>True</td>\n",
       "      <td>True</td>\n",
       "      <td>85-90</td>\n",
       "      <td>Abormal</td>\n",
       "      <td>Normal</td>\n",
       "      <td>Normal</td>\n",
       "      <td>Abnormal</td>\n",
       "    </tr>\n",
       "    <tr>\n",
       "      <th>74</th>\n",
       "      <td>69</td>\n",
       "      <td>False</td>\n",
       "      <td>False</td>\n",
       "      <td>20</td>\n",
       "      <td>False</td>\n",
       "      <td>266</td>\n",
       "      <td>1.20</td>\n",
       "      <td>134</td>\n",
       "      <td>Male</td>\n",
       "      <td>True</td>\n",
       "      <td>True</td>\n",
       "      <td>65-70</td>\n",
       "      <td>Abormal</td>\n",
       "      <td>Normal</td>\n",
       "      <td>Normal</td>\n",
       "      <td>Abnormal</td>\n",
       "    </tr>\n",
       "    <tr>\n",
       "      <th>75</th>\n",
       "      <td>60</td>\n",
       "      <td>True</td>\n",
       "      <td>False</td>\n",
       "      <td>20</td>\n",
       "      <td>False</td>\n",
       "      <td>204</td>\n",
       "      <td>0.70</td>\n",
       "      <td>139</td>\n",
       "      <td>Male</td>\n",
       "      <td>True</td>\n",
       "      <td>True</td>\n",
       "      <td>60-65</td>\n",
       "      <td>Abormal</td>\n",
       "      <td>Normal</td>\n",
       "      <td>Normal</td>\n",
       "      <td>Normal</td>\n",
       "    </tr>\n",
       "    <tr>\n",
       "      <th>105</th>\n",
       "      <td>72</td>\n",
       "      <td>True</td>\n",
       "      <td>False</td>\n",
       "      <td>30</td>\n",
       "      <td>True</td>\n",
       "      <td>621</td>\n",
       "      <td>1.70</td>\n",
       "      <td>138</td>\n",
       "      <td>Female</td>\n",
       "      <td>True</td>\n",
       "      <td>True</td>\n",
       "      <td>70-75</td>\n",
       "      <td>Abormal</td>\n",
       "      <td>Abnormal</td>\n",
       "      <td>Abnormal</td>\n",
       "      <td>Normal</td>\n",
       "    </tr>\n",
       "    <tr>\n",
       "      <th>110</th>\n",
       "      <td>85</td>\n",
       "      <td>False</td>\n",
       "      <td>False</td>\n",
       "      <td>60</td>\n",
       "      <td>False</td>\n",
       "      <td>306</td>\n",
       "      <td>1.20</td>\n",
       "      <td>132</td>\n",
       "      <td>Male</td>\n",
       "      <td>True</td>\n",
       "      <td>True</td>\n",
       "      <td>85-90</td>\n",
       "      <td>Normal</td>\n",
       "      <td>Normal</td>\n",
       "      <td>Normal</td>\n",
       "      <td>Abnormal</td>\n",
       "    </tr>\n",
       "    <tr>\n",
       "      <th>144</th>\n",
       "      <td>72</td>\n",
       "      <td>True</td>\n",
       "      <td>False</td>\n",
       "      <td>25</td>\n",
       "      <td>True</td>\n",
       "      <td>338</td>\n",
       "      <td>1.70</td>\n",
       "      <td>139</td>\n",
       "      <td>Male</td>\n",
       "      <td>True</td>\n",
       "      <td>True</td>\n",
       "      <td>70-75</td>\n",
       "      <td>Abormal</td>\n",
       "      <td>Normal</td>\n",
       "      <td>Abnormal</td>\n",
       "      <td>Normal</td>\n",
       "    </tr>\n",
       "    <tr>\n",
       "      <th>181</th>\n",
       "      <td>59</td>\n",
       "      <td>True</td>\n",
       "      <td>True</td>\n",
       "      <td>25</td>\n",
       "      <td>False</td>\n",
       "      <td>221</td>\n",
       "      <td>1.00</td>\n",
       "      <td>136</td>\n",
       "      <td>Male</td>\n",
       "      <td>True</td>\n",
       "      <td>True</td>\n",
       "      <td>55-60</td>\n",
       "      <td>Abormal</td>\n",
       "      <td>Normal</td>\n",
       "      <td>Normal</td>\n",
       "      <td>Normal</td>\n",
       "    </tr>\n",
       "    <tr>\n",
       "      <th>182</th>\n",
       "      <td>65</td>\n",
       "      <td>False</td>\n",
       "      <td>True</td>\n",
       "      <td>25</td>\n",
       "      <td>False</td>\n",
       "      <td>265</td>\n",
       "      <td>1.20</td>\n",
       "      <td>136</td>\n",
       "      <td>Male</td>\n",
       "      <td>True</td>\n",
       "      <td>True</td>\n",
       "      <td>65-70</td>\n",
       "      <td>Abormal</td>\n",
       "      <td>Normal</td>\n",
       "      <td>Normal</td>\n",
       "      <td>Normal</td>\n",
       "    </tr>\n",
       "    <tr>\n",
       "      <th>184</th>\n",
       "      <td>58</td>\n",
       "      <td>True</td>\n",
       "      <td>False</td>\n",
       "      <td>25</td>\n",
       "      <td>False</td>\n",
       "      <td>219</td>\n",
       "      <td>1.20</td>\n",
       "      <td>137</td>\n",
       "      <td>Male</td>\n",
       "      <td>True</td>\n",
       "      <td>True</td>\n",
       "      <td>55-60</td>\n",
       "      <td>Abormal</td>\n",
       "      <td>Normal</td>\n",
       "      <td>Normal</td>\n",
       "      <td>Normal</td>\n",
       "    </tr>\n",
       "    <tr>\n",
       "      <th>266</th>\n",
       "      <td>55</td>\n",
       "      <td>False</td>\n",
       "      <td>False</td>\n",
       "      <td>20</td>\n",
       "      <td>False</td>\n",
       "      <td>263</td>\n",
       "      <td>1.83</td>\n",
       "      <td>134</td>\n",
       "      <td>Male</td>\n",
       "      <td>True</td>\n",
       "      <td>True</td>\n",
       "      <td>55-60</td>\n",
       "      <td>Abormal</td>\n",
       "      <td>Normal</td>\n",
       "      <td>Abnormal</td>\n",
       "      <td>Abnormal</td>\n",
       "    </tr>\n",
       "  </tbody>\n",
       "</table>\n",
       "</div>"
      ],
      "text/plain": [
       "     age  anaemia  diabetes  ejection_fraction  high_blood_pressure  \\\n",
       "2     65    False     False                 20                False   \n",
       "5     90     True     False                 40                 True   \n",
       "7     60     True      True                 60                False   \n",
       "9     80     True     False                 35                 True   \n",
       "10    75     True     False                 38                 True   \n",
       "11    62    False     False                 25                 True   \n",
       "22    68     True     False                 35                 True   \n",
       "25    80    False      True                 38                False   \n",
       "27    70    False      True                 45                 True   \n",
       "29    82    False      True                 30                False   \n",
       "40    70    False     False                 20                 True   \n",
       "41    50    False      True                 30                 True   \n",
       "42    70    False      True                 45                 True   \n",
       "45    50    False      True                 38                False   \n",
       "47    60    False      True                 38                 True   \n",
       "54    60     True      True                 38                False   \n",
       "58    49    False     False                 20                 True   \n",
       "59    72    False      True                 20                 True   \n",
       "65    60    False     False                 20                False   \n",
       "67    72     True     False                 25                False   \n",
       "72    85    False     False                 35                False   \n",
       "74    69    False     False                 20                False   \n",
       "75    60     True     False                 20                False   \n",
       "105   72     True     False                 30                 True   \n",
       "110   85    False     False                 60                False   \n",
       "144   72     True     False                 25                 True   \n",
       "181   59     True      True                 25                False   \n",
       "182   65    False      True                 25                False   \n",
       "184   58     True     False                 25                False   \n",
       "266   55    False     False                 20                False   \n",
       "\n",
       "     platelets  serum_creatinine  serum_sodium     sex  smoking  patient_dead  \\\n",
       "2          162              1.30           129    Male     True          True   \n",
       "5          204              2.10           132    Male     True          True   \n",
       "7          454              1.10           131    Male     True          True   \n",
       "9          388              9.40           133    Male     True          True   \n",
       "10         368              4.00           131    Male     True          True   \n",
       "11         253              0.90           140    Male     True          True   \n",
       "22         289              0.90           140    Male     True          True   \n",
       "25         149              1.90           144    Male     True          True   \n",
       "27         284              1.30           136    Male     True          True   \n",
       "29         200              1.20           132    Male     True          True   \n",
       "40         263              1.83           134    Male     True          True   \n",
       "41         153              1.20           136  Female     True          True   \n",
       "42         185              1.20           139    Male     True          True   \n",
       "45         310              1.90           135    Male     True          True   \n",
       "47         451              0.60           138    Male     True          True   \n",
       "54         255              2.20           132  Female     True          True   \n",
       "58         319              1.10           136    Male     True          True   \n",
       "59         254              1.30           136    Male     True          True   \n",
       "65         119              2.90           127    Male     True          True   \n",
       "67         274              1.00           140    Male     True          True   \n",
       "72         243              1.00           132    Male     True          True   \n",
       "74         266              1.20           134    Male     True          True   \n",
       "75         204              0.70           139    Male     True          True   \n",
       "105        621              1.70           138  Female     True          True   \n",
       "110        306              1.20           132    Male     True          True   \n",
       "144        338              1.70           139    Male     True          True   \n",
       "181        221              1.00           136    Male     True          True   \n",
       "182        265              1.20           136    Male     True          True   \n",
       "184        219              1.20           137    Male     True          True   \n",
       "266        263              1.83           134    Male     True          True   \n",
       "\n",
       "    age_group abnormal_ef abnormal_platelets abnormal_creatinine  \\\n",
       "2       65-70     Abormal             Normal            Abnormal   \n",
       "5       90-95     Abormal             Normal            Abnormal   \n",
       "7       60-65      Normal           Abnormal              Normal   \n",
       "9       80-85     Abormal             Normal            Abnormal   \n",
       "10      75-80     Abormal             Normal            Abnormal   \n",
       "11      60-65     Abormal             Normal              Normal   \n",
       "22      65-70     Abormal             Normal              Normal   \n",
       "25      80-85     Abormal           Abnormal            Abnormal   \n",
       "27      70-75     Abormal             Normal            Abnormal   \n",
       "29      80-85     Abormal             Normal              Normal   \n",
       "40      70-75     Abormal             Normal            Abnormal   \n",
       "41      50-55     Abormal             Normal              Normal   \n",
       "42      70-75     Abormal             Normal              Normal   \n",
       "45      50-55     Abormal             Normal            Abnormal   \n",
       "47      60-65     Abormal           Abnormal              Normal   \n",
       "54      60-65     Abormal             Normal            Abnormal   \n",
       "58      45-50     Abormal             Normal              Normal   \n",
       "59      70-75     Abormal             Normal            Abnormal   \n",
       "65      60-65     Abormal           Abnormal            Abnormal   \n",
       "67      70-75     Abormal             Normal              Normal   \n",
       "72      85-90     Abormal             Normal              Normal   \n",
       "74      65-70     Abormal             Normal              Normal   \n",
       "75      60-65     Abormal             Normal              Normal   \n",
       "105     70-75     Abormal           Abnormal            Abnormal   \n",
       "110     85-90      Normal             Normal              Normal   \n",
       "144     70-75     Abormal             Normal            Abnormal   \n",
       "181     55-60     Abormal             Normal              Normal   \n",
       "182     65-70     Abormal             Normal              Normal   \n",
       "184     55-60     Abormal             Normal              Normal   \n",
       "266     55-60     Abormal             Normal            Abnormal   \n",
       "\n",
       "    abnormal_sodium  \n",
       "2          Abnormal  \n",
       "5          Abnormal  \n",
       "7          Abnormal  \n",
       "9          Abnormal  \n",
       "10         Abnormal  \n",
       "11           Normal  \n",
       "22           Normal  \n",
       "25           Normal  \n",
       "27           Normal  \n",
       "29         Abnormal  \n",
       "40         Abnormal  \n",
       "41           Normal  \n",
       "42           Normal  \n",
       "45           Normal  \n",
       "47           Normal  \n",
       "54         Abnormal  \n",
       "58           Normal  \n",
       "59           Normal  \n",
       "65         Abnormal  \n",
       "67           Normal  \n",
       "72         Abnormal  \n",
       "74         Abnormal  \n",
       "75           Normal  \n",
       "105          Normal  \n",
       "110        Abnormal  \n",
       "144          Normal  \n",
       "181          Normal  \n",
       "182          Normal  \n",
       "184          Normal  \n",
       "266        Abnormal  "
      ]
     },
     "execution_count": 112,
     "metadata": {},
     "output_type": "execute_result"
    }
   ],
   "source": [
    "heart_failure_df [(heart_failure_df.patient_dead == True) & (heart_failure_df.smoking == True )]"
   ]
  },
  {
   "cell_type": "code",
   "execution_count": 113,
   "metadata": {},
   "outputs": [
    {
     "data": {
      "text/plain": [
       "(2, 16)"
      ]
     },
     "execution_count": 113,
     "metadata": {},
     "output_type": "execute_result"
    }
   ],
   "source": [
    "heart_failure_df [(heart_failure_df.patient_dead == True) & (heart_failure_df.smoking == True ) & (heart_failure_df.abnormal_ef == 'Normal')].shape "
   ]
  },
  {
   "cell_type": "code",
   "execution_count": 114,
   "metadata": {},
   "outputs": [
    {
     "data": {
      "text/plain": [
       "(16, 16)"
      ]
     },
     "execution_count": 114,
     "metadata": {},
     "output_type": "execute_result"
    }
   ],
   "source": [
    "heart_failure_df [(heart_failure_df.patient_dead == True) & (heart_failure_df.smoking == True ) & (heart_failure_df.abnormal_creatinine == 'Normal')].shape "
   ]
  },
  {
   "cell_type": "markdown",
   "metadata": {},
   "source": [
    "Since, we already know that the most common factor among the heart failure patients was Ejection Fraction followed by abnormal creatinine level in the blood. 2 Patients with smoking habit died, though they had Normal Ejection Fraction and 16 Patients died with smoking habit, though they had Normal Creatinine Level in the blood.\n",
    "\n",
    "So, we can conclude that the smoking habit surely has little impact on the life of a heart failure patient."
   ]
  },
  {
   "cell_type": "markdown",
   "metadata": {},
   "source": [
    "## Inferences and Conclusions\n",
    "\n",
    "We've drawn many inferences from the survey. Here's a summary of a few of them:\n",
    "<ul style='text-align:justify;'><li>\n",
    "Based on the recorded patients gender, we can infer that the dataset is slightly imbalanced, since only 35.1% of Patients were Female.</li>\n",
    "<li>We have more number of patients under 60-65 age group and the next place goes to 50-55 age group.  And the number of patients recorded starts declining from 65-70 age group,  it's obvious since the life expectancy of a person in Pakistan in 2015 was approximately 67 years.</li>\n",
    "\n",
    "<li>32.1% of patients died during the follow-up period. This might be because the data mentioned in our data frame corresponds to only the certain period of time (April'15 - December'15) and more number of patients might have died after this period (which isn't recorded).</li>\n",
    "\n",
    "<li>Maximum patients died (during the follow-up period is) under 60-65 age group (i.e 15 Patients). It's obvious, since we have more number of patients in 60-65 age group. And the proportion of patients died starts increasing from 65-70 age group and the number of patients died is more than alive patients in the age group of 80-85, 85-90 and 90-95. This is because over the time, the body’s immune system naturally becomes less capable of handling new threats, such as viruses including novel corona virus. This increases the risk of having issues with various illnesses which ultimately leads to their end.</li>\n",
    "\n",
    "<li>The proportion of male and female patients died during the follow-up period is almost equal (i.e ~32%).</li>\n",
    "\n",
    "<li>The abnormality in Ejection Fraction(EF) is the most common factor among the heart failure patients. Abnormal Ejection Fraction is followed by the abnormal creatinine and sodium level in the blood respectively, the factor which is least common among the heart failure patients is abnormal Platelets Count (i.e only 47 Patients).</li>\n",
    "\n",
    "<li>No medical record values have been normally distributed. Platelets count, Ejection Fraction and Creatinine Level are right skewed and Sodium Level is left skewed.</li>\n",
    "\n",
    "<li>The most common abnormality or disease among the heart failure patients is Ejection Fraction and 261 Patients had abnormal Ejection Fraction.</li>\n",
    "\n",
    "<li>The least common abnormality or disease among the heart failure patients is Abnormal Platelets Count and 47 Patients had abnormal Platelets Count.</li>\n",
    "\n",
    "<li>Though they had normal ejection fraction and normal creatinine level in the blood, some patients with smoking habit died. So, we can conclude that the smoking habit has little impact on the life expectancy of a heart failure patient.</li> </ul>"
   ]
  },
  {
   "cell_type": "markdown",
   "metadata": {},
   "source": [
    "## References and Future work\n",
    "### References\n",
    "Check out the following resources to learn more about the dataset, attributes and tools used in this notebook:\n",
    "\n",
    "Heart Failure Clinical Records Dataset in Kaggle: https://www.kaggle.com/andrewmvd/heart-failure-clinical-data\n",
    "\n",
    "Advanced study in Heart Failure Patients Dataset: https://bmcmedinformdecismak.biomedcentral.com/articles/10.1186/s12911-020-1023-5\n",
    "\n",
    "Attributes Information Table: https://bmcmedinformdecismak.biomedcentral.com/articles/10.1186/s12911-020-1023-5/tables/1\n",
    "\n",
    "Ejection Fraction: https://my.clevelandclinic.org/health/articles/16950-ejection-fraction\n",
    "\n",
    "Platelets: https://www.ucsfhealth.org/medical-tests/platelet-count\n",
    "\n",
    "Serum Creatinine: https://www.medicinenet.com/creatinine_blood_test/article.htm\n",
    "\n",
    "Serum Sodium: https://www.healthcheckup.com/general/normal-sodium-levels-in-blood/\n",
    "\n",
    "\n",
    "Pandas user guide: https://pandas.pydata.org/docs/user_guide/index.html\n",
    "\n",
    "Matplotlib user guide: https://matplotlib.org/3.3.1/users/index.html\n",
    "\n",
    "Seaborn user guide & tutorial: https://seaborn.pydata.org/tutorial.html\n",
    "\n",
    "opendatasets Python library: https://github.com/JovianML/opendatasets\n",
    "\n",
    "Data Visualization in Python: https://medium.com/@siddhardhan23/data-visualization-in-python-a90ddb706b23"
   ]
  },
  {
   "cell_type": "markdown",
   "metadata": {},
   "source": [
    "### Future Work\n",
    "\n",
    "  <p style='text-align:justify;'> There are a lot of improvements we can make to our project in the future with the help of necessary tools and datasets. Here are some of the things we could do in enhancing our project:</p>\n",
    "\n",
    "<ul style='text-align:justify;' ><li>Analyze what is the most common factor among heart failure patients to confirm our findings, using data gathered from all over the world on heart failure patients</li>\n",
    "\n",
    "<li>Determine the number of patients who died based on their abnormality and disease. For example: Number of Patients who died with Anaemia and Diabetes, Number of Patients who died with Abnormal Ejection Fraction, High Blood Pressure, and Abnormal Creatinine Level.</li>\n",
    "\n",
    "<li>Study further about the clinical records like 'Ejection Fraction' and 'Creatinine Level' and how they are interrelated.</li>\n",
    "\n",
    "<li>Predict the life expectancy of heart failure patients through machine learning models.</li></ul>"
   ]
  },
  {
   "cell_type": "code",
   "execution_count": null,
   "metadata": {},
   "outputs": [],
   "source": []
  }
 ],
 "metadata": {
  "kernelspec": {
   "display_name": "Python 3",
   "language": "python",
   "name": "python3"
  },
  "language_info": {
   "codemirror_mode": {
    "name": "ipython",
    "version": 3
   },
   "file_extension": ".py",
   "mimetype": "text/x-python",
   "name": "python",
   "nbconvert_exporter": "python",
   "pygments_lexer": "ipython3",
   "version": "3.8.5"
  }
 },
 "nbformat": 4,
 "nbformat_minor": 4
}
